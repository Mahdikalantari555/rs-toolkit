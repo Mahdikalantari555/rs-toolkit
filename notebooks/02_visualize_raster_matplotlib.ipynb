{
 "cells": [
  {
   "cell_type": "markdown",
   "metadata": {},
   "source": [
    "# Visualizing Raster Data with Matplotlib\n",
    "\n",
    "This notebook demonstrates how to visualize raster data using the `matplotlib` library in Python. Building on the previous notebook (`01_open_raster_with_rasterio.ipynb`), we will load a raster file with `rasterio` and create visualizations for both single-band and multi-band rasters. This is a fundamental skill in remote sensing for exploring satellite imagery, digital elevation models (DEMs), or other geospatial data.\n",
    "\n",
    "## Prerequisites\n",
    "- Install required libraries: `rasterio`, `matplotlib`, `numpy` (listed in `requirements.txt`).\n",
    "- A sample GeoTIFF file (e.g., `sample.tif`). Replace the file path with your own raster file (e.g., a Sentinel-2 image or DEM).\n",
    "\n",
    "## Learning Objectives\n",
    "- Visualize single-band raster data (e.g., grayscale images).\n",
    "- Visualize multi-band raster data (e.g., RGB composites).\n",
    "- Customize visualizations with titles, colorbars, and colormaps.\n",
    "- Understand how to handle raster data for display in remote sensing workflows."
   ]
  },
  {
   "cell_type": "code",
   "execution_count": null,
   "metadata": {},
   "outputs": [],
   "source": [
    "# Import required libraries\n",
    "import rasterio\n",
    "import matplotlib.pyplot as plt\n",
    "import numpy as np"
   ]
  },
  {
   "cell_type": "markdown",
   "metadata": {},
   "source": [
    "## Step 1: Load the Raster File\n",
    "\n",
    "Use `rasterio` to open a GeoTIFF file. Replace `'sample.tif'` with the path to your own raster file. We’ll check the number of bands to determine whether it’s a single-band or multi-band raster."
   ]
  },
  {
   "cell_type": "code",
   "execution_count": null,
   "metadata": {},
   "outputs": [],
   "source": [
    "# Define the path to the raster file\n",
    "raster_path = 'sample.tif'\n",
    "\n",
    "# Open the raster file\n",
    "with rasterio.open(raster_path) as src:\n",
    "    # Read all bands\n",
    "    raster_data = src.read()  # Shape: (bands, height, width)\n",
    "    num_bands = src.count\n",
    "\n",
    "# Print basic information\n",
    "print(f'Number of Bands: {num_bands}')\n",
    "print(f'Shape of Raster Data: {raster_data.shape}')"
   ]
  },
  {
   "cell_type": "markdown",
   "metadata": {},
   "source": [
    "## Step 2: Visualize a Single-Band Raster\n",
    "\n",
    "For single-band rasters (e.g., a DEM or a single spectral band), we can visualize the data as a grayscale image using a suitable colormap. Let’s plot the first band."
   ]
  },
  {
   "cell_type": "code",
   "execution_count": null,
   "metadata": {},
   "outputs": [],
   "source": [
    "# Read the first band\n",
    "with rasterio.open(raster_path) as src:\n",
    "    band1 = src.read(1)  # Band indexing starts at 1 in rasterio\n",
    "\n",
    "# Create a plot\n",
    "plt.figure(figsize=(8, 8))\n",
    "plt.imshow(band1, cmap='gray')  # Use grayscale colormap\n",
    "plt.colorbar(label='Pixel Value')\n",
    "plt.title('Single-Band Raster Visualization')\n",
    "plt.xlabel('Column')\n",
    "plt.ylabel('Row')\n",
    "plt.show()"
   ]
  },
  {
   "cell_type": "markdown",
   "metadata": {},
   "source": [
    "## Step 3: Visualize a Multi-Band Raster (RGB)\n",
    "\n",
    "For multi-band rasters (e.g., RGB satellite imagery), we can create a color composite by combining three bands. Assuming the raster has at least three bands (e.g., red, green, blue), we’ll create an RGB image. If your raster has more bands (e.g., multispectral), you can adjust the band indices."
   ]
  },
  {
   "cell_type": "code",
   "execution_count": null,
   "metadata": {},
   "outputs": [],
   "source": [
    "# Check if the raster has at least 3 bands for RGB\n",
    "if num_bands >= 3:\n",
    "    with rasterio.open(raster_path) as src:\n",
    "        # Read the first three bands (assuming RGB order)\n",
    "        red = src.read(1)\n",
    "        green = src.read(2)\n",
    "        blue = src.read(3)\n",
    "\n",
    "    # Stack bands into an RGB array\n",
    "    rgb = np.stack([red, green, blue], axis=-1)\n",
    "\n",
    "    # Normalize the data for display (scale to 0-1)\n",
    "    rgb = rgb / rgb.max() if rgb.max() > 0 else rgb\n",
    "\n",
    "    # Create a plot\n",
    "    plt.figure(figsize=(8, 8))\n",
    "    plt.imshow(rgb)\n",
    "    plt.title('RGB Composite Visualization')\n",
    "    plt.xlabel('Column')\n",
    "    plt.ylabel('Row')\n",
    "    plt.show()\n",
    "else:\n",
    "    print('Raster has fewer than 3 bands, cannot create RGB composite.')"
   ]
  },
  {
   "cell_type": "markdown",
   "metadata": {},
   "source": [
    "## Step 4: Customize Visualization with Colormaps\n",
    "\n",
    "For single-band rasters, you can experiment with different colormaps to highlight features (e.g., terrain for DEMs or vegetation for NDVI). Here’s an example using the 'viridis' colormap."
   ]
  },
  {
   "cell_type": "code",
   "execution_count": null,
   "metadata": {},
   "outputs": [],
   "source": [
    "# Plot the first band with a different colormap\n",
    "plt.figure(figsize=(8, 8))\n",
    "plt.imshow(band1, cmap='viridis')  # Use viridis colormap\n",
    "plt.colorbar(label='Pixel Value')\n",
    "plt.title('Single-Band Raster with Viridis Colormap')\n",
    "plt.xlabel('Column')\n",
    "plt.ylabel('Row')\n",
    "plt.show()"
   ]
  },
  {
   "cell_type": "markdown",
   "metadata": {},
   "source": [
    "## Step 5: Handling Large Rasters\n",
    "\n",
    "For large rasters, visualizing the entire dataset may be memory-intensive. You can read a subset of the raster using `rasterio`’s windowed reading. Here’s an example of reading a 500x500 pixel window."
   ]
  },
  {
   "cell_type": "code",
   "execution_count": null,
   "metadata": {},
   "outputs": [],
   "source": [
    "from rasterio.windows import Window\n",
    "\n",
    "# Define a window (subset) to read\n",
    "window = Window(col_off=0, row_off=0, width=500, height=500)\n",
    "\n",
    "with rasterio.open(raster_path) as src:\n",
    "    # Read the first band for the specified window\n",
    "    window_data = src.read(1, window=window)\n",
    "\n",
    "# Plot the windowed data\n",
    "plt.figure(figsize=(8, 8))\n",
    "plt.imshow(window_data, cmap='gray')\n",
    "plt.colorbar(label='Pixel Value')\n",
    "plt.title('Subset of Single-Band Raster')\n",
    "plt.xlabel('Column')\n",
    "plt.ylabel('Row')\n",
    "plt.show()"
   ]
  },
  {
   "cell_type": "markdown",
   "metadata": {},
   "source": [
    "## Next Steps\n",
    "\n",
    "- Replace `sample.tif` with your own raster file (e.g., a Sentinel-2 image or DEM).\n",
    "- Experiment with different colormaps (e.g., 'terrain', 'hot') for single-band rasters.\n",
    "- Adjust band indices for multi-band rasters (e.g., use NIR, red, green for a false-color composite).\n",
    "- Proceed to the next notebook (`03_clip_raster_with_shapefile.ipynb`) to learn how to clip rasters.\n",
    "\n",
    "## Notes\n",
    "- Ensure the raster file path is correct and the file is accessible.\n",
    "- For multi-band rasters, verify the band order (e.g., Sentinel-2: band 4 = red, band 3 = green, band 2 = blue).\n",
    "- If visualization appears incorrect, check for data scaling issues (e.g., normalize values for RGB display).\n",
    "- See `docs/installation.md` for troubleshooting library installation."
   ]
  }
 ],
 "metadata": {
  "kernelspec": {
   "display_name": "Python 3",
   "language": "python",
   "name": "python3"
  },
  "language_info": {
   "codemirror_mode": {
    "name": "ipython",
    "version": 3
   },
   "file_extension": ".py",
   "mimetype": "text/x-python",
   "name": "python",
   "nbconvert_exporter": "python",
   "pygments_lexer": "ipython3",
   "version": "3.8"
  }
 },
 "nbformat": 4,
 "nbformat_minor": 4
}