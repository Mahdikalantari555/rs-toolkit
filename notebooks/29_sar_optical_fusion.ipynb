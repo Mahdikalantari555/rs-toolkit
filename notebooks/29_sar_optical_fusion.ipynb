{
 "cells": [
  {
   "cell_type": "markdown",
   "metadata": {},
   "source": [
    "# SAR and Optical Data Fusion for Remote Sensing\n",
    "\n",
    "This notebook demonstrates how to combine Sentinel-1 (SAR) and Sentinel-2 (optical) imagery to create a fused dataset for enhanced remote sensing analysis using `rasterio`, `geopandas`, `numpy`, and `sentinelhub` in Python. SAR data provides all-weather imaging capabilities, complementing optical data for applications like land cover monitoring, flood detection, or vegetation analysis under cloudy conditions.\n",
    "\n",
    "## Prerequisites\n",
    "- Install required libraries: `rasterio`, `geopandas`, `numpy`, `matplotlib`, `sentinelhub`, `scipy` (listed in `requirements.txt`).\n",
    "- Preprocessed Sentinel-1 and Sentinel-2 GeoTIFF files (e.g., from `21_download_data.ipynb` or `24_advanced_preprocessing.ipynb`).\n",
    "- A GeoJSON or shapefile defining the area of interest (AOI) (e.g., `aoi.geojson`).\n",
    "- Replace file paths with your own data.\n",
    "\n",
    "## Learning Objectives\n",
    "- Preprocess Sentinel-1 SAR data (e.g., speckle filtering).\n",
    "- Align Sentinel-1 and Sentinel-2 data to a common CRS and resolution.\n",
    "- Create a fused feature stack combining SAR and optical bands.\n",
    "- Visualize and save the fused dataset for downstream analysis."
   ]
  },
  {
   "cell_type": "code",
   "execution_count": null,
   "metadata": {},
   "outputs": [],
   "source": [
    "# Import required libraries\n",
    "import rasterio\n",
    "import geopandas as gpd\n",
    "import numpy as np\n",
    "import matplotlib.pyplot as plt\n",
    "from rasterio.warp import reproject, Resampling\n",
    "from rasterio.mask import mask\n",
    "from scipy.ndimage import uniform_filter\n",
    "from pyproj import CRS\n",
    "import os"
   ]
  },
  {
   "cell_type": "markdown",
   "metadata": {},
   "source": [
    "## Step 1: Load Sentinel-1 and Sentinel-2 Data\n",
    "\n",
    "Load preprocessed Sentinel-1 (SAR) and Sentinel-2 (optical) GeoTIFFs and the AOI vector data."
   ]
  },
  {
   "cell_type": "code",
   "execution_count": null,
   "metadata": {},
   "outputs": [],
   "source": [
    "# Define file paths\n",
    "s1_path = 'remote_sensing_data/sentinel1_vv_vh.tif'  # Replace with your Sentinel-1 GeoTIFF (VV, VH bands)\n",
    "s2_path = 'remote_sensing_data/sentinel_rgb.tif'    # Replace with your Sentinel-2 GeoTIFF\n",
    "aoi_path = 'aoi.geojson'                            # Replace with your AOI file\n",
    "\n",
    "# Load Sentinel-1 data\n",
    "with rasterio.open(s1_path) as src_s1:\n",
    "    s1_data = src_s1.read(masked=True)  # Shape: (bands, height, width) (e.g., VV, VH)\n",
    "    s1_profile = src_s1.profile\n",
    "    s1_crs = src_s1.crs\n",
    "\n",
    "# Load Sentinel-2 data\n",
    "with rasterio.open(s2_path) as src_s2:\n",
    "    s2_data = src_s2.read(masked=True)  # Shape: (bands, height, width)\n",
    "    s2_profile = src_s2.profile\n",
    "    s2_crs = src_s2.crs\n",
    "\n",
    "# Load AOI\n",
    "aoi_gdf = gpd.read_file(aoi_path)\n",
    "if aoi_gdf.crs != s2_crs:\n",
    "    aoi_gdf = aoi_gdf.to_crs(s2_crs)\n",
    "\n",
    "# Print basic information\n",
    "print(f'Sentinel-1 shape: {s1_data.shape}, CRS: {s1_crs}')\n",
    "print(f'Sentinel-2 shape: {s2_data.shape}, CRS: {s2_crs}')\n",
    "print(f'AOI CRS: {aoi_gdf.crs}')"
   ]
  },
  {
   "cell_type": "markdown",
   "metadata": {},
   "source": [
    "## Step 2: Preprocess Sentinel-1 SAR Data\n",
    "\n",
    "Apply speckle filtering to reduce noise in Sentinel-1 SAR imagery."
   ]
  },
  {
   "cell_type": "code",
   "execution_count": null,
   "metadata": {},
   "outputs": [],
   "source": [
    "# Apply Lee filter for speckle noise reduction\n",
    "def lee_filter(img, size=5):\n",
    "    img_mean = uniform_filter(img, size=size)\n",
    "    img_sqr = img ** 2\n",
    "    img_sqr_mean = uniform_filter(img_sqr, size=size)\n",
    "    img_variance = img_sqr_mean - img_mean ** 2\n",
    "    overall_variance = np.var(img)\n",
    "    img_weight = img_variance / (img_variance + overall_variance)\n",
    "    return img_mean + img_weight * (img - img_mean)\n",
    "\n",
    "# Process Sentinel-1 bands (VV, VH)\n",
    "filtered_s1_data = np.zeros_like(s1_data, dtype=np.float32)\n",
    "for i in range(s1_data.shape[0]):\n",
    "    filtered_s1_data[i] = lee_filter(s1_data[i], size=5)\n",
    "\n",
    "# Visualize filtered Sentinel-1 VV band\n",
    "plt.figure(figsize=(8, 8))\n",
    "plt.imshow(filtered_s1_data[0], cmap='gray', vmin=np.nanpercentile(filtered_s1_data[0], 2), vmax=np.nanpercentile(filtered_s1_data[0], 98))\n",
    "plt.title('Filtered Sentinel-1 VV Band')\n",
    "plt.xlabel('Column')\n",
    "plt.ylabel('Row')\n",
    "plt.colorbar(label='Backscatter')\n",
    "plt.show()"
   ]
  },
  {
   "cell_type": "markdown",
   "metadata": {},
   "source": [
    "## Step 3: Align Sentinel-1 to Sentinel-2 CRS and Resolution\n",
    "\n",
    "Reproject and resample Sentinel-1 data to match Sentinel-2's CRS and resolution (10m)."
   ]
  },
  {
   "cell_type": "code",
   "execution_count": null,
   "metadata": {},
   "outputs": [],
   "source": [
    "# Define target CRS and resolution (use Sentinel-2 as reference)\n",
    "target_crs = s2_crs\n",
    "target_transform = s2_profile['transform']\n",
    "target_width, target_height = s2_profile['width'], s2_profile['height']\n",
    "\n",
    "# Reproject Sentinel-1 data\n",
    "aligned_s1_data = np.empty((filtered_s1_data.shape[0], target_height, target_width), dtype=np.float32)\n",
    "with rasterio.open(s1_path) as src:\n",
    "    for i in range(filtered_s1_data.shape[0]):\n",
    "        reproject(\n",
    "            source=filtered_s1_data[i],\n",
    "            destination=aligned_s1_data[i],\n",
    "            src_transform=s1_profile['transform'],\n",
    "            src_crs=s1_crs,\n",
    "            dst_transform=target_transform,\n",
    "            dst_crs=target_crs,\n",
    "            resampling=Resampling.bilinear\n",
    "        )\n",
    "\n",
    "# Update Sentinel-1 profile\n",
    "aligned_s1_profile = s2_profile.copy()\n",
    "aligned_s1_profile.update({'count': filtered_s1_data.shape[0]})\n",
    "\n",
    "# Visualize aligned Sentinel-1 VV band\n",
    "plt.figure(figsize=(8, 8))\n",
    "plt.imshow(aligned_s1_data[0], cmap='gray', vmin=np.nanpercentile(aligned_s1_data[0], 2), vmax=np.nanpercentile(aligned_s1_data[0], 98))\n",
    "plt.title('Aligned Sentinel-1 VV Band')\n",
    "plt.xlabel('Column')\n",
    "plt.ylabel('Row')\n",
    "plt.colorbar(label='Backscatter')\n",
    "plt.show()"
   ]
  },
  {
   "cell_type": "markdown",
   "metadata": {},
   "source": [
    "## Step 4: Crop to AOI\n",
    "\n",
    "Crop both Sentinel-1 and Sentinel-2 data to the AOI for consistent analysis."
   ]
  },
  {
   "cell_type": "code",
   "execution_count": null,
   "metadata": {},
   "outputs": [],
   "source": [
    "# Crop Sentinel-2 to AOI\n",
    "with rasterio.open(s2_path) as src:\n",
    "    cropped_s2_data, cropped_s2_transform = mask(src, aoi_gdf.geometry, crop=True, nodata=np.nan)\n",
    "cropped_s2_profile = s2_profile.copy()\n",
    "cropped_s2_profile.update({\n",
    "    'height': cropped_s2_data.shape[1],\n",
    "    'width': cropped_s2_data.shape[2],\n",
    "    'transform': cropped_s2_transform,\n",
    "    'nodata': np.nan\n",
    "})\n",
    "\n",
    "# Crop aligned Sentinel-1 to AOI\n",
    "cropped_s1_data = np.zeros((aligned_s1_data.shape[0], cropped_s2_data.shape[1], cropped_s2_data.shape[2]), dtype=np.float32)\n",
    "temp_s1_path = 'temp_s1_aligned.tif'\n",
    "with rasterio.open(temp_s1_path, 'w', **aligned_s1_profile) as dst:\n",
    "    dst.write(aligned_s1_data)\n",
    "with rasterio.open(temp_s1_path) as src:\n",
    "    cropped_s1_data, cropped_s1_transform = mask(src, aoi_gdf.geometry, crop=True, nodata=np.nan)\n",
    "\n",
    "# Update Sentinel-1 profile\n",
    "cropped_s1_profile = cropped_s2_profile.copy()\n",
    "cropped_s1_profile.update({'count': cropped_s1_data.shape[0]})\n",
    "\n",
    "# Visualize cropped datasets\n",
    "fig, (ax1, ax2) = plt.subplots(1, 2, figsize=(12, 6))\n",
    "ax1.imshow(cropped_s2_data[:3].transpose(1, 2, 0) / np.nanpercentile(cropped_s2_data[:3], 98), vmin=0, vmax=1)\n",
    "ax1.set_title('Cropped Sentinel-2 RGB')\n",
    "ax1.set_xlabel('Column')\n",
    "ax1.set_ylabel('Row')\n",
    "ax2.imshow(cropped_s1_data[0], cmap='gray', vmin=np.nanpercentile(cropped_s1_data[0], 2), vmax=np.nanpercentile(cropped_s1_data[0], 98))\n",
    "ax2.set_title('Cropped Sentinel-1 VV')\n",
    "ax2.set_xlabel('Column')\n",
    "ax2.set_ylabel('Row')\n",
    "plt.tight_layout()\n",
    "plt.show()"
   ]
  },
  {
   "cell_type": "markdown",
   "metadata": {},
   "source": [
    "## Step 5: Create Fused Feature Stack\n",
    "\n",
    "Combine Sentinel-1 and Sentinel-2 bands into a single feature stack."
   ]
  },
  {
   "cell_type": "code",
   "execution_count": null,
   "metadata": {},
   "outputs": [],
   "source": [
    "# Normalize datasets for consistent scaling\n",
    "norm_s2_data = cropped_s2_data / np.nanpercentile(cropped_s2_data, 98, axis=(1, 2), keepdims=True)\n",
    "norm_s2_data = np.clip(norm_s2_data, 0, 1)\n",
    "norm_s1_data = cropped_s1_data / np.nanpercentile(cropped_s1_data, 98, axis=(1, 2), keepdims=True)\n",
    "norm_s1_data = np.clip(norm_s1_data, 0, 1)\n",
    "\n",
    "# Combine into fused feature stack\n",
    "fused_data = np.concatenate([norm_s2_data, norm_s1_data], axis=0)\n",
    "\n",
    "# Update profile for fused data\n",
    "fused_profile = cropped_s2_profile.copy()\n",
    "fused_profile.update({'count': fused_data.shape[0]})\n",
    "\n",
    "# Visualize first three bands of fused stack (Sentinel-2 RGB)\n",
    "fused_rgb = fused_data[:3].transpose(1, 2, 0)\n",
    "fused_rgb = np.clip(fused_rgb, 0, 1)\n",
    "\n",
    "plt.figure(figsize=(8, 8))\n",
    "plt.imshow(fused_rgb)\n",
    "plt.title('Fused Feature Stack (Sentinel-2 RGB)')\n",
    "plt.xlabel('Column')\n",
    "plt.ylabel('Row')\n",
    "plt.show()\n",
    "\n",
    "# Save fused feature stack\n",
    "fused_output_path = 'remote_sensing_data/sar_optical_fused.tif'\n",
    "with rasterio.open(fused_output_path, 'w', **fused_profile) as dst:\n",
    "    dst.write(fused_data)\n",
    "\n",
    "print(f'Fused feature stack saved to: {fused_output_path}')"
   ]
  },
  {
   "cell_type": "markdown",
   "metadata": {},
   "source": [
    "## Step 6: Validate with AOI Overlay\n",
    "\n",
    "Overlay the AOI on the fused data to verify alignment."
   ]
  },
  {
   "cell_type": "code",
   "execution_count": null,
   "metadata": {},
   "outputs": [],
   "source": [
    "# Visualize fused data with AOI overlay\n",
    "fig, ax = plt.subplots(figsize=(8, 8))\n",
    "ax.imshow(fused_rgb)\n",
    "aoi_gdf.plot(ax=ax, facecolor='none', edgecolor='red', linewidth=2)\n",
    "plt.title('Fused Feature Stack with AOI Overlay')\n",
    "plt.xlabel('Column')\n",
    "plt.ylabel('Row')\n",
    "plt.show()\n",
    "\n",
    "# Clean up temporary files\n",
    "os.remove(temp_s1_path)"
   ]
  },
  {
   "cell_type": "markdown",
   "metadata": {},
   "source": [
    "## Next Steps\n",
    "\n",
    "- Replace `sentinel1_vv_vh.tif` and `sentinel_rgb.tif` with your own Sentinel-1 and Sentinel-2 GeoTIFFs (e.g., from `21_download_data.ipynb` or `24_advanced_preprocessing.ipynb`).\n",
    "- Update `aoi.geojson` with your area of interest file.\n",
    "- Experiment with advanced fusion methods (e.g., deep learning-based fusion) for improved results.\n",
    "- Use the fused feature stack in downstream tasks like classification (see `12_classification_rf_svm.ipynb` or `27_transfer_learning.ipynb`) or segmentation (see `15_unet_segmentation.ipynb`).\n",
    "- Explore visualization of the fused data with `23_kepler_gl_demo.ipynb` or `26_time_series_animation.ipynb`.\n",
    "\n",
    "## Notes\n",
    "- Ensure Sentinel-1 and Sentinel-2 data are acquired from similar time periods to avoid temporal misalignment.\n",
    "- Speckle filtering parameters (e.g., filter size) can be adjusted based on image characteristics.\n",
    "- Normalize data carefully to maintain consistency across SAR and optical bands.\n",
    "- See `docs/installation.md` for troubleshooting library installation."
   ]
  }
 ],
 "metadata": {
  "kernelspec": {
   "display_name": "Python 3",
   "language": "python",
   "name": "python3"
  },
  "language_info": {
   "codemirror_mode": {
    "name": "ipython",
    "version": 3
   },
   "file_extension": ".py",
   "mimetype": "text/x-python",
   "name": "python",
   "nbconvert_exporter": "python",
   "pygments_lexer": "ipython3",
   "version": "3.8"
  }
 },
 "nbformat": 4,
 "nbformat_minor": 4
}