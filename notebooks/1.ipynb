import rasterio
import numpy as np
from pathlib import Path
from typing import Tuple, Dict, Union, Optional

def load_raster(file_path: str) -> Tuple[np.ndarray, Dict]:
    """
    Load a raster file and return its data and metadata.
    
    Args:
        file_path (str): Path to the raster file (e.g., GeoTIFF).
        
    Returns:
        Tuple[np.ndarray, Dict]: Raster data as a NumPy array and metadata dictionary.
        
    Raises:
        FileNotFoundError: If the raster file does not exist.
        rasterio.errors.RasterioIOError: If the file cannot be opened.
    """
    file_path = Path(file_path)
    if not file_path.exists():
        raise FileNotFoundError(f"Raster file not found: {file_path}")
    
    with rasterio.open(file_path) as src:
        raster_data = src.read()  # Shape: (bands, height, width)
        metadata = src.meta.copy()
    
    return raster_data, metadata

def get_raster_metadata(file_path: str) -> Dict[str, Union[int, str, rasterio.Affine]]:
    """
    Extract key metadata from a raster file.
    
    Args:
        file_path (str): Path to the raster file.
        
    Returns:
        Dict[str, Union[int, str, rasterio.Affine]]: Dictionary containing metadata
        (width, height, bands, CRS, transform).
        
    Raises:
        FileNotFoundError: If the raster file does not exist.
        rasterio.errors.RasterioIOError: If the file cannot be opened.
    """
    file_path = Path(file_path)
    if not file_path.exists():
        raise FileNotFoundError(f"Raster file not found: {file_path}")
    
    with rasterio.open(file_path) as src:
        metadata = {
            'width': src.width,
            'height': src.height,
            'bands': src.count,
            'crs': str(src.crs) if src.crs else None,
            'transform': src.transform
        }
    
    return metadata

def compute_band_stats(raster_data: np.ndarray, band_index: int = 0) -> Dict[str, float]:
    """
    Compute basic statistics for a specific band of raster data.
    
    Args:
        raster_data (np.ndarray): Raster data array with shape (bands, height, width).
        band_index (int): Index of the band to analyze (0-based). Defaults to 0.
        
    Returns:
        Dict[str, float]: Dictionary with min, max, mean, and std of the band.
        
    Raises:
        IndexError: If band_index is out of range.
    """
    if band_index >= raster_data.shape[0]:
        raise IndexError(f"Band index {band_index} out of range. Raster has {raster_data.shape[0]} bands.")
    
    band_data = raster_data[band_index]
    stats = {
        'min': float(np.min(band_data)),
        'max': float(np.max(band_data)),
        'mean': float(np.mean(band_data)),
        'std': float(np.std(band_data))
    }
    
    return stats

def check_raster_validity(file_path: str) -> bool:
    """
    Check if a raster file is valid and can be opened.
    
    Args:
        file_path (str): Path to the raster file.
        
    Returns:
        bool: True if the file is valid, False otherwise.
    """
    try:
        with rasterio.open(file_path) as src:
            return src.count > 0  # Ensure the raster has at least one band
    except (FileNotFoundError, rasterio.errors.RasterioIOError):
        return False
