{
 "cells": [
  {
   "cell_type": "markdown",
   "metadata": {},
   "source": [
    "# Mosaicking Rasters\n",
    "\n",
    "This notebook demonstrates how to mosaic multiple raster files into a single raster using `rasterio` in Python. Mosaicking is useful in remote sensing to combine overlapping or adjacent images into a seamless dataset.\n",
    "\n",
    "## Prerequisites\n",
    "- Install required libraries: `rasterio`, `numpy`, `matplotlib` (listed in `requirements.txt`).\n",
    "- At least two GeoTIFF files (e.g., `raster1.tif`, `raster2.tif`) with the same CRS and compatible bands. Replace file paths with your own data.\n",
    "\n",
    "## Learning Objectives\n",
    "- Merge multiple rasters into a single mosaic.\n",
    "- Handle overlapping areas during mosaicking.\n",
    "- Visualize and save the mosaicked raster."
   ]
  },
  {
   "cell_type": "code",
   "execution_count": null,
   "metadata": {},
   "outputs": [],
   "source": [
    "# Import required libraries\n",
    "import rasterio\n",
    "from rasterio.merge import merge\n",
    "import numpy as np\n",
    "import matplotlib.pyplot as plt"
   ]
  },
  {
   "cell_type": "markdown",
   "metadata": {},
   "source": [
    "## Step 1: Load Raster Files\n",
    "\n",
    "Load multiple raster files to be mosaicked. Ensure they have the same CRS and number of bands."
   ]
  },
  {
   "cell_type": "code",
   "execution_count": null,
   "metadata": {},
   "outputs": [],
   "source": [
    "# Define paths to raster files\n",
    "raster_paths = ['raster1.tif', 'raster2.tif']  # Replace with your raster files\n",
    "\n",
    "# Open rasters and store in a list\n",
    "raster_files = []\n",
    "for path in raster_paths:\n",
    "    src = rasterio.open(path)\n",
    "    raster_files.append(src)\n",
    "\n",
    "# Check CRS consistency\n",
    "crs_list = [src.crs for src in raster_files]\n",
    "if len(set(crs_list)) > 1:\n",
    "    print('Warning: Rasters have different CRS. Reproject them first.')\n",
    "else:\n",
    "    print(f'All rasters have CRS: {crs_list[0]}')\n",
    "\n",
    "# Check band count\n",
    "band_counts = [src.count for src in raster_files]\n",
    "if len(set(band_counts)) > 1:\n",
    "    print('Warning: Rasters have different band counts.')\n",
    "else:\n",
    "    print(f'All rasters have {band_counts[0]} bands')"
   ]
  },
  {
   "cell_type": "markdown",
   "metadata": {},
   "source": [
    "## Step 2: Mosaic the Rasters\n",
    "\n",
    "Use `rasterio.merge` to combine the rasters into a single mosaic, handling overlaps with the 'first' method (uses the first raster’s value in overlapping areas)."
   ]
  },
  {
   "cell_type": "code",
   "execution_count": null,
   "metadata": {},
   "outputs": [],
   "source": [
    "# Mosaic the rasters\n",
    "mosaic_data, mosaic_transform = merge(raster_files, method='first')\n",
    "\n",
    "# Create metadata for the mosaic\n",
    "mosaic_meta = raster_files[0].meta.copy()\n",
    "mosaic_meta.update({\n",
    "    'height': mosaic_data.shape[1],\n",
    "    'width': mosaic_data.shape[2],\n",
    "    'transform': mosaic_transform\n",
    "})\n",
    "\n",
    "# Print mosaic information\n",
    "print(f'Mosaic shape: {mosaic_data.shape}')"
   ]
  },
  {
   "cell_type": "markdown",
   "metadata": {},
   "source": [
    "## Step 3: Visualize the Mosaic\n",
    "\n",
    "Visualize the mosaicked raster, handling single-band or multi-band (RGB) cases."
   ]
  },
  {
   "cell_type": "code",
   "execution_count": null,
   "metadata": {},
   "outputs": [],
   "source": [
    "# Get bounds for plotting\n",
    "with rasterio.open(raster_paths[0]) as src:\n",
    "    bounds = src.bounds  # Approximate bounds for visualization\n",
    "\n",
    "# Plot based on number of bands\n",
    "plt.figure(figsize=(8, 8))\n",
    "if mosaic_data.shape[0] == 1:\n",
    "    # Single-band raster\n",
    "    plt.imshow(mosaic_data[0], cmap='gray')\n",
    "    plt.colorbar(label='Pixel Value')\n",
    "    plt.title('Mosaicked Single-Band Raster')\n",
    "else:\n",
    "    # Multi-band raster (RGB)\n",
    "    rgb = mosaic_data[:3].transpose(1, 2, 0)\n",
    "    rgb = rgb / rgb.max() if rgb.max() > 0 else rgb  # Normalize for display\n",
    "    plt.imshow(rgb)\n",
    "    plt.title('Mosaicked RGB Composite')\n",
    "plt.xlabel('Column')\n",
    "plt.ylabel('Row')\n",
    "plt.show()"
   ]
  },
  {
   "cell_type": "markdown",
   "metadata": {},
   "source": [
    "## Step 4: Save the Mosaicked Raster\n",
    "\n",
    "Save the mosaicked raster to a new GeoTIFF file."
   ]
  },
  {
   "cell_type": "code",
   "execution_count": null,
   "metadata": {},
   "outputs": [],
   "source": [
    "# Save the mosaic\n",
    "output_path = 'mosaic_raster.tif'\n",
    "with rasterio.open(output_path, 'w', **mosaic_meta) as dst:\n",
    "    dst.write(mosaic_data)\n",
    "\n",
    "print(f'Mosaicked raster saved to: {output_path}')"
   ]
  },
  {
   "cell_type": "markdown",
   "metadata": {},
   "source": [
    "## Step 5: Close Raster Files\n",
    "\n",
    "Close all open raster files to free memory."
   ]
  },
  {
   "cell_type": "code",
   "execution_count": null,
   "metadata": {},
   "outputs": [],
   "source": [
    "# Close all raster files\n",
    "for src in raster_files:\n",
    "    src.close()"
   ]
  },
  {
   "cell_type": "markdown",
   "metadata": {},
   "source": [
    "## Next Steps\n",
    "\n",
    "- Replace `raster1.tif` and `raster2.tif` with your own raster files.\n",
    "- Experiment with different merge methods (e.g., 'last', 'min', 'max').\n",
    "- Ensure rasters have the same CRS and resolution before mosaicking.\n",
    "- Proceed to the next notebook (`11_normalization_scaling.ipynb`) for normalization and scaling.\n",
    "\n",
    "## Notes\n",
    "- Rasters must have the same CRS and compatible bands for successful mosaicking.\n",
    "- Overlapping areas are handled by the merge method (default: 'first').\n",
    "- See `docs/installation.md` for troubleshooting library installation."
   ]
  }
 ],
 "metadata": {
  "kernelspec": {
   "display_name": "Python 3",
   "language": "python",
   "name": "python3"
  },
  "language_info": {
   "codemirror_mode": {
    "name": "ipython",
    "version": 3
   },
   "file_extension": ".py",
   "mimetype": "text/x-python",
   "name": "python",
   "nbconvert_exporter": "python",
   "pygments_lexer": "ipython3",
   "version": "3.8"
  }
 },
 "nbformat": 4,
 "nbformat_minor": 4
}