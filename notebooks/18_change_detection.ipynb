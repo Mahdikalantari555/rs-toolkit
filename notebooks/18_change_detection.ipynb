{
 "cells": [
  {
   "cell_type": "markdown",
   "metadata": {},
   "source": [
    "# Change Detection in Remote Sensing Data\n",
    "\n",
    "This notebook demonstrates how to perform change detection between two remote sensing rasters using `rasterio` and `numpy` in Python. Change detection identifies areas of change (e.g., land cover, deforestation) between two time points.\n",
    "\n",
    "## Prerequisites\n",
    "- Install required libraries: `rasterio`, `numpy`, `matplotlib` (listed in `requirements.txt`).\n",
    "- Two GeoTIFF files from different time points (e.g., `raster_t1.tif`, `raster_t2.tif`) with the same CRS, resolution, and dimensions. Replace file paths with your own data.\n",
    "\n",
    "## Learning Objectives\n",
    "- Compute pixel-wise differences between two rasters.\n",
    "- Apply thresholding to identify significant changes.\n",
    "- Visualize and save the change detection results."
   ]
  },
  {
   "cell_type": "code",
   "execution_count": null,
   "metadata": {},
   "outputs": [],
   "source": [
    "# Import required libraries\n",
    "import rasterio\n",
    "import numpy as np\n",
    "import matplotlib.pyplot as plt"
   ]
  },
  {
   "cell_type": "markdown",
   "metadata": {},
   "source": [
    "## Step 1: Load Raster Files\n",
    "\n",
    "Load two rasters from different time points and ensure they have the same CRS and dimensions."
   ]
  },
  {
   "cell_type": "code",
   "execution_count": null,
   "metadata": {},
   "outputs": [],
   "source": [
    "# Define file paths for the two time points\n",
    "raster_t1_path = 'raster_t1.tif'  # First time point\n",
    "raster_t2_path = 'raster_t2.tif'  # Second time point\n",
    "\n",
    "# Load rasters\n",
    "with rasterio.open(raster_t1_path) as src_t1, rasterio.open(raster_t2_path) as src_t2:\n",
    "    raster_t1 = src_t1.read(masked=True)  # Shape: (bands, height, width)\n",
    "    raster_t2 = src_t2.read(masked=True)\n",
    "    profile = src_t1.profile\n",
    "    crs_t1 = src_t1.crs\n",
    "    crs_t2 = src_t2.crs\n",
    "\n",
    "# Check CRS and dimensions\n",
    "if crs_t1 != crs_t2:\n",
    "    print('Error: Rasters have different CRS. Reproject them first.')\n",
    "elif raster_t1.shape != raster_t2.shape:\n",
    "    print('Error: Rasters have different dimensions.')\n",
    "else:\n",
    "    print(f'Raster shape: {raster_t1.shape}')\n",
    "    print(f'CRS: {crs_t1}')"
   ]
  },
  {
   "cell_type": "markdown",
   "metadata": {},
   "source": [
    "## Step 2: Compute Pixel-Wise Difference\n",
    "\n",
    "Calculate the difference between the two rasters for a specific band (e.g., band 1)."
   ]
  },
  {
   "cell_type": "code",
   "execution_count": null,
   "metadata": {},
   "outputs": [],
   "source": [
    "# Select band for analysis (e.g., band 1)\n",
    "band_idx = 0\n",
    "t1_data = raster_t1[band_idx]\n",
    "t2_data = raster_t2[band_idx]\n",
    "\n",
    "# Compute difference\n",
    "difference = t2_data - t1_data\n",
    "\n",
    "# Visualize difference\n",
    "plt.figure(figsize=(8, 8))\n",
    "plt.imshow(difference, cmap='RdBu', vmin=-np.nanmax(np.abs(difference)), vmax=np.nanmax(np.abs(difference)))\n",
    "plt.colorbar(label='Difference (t2 - t1)')\n",
    "plt.title('Pixel-Wise Difference (Band 1)')\n",
    "plt.xlabel('Column')\n",
    "plt.ylabel('Row')\n",
    "plt.show()"
   ]
  },
  {
   "cell_type": "markdown",
   "metadata": {},
   "source": [
    "## Step 3: Apply Thresholding for Change Detection\n",
    "\n",
    "Identify significant changes by applying a threshold to the difference image."
   ]
  },
  {
   "cell_type": "code",
   "execution_count": null,
   "metadata": {},
   "outputs": [],
   "source": [
    "# Define threshold for significant change (e.g., 2 standard deviations)\n",
    "threshold = 2 * np.nanstd(difference)\n",
    "\n",
    "# Create change mask (1 for change, 0 for no change)\n",
    "change_mask = np.abs(difference) > threshold\n",
    "change_mask = change_mask.astype(np.uint8)  # 0: no change, 1: change\n",
    "\n",
    "# Visualize change mask\n",
    "plt.figure(figsize=(8, 8))\n",
    "plt.imshow(change_mask, cmap='binary')\n",
    "plt.colorbar(label='Change (1) / No Change (0)')\n",
    "plt.title('Change Detection Mask')\n",
    "plt.xlabel('Column')\n",
    "plt.ylabel('Row')\n",
    "plt.show()"
   ]
  },
  {
   "cell_type": "markdown",
   "metadata": {},
   "source": [
    "## Step 4: Save Change Detection Results\n",
    "\n",
    "Save the difference image and change mask as GeoTIFF files."
   ]
  },
  {
   "cell_type": "code",
   "execution_count": null,
   "metadata": {},
   "outputs": [],
   "source": [
    "# Update profile for single-band output\n",
    "output_profile = profile.copy()\n",
    "output_profile.update(count=1, dtype=rasterio.float32)\n",
    "\n",
    "# Save difference image\n",
    "with rasterio.open('difference.tif', 'w', **output_profile) as dst:\n",
    "    dst.write(difference, 1)\n",
    "\n",
    "# Update profile for change mask\n",
    "output_profile.update(dtype=rasterio.uint8, nodata=255)\n",
    "\n",
    "# Save change mask\n",
    "with rasterio.open('change_mask.tif', 'w', **output_profile) as dst:\n",
    "    dst.write(change_mask, 1)\n",
    "\n",
    "print('Difference image saved to: difference.tif')\n",
    "print('Change mask saved to: change_mask.tif')"
   ]
  },
  {
   "cell_type": "markdown",
   "metadata": {},
   "source": [
    "## Next Steps\n",
    "\n",
    "- Replace `raster_t1.tif` and `raster_t2.tif` with your own raster files.\n",
    "- Adjust the threshold value or use other methods (e.g., NDVI difference, clustering).\n",
    "- Apply change detection to multiple bands or derived indices.\n",
    "- Proceed to the next notebook (`19_anomaly_detection.ipynb`) for anomaly detection.\n",
    "\n",
    "## Notes\n",
    "- Ensure both rasters have the same CRS, resolution, and dimensions.\n",
    "- Use no-data masks to exclude invalid pixels from calculations.\n",
    "- See `docs/installation.md` for troubleshooting library installation."
   ]
  }
 ],
 "metadata": {
  "kernelspec": {
   "display_name": "Python 3",
   "language": "python",
   "name": "python3"
  },
  "language_info": {
   "codemirror_mode": {
    "name": "ipython",
    "version": 3
   },
   "file_extension": ".py",
   "mimetype": "text/x-python",
   "name": "python",
   "nbconvert_exporter": "python",
   "pygments_lexer": "ipython3",
   "version": "3.8"
  }
 },
 "nbformat": 4,
 "nbformat_minor": 4
}