{
 "cells": [
  {
   "cell_type": "markdown",
   "metadata": {},
   "source": [
    "# Clipping a Raster with a Shapefile\n",
    "\n",
    "This notebook demonstrates how to clip a raster file using a vector shapefile with `rasterio` and `geopandas` in Python. Clipping is a common remote sensing task to extract a region of interest defined by a polygon shapefile.\n",
    "\n",
    "## Prerequisites\n",
    "- Install required libraries: `rasterio`, `geopandas`, `numpy` (listed in `requirements.txt`).\n",
    "- A sample GeoTIFF file (e.g., `sample.tif`) and a shapefile (e.g., `area.shp`). Replace file paths with your own data.\n",
    "\n",
    "## Learning Objectives\n",
    "- Clip a raster to the extent of a shapefile.\n",
    "- Visualize the clipped raster using `matplotlib`.\n",
    "- Save the clipped raster to a new file."
   ]
  },
  {
   "cell_type": "code",
   "execution_count": null,
   "metadata": {},
   "outputs": [],
   "source": [
    "# Import required libraries\n",
    "import rasterio\n",
    "import geopandas as gpd\n",
    "import matplotlib.pyplot as plt\n",
    "import numpy as np\n",
    "from rasterio.mask import mask"
   ]
  },
  {
   "cell_type": "markdown",
   "metadata": {},
   "source": [
    "## Step 1: Load Raster and Shapefile\n",
    "\n",
    "Load the raster file and shapefile. Ensure both are in the same coordinate reference system (CRS) or reproject the shapefile if needed."
   ]
  },
  {
   "cell_type": "code",
   "execution_count": null,
   "metadata": {},
   "outputs": [],
   "source": [
    "# Define file paths\n",
    "raster_path = 'sample.tif'\n",
    "shapefile_path = 'area.shp'\n",
    "\n",
    "# Load the shapefile\n",
    "gdf = gpd.read_file(shapefile_path)\n",
    "\n",
    "# Open the raster file\n",
    "with rasterio.open(raster_path) as src:\n",
    "    raster_crs = src.crs\n",
    "    raster_data = src.read()\n",
    "\n",
    "# Check CRS of shapefile and reproject if needed\n",
    "if gdf.crs != raster_crs:\n",
    "    gdf = gdf.to_crs(raster_crs)\n",
    "\n",
    "# Print basic information\n",
    "print(f'Raster CRS: {raster_crs}')\n",
    "print(f'Shapefile CRS: {gdf.crs}')\n",
    "print(f'Number of geometries in shapefile: {len(gdf)}')"
   ]
  },
  {
   "cell_type": "markdown",
   "metadata": {},
   "source": [
    "## Step 2: Clip the Raster\n",
    "\n",
    "Use `rasterio.mask` to clip the raster to the shapefile’s geometry."
   ]
  },
  {
   "cell_type": "code",
   "execution_count": null,
   "metadata": {},
   "outputs": [],
   "source": [
    "# Extract geometries from shapefile\n",
    "geometries = gdf.geometry.values\n",
    "\n",
    "# Clip the raster\n",
    "with rasterio.open(raster_path) as src:\n",
    "    clipped_data, clipped_transform = mask(src, geometries, crop=True)\n",
    "    clipped_meta = src.meta.copy()\n",
    "\n",
    "# Update metadata for the clipped raster\n",
    "clipped_meta.update({\n",
    "    'height': clipped_data.shape[1],\n",
    "    'width': clipped_data.shape[2],\n",
    "    'transform': clipped_transform\n",
    "})\n",
    "\n",
    "# Print shape of clipped data\n",
    "print(f'Shape of clipped raster: {clipped_data.shape}')"
   ]
  },
  {
   "cell_type": "markdown",
   "metadata": {},
   "source": [
    "## Step 3: Visualize the Clipped Raster\n",
    "\n",
    "Visualize the clipped raster. For single-band rasters, use a grayscale colormap; for multi-band rasters, create an RGB composite."
   ]
  },
  {
   "cell_type": "code",
   "execution_count": null,
   "metadata": {},
   "outputs": [],
   "source": [
    "# Check number of bands\n",
    "num_bands = clipped_data.shape[0]\n",
    "\n",
    "# Plot based on number of bands\n",
    "plt.figure(figsize=(8, 8))\n",
    "if num_bands == 1:\n",
    "    # Single-band raster\n",
    "    plt.imshow(clipped_data[0], cmap='gray')\n",
    "    plt.colorbar(label='Pixel Value')\n",
    "    plt.title('Clipped Single-Band Raster')\n",
    "else:\n",
    "    # Multi-band raster (RGB)\n",
    "    rgb = clipped_data[:3].transpose(1, 2, 0)  # Shape: (height, width, bands)\n",
    "    rgb = rgb / rgb.max() if rgb.max() > 0 else rgb  # Normalize for display\n",
    "    plt.imshow(rgb)\n",
    "    plt.title('Clipped RGB Composite')\n",
    "plt.xlabel('Column')\n",
    "plt.ylabel('Row')\n",
    "plt.show()"
   ]
  },
  {
   "cell_type": "markdown",
   "metadata": {},
   "source": [
    "## Step 4: Save the Clipped Raster\n",
    "\n",
    "Save the clipped raster to a new GeoTIFF file."
   ]
  },
  {
   "cell_type": "code",
   "execution_count": null,
   "metadata": {},
   "outputs": [],
   "source": [
    "# Save the clipped raster to a new file\n",
    "output_path = 'clipped_raster.tif'\n",
    "with rasterio.open(output_path, 'w', **clipped_meta) as dst:\n",
    "    dst.write(clipped_data)\n",
    "\n",
    "print(f'Clipped raster saved to: {output_path}')"
   ]
  },
  {
   "cell_type": "markdown",
   "metadata": {},
   "source": [
    "## Next Steps\n",
    "\n",
    "- Replace `sample.tif` and `area.shp` with your own raster and shapefile.\n",
    "- Try clipping with different shapefile geometries or multiple polygons.\n",
    "- Proceed to the next notebook (`04_calculate_indices.ipynb`) to compute remote sensing indices.\n",
    "\n",
    "## Notes\n",
    "- Ensure the raster and shapefile paths are correct and accessible.\n",
    "- Verify that the CRS of the raster and shapefile match to avoid errors.\n",
    "- For large rasters, clipping is memory-efficient as it reduces the dataset size.\n",
    "- See `docs/installation.md` for troubleshooting library installation."
   ]
  }
 ],
 "metadata": {
  "kernelspec": {
   "display_name": "Python 3",
   "language": "python",
   "name": "python3"
  },
  "language_info": {
   "codemirror_mode": {
    "name": "ipython",
    "version": 3
   },
   "file_extension": ".py",
   "mimetype": "text/x-python",
   "name": "python",
   "nbconvert_exporter": "python",
   "pygments_lexer": "ipython3",
   "version": "3.8"
  }
 },
 "nbformat": 4,
 "nbformat_minor": 4
}