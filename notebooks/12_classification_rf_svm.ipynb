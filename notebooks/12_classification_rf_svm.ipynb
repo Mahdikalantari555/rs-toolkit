{
 "cells": [
  {
   "cell_type": "markdown",
   "metadata": {},
   "source": [
    "# Classification with Random Forest and SVM\n",
    "\n",
    "This notebook demonstrates how to perform land cover classification using Random Forest (RF) and Support Vector Machine (SVM) classifiers with `scikit-learn` in Python. We use a multi-band raster and labeled training data (e.g., a shapefile) for supervised classification in a remote sensing context.\n",
    "\n",
    "## Prerequisites\n",
    "- Install required libraries: `rasterio`, `geopandas`, `scikit-learn`, `numpy`, `matplotlib` (listed in `requirements.txt`).\n",
    "- A multi-band GeoTIFF file (e.g., `sample.tif`) and a shapefile with labeled data (e.g., `labels.shp`). Replace file paths with your own data.\n",
    "\n",
    "## Learning Objectives\n",
    "- Extract training data from a raster using labeled vector data.\n",
    "- Train RF and SVM classifiers for land cover classification.\n",
    "- Predict and visualize classification results."
   ]
  },
  {
   "cell_type": "code",
   "execution_count": null,
   "metadata": {},
   "outputs": [],
   "source": [
    "# Import required libraries\n",
    "import rasterio\n",
    "import geopandas as gpd\n",
    "import numpy as np\n",
    "import matplotlib.pyplot as plt\n",
    "from sklearn.ensemble import RandomForestClassifier\n",
    "from sklearn.svm import SVC\n",
    "from sklearn.metrics import accuracy_score"
   ]
  },
  {
   "cell_type": "markdown",
   "metadata": {},
   "source": [
    "## Step 1: Load Raster and Labeled Data\n",
    "\n",
    "Load the multi-band raster and shapefile with labeled data (e.g., land cover classes)."
   ]
  },
  {
   "cell_type": "code",
   "execution_count": null,
   "metadata": {},
   "outputs": [],
   "source": [
    "# Define file paths\n",
    "raster_path = 'sample.tif'\n",
    "shapefile_path = 'labels.shp'\n",
    "\n",
    "# Load the shapefile\n",
    "gdf = gpd.read_file(shapefile_path)\n",
    "\n",
    "# Load the raster\n",
    "with rasterio.open(raster_path) as src:\n",
    "    raster_data = src.read()  # Shape: (bands, height, width)\n",
    "    raster_crs = src.crs\n",
    "    raster_transform = src.transform\n",
    "\n",
    "# Reproject shapefile to match raster CRS if needed\n",
    "if gdf.crs != raster_crs:\n",
    "    gdf = gdf.to_crs(raster_crs)\n",
    "\n",
    "# Print basic information\n",
    "print(f'Raster shape: {raster_data.shape}')\n",
    "print(f'Number of classes: {gdf['class'].nunique()}')  # Assumes 'class' column in shapefile"
   ]
  },
  {
   "cell_type": "markdown",
   "metadata": {},
   "source": [
    "## Step 2: Extract Training Data\n",
    "\n",
    "Extract pixel values from the raster at the locations of labeled geometries."
   ]
  },
  {
   "cell_type": "code",
   "execution_count": null,
   "metadata": {},
   "outputs": [],
   "source": [
    "from rasterio.features import geometry_mask\n",
    "\n",
    "# Initialize lists for features and labels\n",
    "X_train = []\n",
    "y_train = []\n",
    "\n",
    "# Extract pixel values for each geometry\n",
    "for idx, row in gdf.iterrows():\n",
    "    geom = row.geometry\n",
    "    label = row['class']  # Assumes 'class' column\n",
    "    mask = geometry_mask([geom], transform=raster_transform, out_shape=(raster_data.shape[1], raster_data.shape[2]), invert=True)\n",
    "    for band in range(raster_data.shape[0]):\n",
    "        band_data = raster_data[band][mask]\n",
    "        if band == 0:\n",
    "            features = band_data[:, np.newaxis]\n",
    "        else:\n",
    "            features = np.hstack((features, band_data[:, np.newaxis]))\n",
    "    X_train.extend(features)\n",
    "    y_train.extend([label] * len(band_data))\n",
    "\n",
    "# Convert to arrays\n",
    "X_train = np.array(X_train)\n",
    "y_train = np.array(y_train)\n",
    "\n",
    "# Print training data info\n",
    "print(f'Training features shape: {X_train.shape}')\n",
    "print(f'Training labels shape: {y_train.shape}')"
   ]
  },
  {
   "cell_type": "markdown",
   "metadata": {},
   "source": [
    "## Step 3: Train Random Forest Classifier\n",
    "\n",
    "Train a Random Forest classifier and predict across the entire raster."
   ]
  },
  {
   "cell_type": "code",
   "execution_count": null,
   "metadata": {},
   "outputs": [],
   "source": [
    "# Initialize and train Random Forest\n",
    "rf = RandomForestClassifier(n_estimators=100, random_state=42)\n",
    "rf.fit(X_train, y_train)\n",
    "\n",
    "# Prepare raster data for prediction\n",
    "height, width = raster_data.shape[1], raster_data.shape[2]\n",
    "X_raster = raster_data.transpose(1, 2, 0).reshape(-1, raster_data.shape[0])\n",
    "\n",
    "# Predict\n",
    "rf_predictions = rf.predict(X_raster)\n",
    "rf_predictions = rf_predictions.reshape(height, width)\n",
    "\n",
    "# Visualize RF predictions\n",
    "plt.figure(figsize=(8, 8))\n",
    "plt.imshow(rf_predictions, cmap='tab10')\n",
    "plt.colorbar(label='Class')\n",
    "plt.title('Random Forest Classification')\n",
    "plt.xlabel('Column')\n",
    "plt.ylabel('Row')\n",
    "plt.show()"
   ]
  },
  {
   "cell_type": "markdown",
   "metadata": {},
   "source": [
    "## Step 4: Train SVM Classifier\n",
    "\n",
    "Train a Support Vector Machine classifier and predict across the raster."
   ]
  },
  {
   "cell_type": "code",
   "execution_count": null,
   "metadata": {},
   "outputs": [],
   "source": [
    "# Initialize and train SVM\n",
    "svm = SVC(kernel='rbf', random_state=42)\n",
    "svm.fit(X_train, y_train)\n",
    "\n",
    "# Predict\n",
    "svm_predictions = svm.predict(X_raster)\n",
    "svm_predictions = svm_predictions.reshape(height, width)\n",
    "\n",
    "# Visualize SVM predictions\n",
    "plt.figure(figsize=(8, 8))\n",
    "plt.imshow(svm_predictions, cmap='tab10')\n",
    "plt.colorbar(label='Class')\n",
    "plt.title('SVM Classification')\n",
    "plt.xlabel('Column')\n",
    "plt.ylabel('Row')\n",
    "plt.show()"
   ]
  },
  {
   "cell_type": "markdown",
   "metadata": {},
   "source": [
    "## Step 5: Save Classification Results\n",
    "\n",
    "Save the RF and SVM classification rasters to GeoTIFF files."
   ]
  },
  {
   "cell_type": "code",
   "execution_count": null,
   "metadata": {},
   "outputs": [],
   "source": [
    "# Update profile for single-band output\n",
    "output_profile = rasterio.open(raster_path).profile.copy()\n",
    "output_profile.update(count=1, dtype=rasterio.uint8)\n",
    "\n",
    "# Save RF predictions\n",
    "with rasterio.open('rf_classification.tif', 'w', **output_profile) as dst:\n",
    "    dst.write(rf_predictions.astype(rasterio.uint8), 1)\n",
    "\n",
    "# Save SVM predictions\n",
    "with rasterio.open('svm_classification.tif', 'w', **output_profile) as dst:\n",
    "    dst.write(svm_predictions.astype(rasterio.uint8), 1)\n",
    "\n",
    "print('RF classification saved to: rf_classification.tif')\n",
    "print('SVM classification saved to: svm_classification.tif')"
   ]
  },
  {
   "cell_type": "markdown",
   "metadata": {},
   "source": [
    "## Next Steps\n",
    "\n",
    "- Replace `sample.tif` and `labels.shp` with your own raster and labeled shapefile.\n",
    "- Adjust the 'class' column name to match your shapefile.\n",
    "- Tune classifier parameters (e.g., `n_estimators` for RF, `kernel` for SVM).\n",
    "- Proceed to the next notebook (`13_kmeans_clustering.ipynb`) for unsupervised clustering.\n",
    "\n",
    "## Notes\n",
    "- Ensure the shapefile has a 'class' column with numeric or categorical labels.\n",
    "- Handle large datasets by sampling training data or using windowed reading.\n",
    "- See `docs/installation.md` for troubleshooting library installation."
   ]
  }
 ],
 "metadata": {
  "kernelspec": {
   "display_name": "Python 3",
   "language": "python",
   "name": "python3"
  },
  "language_info": {
   "codemirror_mode": {
    "name": "ipython",
    "version": 3
   },
   "file_extension": ".py",
   "mimetype": "text/x-python",
   "name": "python",
   "nbconvert_exporter": "python",
   "pygments_lexer": "ipython3",
   "version": "3.8"
  }
 },
 "nbformat": 4,
 "nbformat_minor": 4
}