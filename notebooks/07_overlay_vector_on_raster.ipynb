{
 "cells": [
  {
   "cell_type": "markdown",
   "metadata": {},
   "source": [
    "# Overlaying Vector Data on Raster\n",
    "\n",
    "This notebook demonstrates how to overlay vector data (e.g., shapefiles) on raster data using `rasterio`, `geopandas`, and `matplotlib` in Python. This is useful for visualizing spatial relationships in remote sensing data, such as plotting boundaries over satellite imagery.\n",
    "\n",
    "## Prerequisites\n",
    "- Install required libraries: `rasterio`, `geopandas`, `matplotlib`, `numpy` (listed in `requirements.txt`).\n",
    "- A sample GeoTIFF file (e.g., `sample.tif`) and a shapefile (e.g., `area.shp`). Replace file paths with your own data.\n",
    "\n",
    "## Learning Objectives\n",
    "- Load and visualize raster and vector data together.\n",
    "- Ensure CRS alignment between raster and vector data.\n",
    "- Customize the visualization for clarity."
   ]
  },
  {
   "cell_type": "code",
   "execution_count": null,
   "metadata": {},
   "outputs": [],
   "source": [
    "# Import required libraries\n",
    "import rasterio\n",
    "import geopandas as gpd\n",
    "import matplotlib.pyplot as plt\n",
    "import numpy as np"
   ]
  },
  {
   "cell_type": "markdown",
   "metadata": {},
   "source": [
    "## Step 1: Load Raster and Vector Data\n",
    "\n",
    "Load the raster file and shapefile, ensuring their coordinate reference systems (CRS) are aligned."
   ]
  },
  {
   "cell_type": "code",
   "execution_count": null,
   "metadata": {},
   "outputs": [],
   "source": [
    "# Define file paths\n",
    "raster_path = 'sample.tif'\n",
    "shapefile_path = 'area.shp'\n",
    "\n",
    "# Load the shapefile\n",
    "gdf = gpd.read_file(shapefile_path)\n",
    "\n",
    "# Open the raster file\n",
    "with rasterio.open(raster_path) as src:\n",
    "    raster_data = src.read()\n",
    "    raster_crs = src.crs\n",
    "    raster_bounds = src.bounds\n",
    "\n",
    "# Reproject shapefile to match raster CRS if needed\n",
    "if gdf.crs != raster_crs:\n",
    "    gdf = gdf.to_crs(raster_crs)\n",
    "\n",
    "# Print basic information\n",
    "print(f'Raster CRS: {raster_crs}')\n",
    "print(f'Shapefile CRS: {gdf.crs}')\n",
    "print(f'Raster Bounds: {raster_bounds}')"
   ]
  },
  {
   "cell_type": "markdown",
   "metadata": {},
   "source": [
    "## Step 2: Visualize Raster with Vector Overlay\n",
    "\n",
    "Plot the raster (single-band or RGB) and overlay the vector geometries."
   ]
  },
  {
   "cell_type": "code",
   "execution_count": null,
   "metadata": {},
   "outputs": [],
   "source": [
    "# Create a plot\n",
    "fig, ax = plt.subplots(figsize=(8, 8))\n",
    "\n",
    "# Check number of bands for visualization\n",
    "num_bands = raster_data.shape[0]\n",
    "\n",
    "if num_bands == 1:\n",
    "    # Single-band raster\n",
    "    ax.imshow(raster_data[0], cmap='gray', extent=(raster_bounds.left, raster_bounds.right, raster_bounds.bottom, raster_bounds.top))\n",
    "else:\n",
    "    # Multi-band raster (RGB)\n",
    "    rgb = raster_data[:3].transpose(1, 2, 0)  # Shape: (height, width, bands)\n",
    "    rgb = rgb / rgb.max() if rgb.max() > 0 else rgb  # Normalize for display\n",
    "    ax.imshow(rgb, extent=(raster_bounds.left, raster_bounds.right, raster_bounds.bottom, raster_bounds.top))\n",
    "\n",
    "# Overlay vector data\n",
    "gdf.plot(ax=ax, edgecolor='red', facecolor='none', linewidth=2)\n",
    "\n",
    "# Customize plot\n",
    "plt.title('Raster with Vector Overlay')\n",
    "plt.xlabel('X Coordinate')\n",
    "plt.ylabel('Y Coordinate')\n",
    "plt.show()"
   ]
  },
  {
   "cell_type": "markdown",
   "metadata": {},
   "source": [
    "## Step 3: Visualize with Specific Vector Attributes\n",
    "\n",
    "If the shapefile has attributes (e.g., categories), color-code the vector overlay based on an attribute."
   ]
  },
  {
   "cell_type": "code",
   "execution_count": null,
   "metadata": {},
   "outputs": [],
   "source": [
    "# Check if shapefile has an attribute to color by (replace 'category' with your column name)\n",
    "if 'category' in gdf.columns:\n",
    "    fig, ax = plt.subplots(figsize=(8, 8))\n",
    "\n",
    "    # Plot raster (same as above)\n",
    "    if num_bands == 1:\n",
    "        ax.imshow(raster_data[0], cmap='gray', extent=(raster_bounds.left, raster_bounds.right, raster_bounds.bottom, raster_bounds.top))\n",
    "    else:\n",
    "        rgb = raster_data[:3].transpose(1, 2, 0)\n",
    "        rgb = rgb / rgb.max() if rgb.max() > 0 else rgb\n",
    "        ax.imshow(rgb, extent=(raster_bounds.left, raster_bounds.right, raster_bounds.bottom, raster_bounds.top))\n",
    "\n",
    "    # Plot vector data with color based on attribute\n",
    "    gdf.plot(ax=ax, column='category', edgecolor='black', linewidth=1, legend=True)\n",
    "\n",
    "    # Customize plot\n",
    "    plt.title('Raster with Attribute-Based Vector Overlay')\n",
    "    plt.xlabel('X Coordinate')\n",
    "    plt.ylabel('Y Coordinate')\n",
    "    plt.show()\n",
    "else:\n",
    "    print('No attribute named \"category\" found in shapefile.')"
   ]
  },
  {
   "cell_type": "markdown",
   "metadata": {},
   "source": [
    "## Next Steps\n",
    "\n",
    "- Replace `sample.tif` and `area.shp` with your own raster and shapefile.\n",
    "- Adjust the attribute name (e.g., 'category') to match your shapefile’s columns.\n",
    "- Experiment with different colormaps or vector styles.\n",
    "- Proceed to the next notebook (`08_atmospheric_correction_snap.ipynb`) for atmospheric correction.\n",
    "\n",
    "## Notes\n",
    "- Ensure the raster and shapefile paths are correct and accessible.\n",
    "- Verify CRS alignment to avoid spatial mismatches.\n",
    "- Use `extent` in `imshow` to align raster and vector coordinates.\n",
    "- See `docs/installation.md` for troubleshooting library installation."
   ]
  }
 ],
 "metadata": {
  "kernelspec": {
   "display_name": "Python 3",
   "language": "python",
   "name": "python3"
  },
  "language_info": {
   "codemirror_mode": {
    "name": "ipython",
    "version": 3
   },
   "file_extension": ".py",
   "mimetype": "text/x-python",
   "name": "python",
   "nbconvert_exporter": "python",
   "pygments_lexer": "ipython3",
   "version": "3.8"
  }
 },
 "nbformat": 4,
 "nbformat_minor": 4
}