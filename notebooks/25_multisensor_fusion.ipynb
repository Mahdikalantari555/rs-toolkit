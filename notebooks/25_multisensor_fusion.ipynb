{
 "cells": [
  {
   "cell_type": "markdown",
   "metadata": {},
   "source": [
    "# Multi-Sensor Data Fusion for Remote Sensing\n",
    "\n",
    "This notebook demonstrates advanced techniques for combining Sentinel-2 and Landsat imagery to enhance spatial and spectral resolution using data fusion methods, such as pansharpening and feature stacking, with `rasterio`, `geopandas`, and `numpy` in Python. Multi-sensor fusion is useful for improving analysis accuracy in applications like land cover classification, change detection, or vegetation monitoring.\n",
    "\n",
    "## Prerequisites\n",
    "- Install required libraries: `rasterio`, `geopandas`, `numpy`, `matplotlib`, `pyproj`, `scikit-image` (listed in `requirements.txt`).\n",
    "- Preprocessed Sentinel-2 and Landsat GeoTIFF files (e.g., `sentinel_rgb.tif` and `landsat_rgb.tif` from `21_download_data.ipynb` or `24_advanced_preprocessing.ipynb`).\n",
    "- A GeoJSON or shapefile defining the area of interest (AOI) (e.g., `aoi.geojson`).\n",
    "- Replace file paths with your own data.\n",
    "\n",
    "## Learning Objectives\n",
    "- Align Sentinel-2 and Landsat rasters to a common CRS and resolution.\n",
    "- Perform pansharpening to enhance Sentinel-2 resolution using Landsat's panchromatic band.\n",
    "- Create a fused feature stack combining multi-spectral bands from both sensors.\n",
    "- Visualize and save fused datasets for downstream analysis."
   ]
  },
  {
   "cell_type": "code",
   "execution_count": null,
   "metadata": {},
   "outputs": [],
   "source": [
    "# Import required libraries\n",
    "import rasterio\n",
    "import geopandas as gpd\n",
    "import numpy as np\n",
    "import matplotlib.pyplot as plt\n",
    "from rasterio.warp import reproject, Resampling\n",
    "from rasterio.merge import merge\n",
    "from pyproj import CRS\n",
    "from skimage.transform import resize\n",
    "import os"
   ]
  },
  {
   "cell_type": "markdown",
   "metadata": {},
   "source": [
    "## Step 1: Load Sentinel-2 and Landsat Data\n",
    "\n",
    "Load preprocessed Sentinel-2 and Landsat GeoTIFFs and the AOI vector data, ensuring compatibility in CRS."
   ]
  },
  {
   "cell_type": "code",
   "execution_count": null,
   "metadata": {},
   "outputs": [],
   "source": [
    "# Define file paths\n",
    "sentinel_path = 'remote_sensing_data/sentinel_rgb.tif'  # Replace with your Sentinel-2 GeoTIFF\n",
    "landsat_path = 'remote_sensing_data/landsat_rgb.tif'   # Replace with your Landsat GeoTIFF\n",
    "aoi_path = 'aoi.geojson'                              # Replace with your AOI file\n",
    "\n",
    "# Load Sentinel-2 data\n",
    "with rasterio.open(sentinel_path) as src_s2:\n",
    "    sentinel_data = src_s2.read(masked=True)  # Shape: (bands, height, width)\n",
    "    sentinel_profile = src_s2.profile\n",
    "    sentinel_crs = src_s2.crs\n",
    "\n",
    "# Load Landsat data\n",
    "with rasterio.open(landsat_path) as src_l8:\n",
    "    landsat_data = src_l8.read(masked=True)\n",
    "    landsat_profile = src_l8.profile\n",
    "    landsat_crs = src_l8.crs\n",
    "\n",
    "# Load AOI\n",
    "aoi_gdf = gpd.read_file(aoi_path)\n",
    "if aoi_gdf.crs != sentinel_crs:\n",
    "    aoi_gdf = aoi_gdf.to_crs(sentinel_crs)\n",
    "\n",
    "# Print basic information\n",
    "print(f'Sentinel-2 shape: {sentinel_data.shape}, CRS: {sentinel_crs}')\n",
    "print(f'Landsat shape: {landsat_data.shape}, CRS: {landsat_crs}')\n",
    "print(f'AOI CRS: {aoi_gdf.crs}')"
   ]
  },
  {
   "cell_type": "markdown",
   "metadata": {},
   "source": [
    "## Step 2: Align Rasters to Common CRS and Resolution\n",
    "\n",
    "Reproject and resample Landsat data to match Sentinel-2's CRS and resolution (10m)."
   ]
  },
  {
   "cell_type": "code",
   "execution_count": null,
   "metadata": {},
   "outputs": [],
   "source": [
    "# Define target CRS and resolution (use Sentinel-2 as reference)\n",
    "target_crs = sentinel_crs\n",
    "target_transform = sentinel_profile['transform']\n",
    "target_width, target_height = sentinel_profile['width'], sentinel_profile['height']\n",
    "\n",
    "# Reproject Landsat to match Sentinel-2\n",
    "aligned_landsat_data = np.empty((landsat_data.shape[0], target_height, target_width), dtype=np.float32)\n",
    "with rasterio.open(landsat_path) as src:\n",
    "    for i in range(landsat_data.shape[0]):\n",
    "        reproject(\n",
    "            source=landsat_data[i],\n",
    "            destination=aligned_landsat_data[i],\n",
    "            src_transform=landsat_profile['transform'],\n",
    "            src_crs=landsat_crs,\n",
    "            dst_transform=target_transform,\n",
    "            dst_crs=target_crs,\n",
    "            resampling=Resampling.bilinear\n",
    "        )\n",
    "\n",
    "# Update Landsat profile\n",
    "aligned_landsat_profile = sentinel_profile.copy()\n",
    "aligned_landsat_profile.update({'count': landsat_data.shape[0]})\n",
    "\n",
    "# Visualize aligned Landsat RGB\n",
    "aligned_landsat_rgb = aligned_landsat_data[:3].transpose(1, 2, 0)\n",
    "aligned_landsat_rgb = aligned_landsat_rgb / np.nanpercentile(aligned_landsat_rgb, 98) if np.nanpercentile(aligned_landsat_rgb, 98) > 0 else aligned_landsat_rgb\n",
    "aligned_landsat_rgb = np.clip(aligned_landsat_rgb, 0, 1)\n",
    "\n",
    "plt.figure(figsize=(8, 8))\n",
    "plt.imshow(aligned_landsat_rgb)\n",
    "plt.title('Aligned Landsat RGB Composite')\n",
    "plt.xlabel('Column')\n",
    "plt.ylabel('Row')\n",
    "plt.show()"
   ]
  },
  {
   "cell_type": "markdown",
   "metadata": {},
   "source": [
    "## Step 3: Pansharpening with Landsat Panchromatic Band\n",
    "\n",
    "Use Landsat's panchromatic band (15m) to enhance the resolution of Sentinel-2 RGB bands (10m)."
   ]
  },
  {
   "cell_type": "code",
   "execution_count": null,
   "metadata": {},
   "outputs": [],
   "source": [
    "# Load Landsat panchromatic band (Band 8, 15m resolution)\n",
    "landsat_pan_path = 'remote_sensing_data/landsat_pan.tif'  # Replace with your Landsat panchromatic GeoTIFF\n",
    "with rasterio.open(landsat_pan_path) as src_pan:\n",
    "    pan_data = src_pan.read(1, masked=True)  # Shape: (height, width)\n",
    "    pan_profile = src_pan.profile\n",
    "    pan_crs = src_pan.crs\n",
    "\n",
    "# Reproject panchromatic band to Sentinel-2 resolution and CRS\n",
    "aligned_pan_data = np.empty((target_height, target_width), dtype=np.float32)\n",
    "with rasterio.open(landsat_pan_path) as src:\n",
    "    reproject(\n",
    "        source=pan_data,\n",
    "        destination=aligned_pan_data,\n",
    "        src_transform=pan_profile['transform'],\n",
    "        src_crs=pan_crs,\n",
    "        dst_transform=target_transform,\n",
    "        dst_crs=target_crs,\n",
    "        resampling=Resampling.bilinear\n",
    "    )\n",
    "\n",
    "# Simple Brovey pansharpening\n",
    "pansharpened_data = np.zeros_like(sentinel_data, dtype=np.float32)\n",
    "for i in range(3):  # Process RGB bands\n",
    "    pansharpened_data[i] = sentinel_data[i] * (aligned_pan_data / np.nanmean(aligned_landsat_data[:3], axis=0))\n",
    "\n",
    "# Visualize pansharpened RGB\n",
    "pansharpened_rgb = pansharpened_data[:3].transpose(1, 2, 0)\n",
    "pansharpened_rgb = pansharpened_rgb / np.nanpercentile(pansharpened_rgb, 98) if np.nanpercentile(pansharpened_rgb, 98) > 0 else pansharpened_rgb\n",
    "pansharpened_rgb = np.clip(pansharpened_rgb, 0, 1)\n",
    "\n",
    "plt.figure(figsize=(8, 8))\n",
    "plt.imshow(pansharpened_rgb)\n",
    "plt.title('Pansharpened Sentinel-2 RGB Composite')\n",
    "plt.xlabel('Column')\n",
    "plt.ylabel('Row')\n",
    "plt.show()\n",
    "\n",
    "# Save pansharpened raster\n",
    "pansharpened_output_path = 'remote_sensing_data/pansharpened_raster.tif'\n",
    "with rasterio.open(pansharpened_output_path, 'w', **sentinel_profile) as dst:\n",
    "    dst.write(pansharpened_data)\n",
    "\n",
    "print(f'Pansharpened raster saved to: {pansharpened_output_path}')"
   ]
  },
  {
   "cell_type": "markdown",
   "metadata": {},
   "source": [
    "## Step 4: Create Fused Feature Stack\n",
    "\n",
    "Combine Sentinel-2 and Landsat bands into a single feature stack for enhanced analysis."
   ]
  },
  {
   "cell_type": "code",
   "execution_count": null,
   "metadata": {},
   "outputs": [],
   "source": [
    "# Combine Sentinel-2 and aligned Landsat bands\n",
    "fused_data = np.concatenate([sentinel_data, aligned_landsat_data], axis=0)\n",
    "\n",
    "# Update profile for fused data\n",
    "fused_profile = sentinel_profile.copy()\n",
    "fused_profile.update({'count': fused_data.shape[0]})\n",
    "\n",
    "# Visualize first three bands of fused stack\n",
    "fused_rgb = fused_data[:3].transpose(1, 2, 0)\n",
    "fused_rgb = fused_rgb / np.nanpercentile(fused_rgb, 98) if np.nanpercentile(fused_rgb, 98) > 0 else fused_rgb\n",
    "fused_rgb = np.clip(fused_rgb, 0, 1)\n",
    "\n",
    "plt.figure(figsize=(8, 8))\n",
    "plt.imshow(fused_rgb)\n",
    "plt.title('Fused Feature Stack (First 3 Bands)')\n",
    "plt.xlabel('Column')\n",
    "plt.ylabel('Row')\n",
    "plt.show()\n",
    "\n",
    "# Save fused feature stack\n",
    "fused_output_path = 'remote_sensing_data/fused_feature_stack.tif'\n",
    "with rasterio.open(fused_output_path, 'w', **fused_profile) as dst:\n",
    "    dst.write(fused_data)\n",
    "\n",
    "print(f'Fused feature stack saved to: {fused_output_path}')"
   ]
  },
  {
   "cell_type": "markdown",
   "metadata": {},
   "source": [
    "## Step 5: Validate Fusion with AOI Overlay\n",
    "\n",
    "Overlay the AOI on the fused data to verify alignment and coverage."
   ]
  },
  {
   "cell_type": "code",
   "execution_count": null,
   "metadata": {},
   "outputs": [],
   "source": [
    "# Visualize fused data with AOI overlay\n",
    "fig, ax = plt.subplots(figsize=(8, 8))\n",
    "ax.imshow(fused_rgb)\n",
    "aoi_gdf.plot(ax=ax, facecolor='none', edgecolor='red', linewidth=2)\n",
    "plt.title('Fused Feature Stack with AOI Overlay')\n",
    "plt.xlabel('Column')\n",
    "plt.ylabel('Row')\n",
    "plt.show()"
   ]
  },
  {
   "cell_type": "markdown",
   "metadata": {},
   "source": [
    "## Next Steps\n",
    "\n",
    "- Replace `sentinel_rgb.tif`, `landsat_rgb.tif`, and `landsat_pan.tif` with your own GeoTIFF files (e.g., from `21_download_data.ipynb` or `24_advanced_preprocessing.ipynb`).\n",
    "- Update `aoi.geojson` with your area of interest file.\n",
    "- Experiment with other pansharpening methods (e.g., PCA-based or Gram-Schmidt) for improved results.\n",
    "- Use the fused feature stack in downstream tasks like classification (see `12_classification_rf_svm.ipynb`) or segmentation (see `15_unet_segmentation.ipynb`).\n",
    "- Explore advanced fusion techniques like deep learning-based methods for super-resolution.\n",
    "\n",
    "## Notes\n",
    "- Ensure Sentinel-2 and Landsat rasters are preprocessed (e.g., cropped and aligned) as shown in `24_advanced_preprocessing.ipynb`.\n",
    "- Pansharpening assumes the panchromatic band is available; if not, skip to feature stacking.\n",
    "- Handle no-data values carefully to avoid artifacts in fused data.\n",
    "- See `docs/installation.md` for troubleshooting library installation."
   ]
  }
 ],
 "metadata": {
  "kernelspec": {
   "display_name": "Python 3",
   "language": "python",
   "name": "python3"
  },
  "language_info": {
   "codemirror_mode": {
    "name": "ipython",
    "version": 3
   },
   "file_extension": ".py",
   "mimetype": "text/x-python",
   "name": "python",
   "nbconvert_exporter": "python",
   "pygments_lexer": "ipython3",
   "version": "3.8"
  }
 },
 "nbformat": 4,
 "nbformat_minor": 4
}