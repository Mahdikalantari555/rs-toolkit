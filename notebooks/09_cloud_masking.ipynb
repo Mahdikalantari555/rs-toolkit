{
 "cells": [
  {
   "cell_type": "markdown",
   "metadata": {},
   "source": [
    "# Cloud Masking for Satellite Imagery\n",
    "\n",
    "This notebook demonstrates how to apply cloud masking to satellite imagery using `rasterio` and `numpy` in Python. Cloud masking identifies and removes cloud-covered areas to improve data quality for analysis, focusing on Sentinel-2 imagery with the Scene Classification Layer (SCL).\n",
    "\n",
    "## Prerequisites\n",
    "- Install required libraries: `rasterio`, `numpy`, `matplotlib` (listed in `requirements.txt`).\n",
    "- A Sentinel-2 Level-2A product with SCL band (e.g., `S2_L2A_product.SAFE`). Replace file paths with your own data.\n",
    "\n",
    "## Learning Objectives\n",
    "- Load and interpret the SCL band for cloud detection.\n",
    "- Create a cloud mask to exclude clouds and cloud shadows.\n",
    "- Apply the mask to a raster and visualize the result."
   ]
  },
  {
   "cell_type": "code",
   "execution_count": null,
   "metadata": {},
   "outputs": [],
   "source": [
    "# Import required libraries\n",
    "import rasterio\n",
    "import numpy as np\n",
    "import matplotlib.pyplot as plt\n",
    "import os"
   ]
  },
  {
   "cell_type": "markdown",
   "metadata": {},
   "source": [
    "## Step 1: Load Sentinel-2 Data and SCL Band\n",
    "\n",
    "Load the Scene Classification Layer (SCL) and RGB bands from a Sentinel-2 Level-2A product."
   ]
  },
  {
   "cell_type": "code",
   "execution_count": null,
   "metadata": {},
   "outputs": [],
   "source": [
    "# Define paths to the Sentinel-2 Level-2A product\n",
    "product_path = 'S2_L2A_product.SAFE'\n",
    "scl_path = os.path.join(product_path, 'GRANULE', '*', 'IMG_DATA', 'R20m', '*_SCL_20m.tif')\n",
    "red_path = os.path.join(product_path, 'GRANULE', '*', 'IMG_DATA', 'R10m', '*_B04_10m.tif')\n",
    "green_path = os.path.join(product_path, 'GRANULE', '*', 'IMG_DATA', 'R10m', '*_B03_10m.tif')\n",
    "blue_path = os.path.join(product_path, 'GRANULE', '*', 'IMG_DATA', 'R10m', '*_B02_10m.tif')\n",
    "\n",
    "# Load SCL and RGB bands\n",
    "with rasterio.open(scl_path) as src_scl, rasterio.open(red_path) as src_red, \\\n",
    "     rasterio.open(green_path) as src_green, rasterio.open(blue_path) as src_blue:\n",
    "    scl = src_scl.read(1)\n",
    "    red = src_red.read(1).astype(float)\n",
    "    green = src_green.read(1).astype(float)\n",
    "    blue = src_blue.read(1).astype(float)\n",
    "    profile = src_red.profile\n",
    "\n",
    "# Print basic information\n",
    "print(f'SCL shape: {scl.shape}')\n",
    "print(f'RGB shape: {red.shape}')"
   ]
  },
  {
   "cell_type": "markdown",
   "metadata": {},
   "source": [
    "## Step 2: Create Cloud Mask\n",
    "\n",
    "Use the SCL band to create a mask for clouds and cloud shadows. Sentinel-2 SCL values: 3 (cloud shadows), 8 (medium clouds), 9 (high clouds), 10 (cirrus)."
   ]
  },
  {
   "cell_type": "code",
   "execution_count": null,
   "metadata": {},
   "outputs": [],
   "source": [
    "# Define cloud-related SCL values to mask\n",
    "cloud_values = [3, 8, 9, 10]  # Cloud shadows, medium/high clouds, cirrus\n",
    "\n",
    "# Create cloud mask (True for clouds/shadows, False for valid pixels)\n",
    "cloud_mask = np.isin(scl, cloud_values)\n",
    "\n",
    "# Visualize cloud mask\n",
    "plt.figure(figsize=(8, 8))\n",
    "plt.imshow(cloud_mask, cmap='binary')\n",
    "plt.title('Cloud Mask')\n",
    "plt.xlabel('Column')\n",
    "plt.ylabel('Row')\n",
    "plt.show()"
   ]
  },
  {
   "cell_type": "markdown",
   "metadata": {},
   "source": [
    "## Step 3: Apply Cloud Mask to RGB Data\n",
    "\n",
    "Apply the cloud mask to the RGB bands, setting cloud-covered pixels to NaN."
   ]
  },
  {
   "cell_type": "code",
   "execution_count": null,
   "metadata": {},
   "outputs": [],
   "source": [
    "# Resample SCL to match 10m RGB resolution if needed (SCL is 20m)\n",
    "from rasterio.warp import reproject, Resampling\n",
    "\n",
    "if scl.shape != red.shape:\n",
    "    scl_resampled = np.empty_like(red, dtype=scl.dtype)\n",
    "    with rasterio.open(scl_path) as src_scl:\n",
    "        reproject(\n",
    "            source=scl,\n",
    "            destination=scl_resampled,\n",
    "            src_transform=src_scl.transform,\n",
    "            src_crs=src_scl.crs,\n",
    "            dst_transform=profile['transform'],\n",
    "            dst_crs=profile['crs'],\n",
    "            resampling=Resampling.nearest\n",
    "        )\n",
    "    cloud_mask = np.isin(scl_resampled, cloud_values)\n",
    "\n",
    "# Apply mask to RGB bands\n",
    "red_masked = np.where(cloud_mask, np.nan, red)\n",
    "green_masked = np.where(cloud_mask, np.nan, green)\n",
    "blue_masked = np.where(cloud_mask, np.nan, blue)\n",
    "\n",
    "# Stack and normalize for visualization\n",
    "rgb_masked = np.stack([red_masked, green_masked, blue_masked], axis=-1)\n",
    "rgb_masked = rgb_masked / np.nanpercentile(rgb_masked, 98) if np.nanpercentile(rgb_masked, 98) > 0 else rgb_masked\n",
    "rgb_masked = np.clip(rgb_masked, 0, 1)\n",
    "\n",
    "# Visualize masked RGB\n",
    "plt.figure(figsize=(8, 8))\n",
    "plt.imshow(rgb_masked)\n",
    "plt.title('Cloud-Masked RGB Composite (B04, B03, B02)')\n",
    "plt.xlabel('Column')\n",
    "plt.ylabel('Row')\n",
    "plt.show()"
   ]
  },
  {
   "cell_type": "markdown",
   "metadata": {},
   "source": [
    "## Step 4: Save Masked Raster\n",
    "\n",
    "Save the cloud-masked RGB bands as a new GeoTIFF file."
   ]
  },
  {
   "cell_type": "code",
   "execution_count": null,
   "metadata": {},
   "outputs": [],
   "source": [
    "# Update profile for 3-band output\n",
    "output_profile = profile.copy()\n",
    "output_profile.update(count=3, dtype=rasterio.float32)\n",
    "\n",
    "# Save masked RGB\n",
    "with rasterio.open('cloud_masked_rgb.tif', 'w', **output_profile) as dst:\n",
    "    dst.write([red_masked, green_masked, blue_masked])\n",
    "\n",
    "print('Cloud-masked RGB saved to: cloud_masked_rgb.tif')"
   ]
  },
  {
   "cell_type": "markdown",
   "metadata": {},
   "source": [
    "## Next Steps\n",
    "\n",
    "- Replace `S2_L2A_product.SAFE` with your own Sentinel-2 Level-2A product.\n",
    "- Adjust cloud mask values based on your needs (e.g., include low clouds, SCL value 2).\n",
    "- Apply the mask to other bands or derived indices (e.g., NDVI).\n",
    "- Proceed to the next notebook (`10_mosaicking_rasters.ipynb`) for mosaicking rasters.\n",
    "\n",
    "## Notes\n",
    "- Ensure the SCL and RGB band paths are correct.\n",
    "- SCL is typically at 20m resolution, requiring resampling to match 10m RGB bands.\n",
    "- Use `np.nan` for masked pixels to preserve data integrity.\n",
    "- See `docs/installation.md` for troubleshooting library installation."
   ]
  }
 ],
 "metadata": {
  "kernelspec": {
   "display_name": "Python 3",
   "language": "python",
   "name": "python3"
  },
  "language_info": {
   "codemirror_mode": {
    "name": "ipython",
    "version": 3
   },
   "file_extension": ".py",
   "mimetype": "text/x-python",
   "name": "python",
   "nbconvert_exporter": "python",
   "pygments_lexer": "ipython3",
   "version": "3.8"
  }
 },
 "nbformat": 4,
 "nbformat_minor": 4
}