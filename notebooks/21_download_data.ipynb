{
 "cells": [
  {
   "cell_type": "markdown",
   "metadata": {},
   "source": [
    "# Downloading Sentinel-2 and Landsat Data\n",
    "\n",
    "This notebook demonstrates how to download Sentinel-2 imagery using `sentinelsat` and Landsat imagery using `landsatexplorer` in Python. It includes querying data for a specified area of interest (AOI) and time range, downloading products, and visualizing RGB composites with `rasterio` and `matplotlib`.\n",
    "\n",
    "## Prerequisites\n",
    "- Install required libraries: `sentinelsat`, `landsatexplorer`, `rasterio`, `numpy`, `matplotlib`, `geopandas` (listed in `requirements.txt`).\n",
    "- A Copernicus Open Access Hub account for Sentinel-2 (register at https://scihub.copernicus.eu/).\n",
    "- An EarthExplorer account for Landsat (register at https://earthexplorer.usgs.gov/).\n",
    "- A GeoJSON file defining the area of interest (e.g., `aoi.geojson`). Replace file paths with your own data.\n",
    "- Ensure sufficient disk space (~1-2 GB per Sentinel-2 product, ~500 MB per Landsat scene).\n",
    "\n",
    "## Learning Objectives\n",
    "- Query and download Sentinel-2 and Landsat imagery for a specified AOI and time range.\n",
    "- Load and visualize RGB bands from downloaded products.\n",
    "- Save RGB composites as GeoTIFF files for further analysis."
   ]
  },
  {
   "cell_type": "code",
   "execution_count": null,
   "metadata": {},
   "outputs": [],
   "source": [
    "# Import required libraries\n",
    "from sentinelsat import SentinelAPI, read_geojson, geojson_to_wkt\n",
    "from landsatexplorer.ee_api import EarthExplorer\n",
    "import rasterio\n",
    "import numpy as np\n",
    "import matplotlib.pyplot as plt\n",
    "import geopandas as gpd\n",
    "import os\n",
    "from datetime import date\n",
    "import glob"
   ]
  },
  {
   "cell_type": "markdown",
   "metadata": {},
   "source": [
    "## Step 1: Set Up APIs and Query Sentinel-2 Data\n",
    "\n",
    "Connect to the Copernicus Open Access Hub and query Sentinel-2 imagery for the specified AOI and time range."
   ]
  },
  {
   "cell_type": "code",
   "execution_count": null,
   "metadata": {},
   "outputs": [],
   "source": [
    "# Initialize SentinelAPI with your credentials\n",
    "sentinel_api = SentinelAPI('your_scihub_username', 'your_scihub_password', 'https://scihub.copernicus.eu/dhus')\n",
    "\n",
    "# Define area of interest (AOI) and query parameters\n",
    "aoi_path = 'aoi.geojson'  # Path to your GeoJSON file\n",
    "footprint = geojson_to_wkt(read_geojson(aoi_path))\n",
    "start_date = date(2025, 1, 1)\n",
    "end_date = date(2025, 6, 30)\n",
    "\n",
    "# Query Sentinel-2 Level-2A products\n",
    "sentinel_products = sentinel_api.query(\n",
    "    footprint,\n",
    "    date=(start_date, end_date),\n",
    "    platformname='Sentinel-2',\n",
    "    producttype='S2MS2Ap',\n",
    "    cloudcoverpercentage=(0, 30)  # Limit to images with <30% cloud cover\n",
    ")\n",
    "\n",
    "# Convert to DataFrame and sort by cloud cover\n",
    "sentinel_products_df = sentinel_api.to_dataframe(sentinel_products)\n",
    "sentinel_products_df = sentinel_products_df.sort_values('cloudcoverpercentage')\n",
    "\n",
    "# Print query results\n",
    "print(f'Found {len(sentinel_products_df)} Sentinel-2 products')\n",
    "print(sentinel_products_df[['title', 'cloudcoverpercentage', 'ingestiondate']].head())"
   ]
  },
  {
   "cell_type": "markdown",
   "metadata": {},
   "source": [
    "## Step 2: Download Sentinel-2 Product\n",
    "\n",
    "Download the Sentinel-2 product with the lowest cloud cover."
   ]
  },
  {
   "cell_type": "code",
   "execution_count": null,
   "metadata": {},
   "outputs": [],
   "source": [
    "# Select the first Sentinel-2 product (lowest cloud cover)\n",
    "sentinel_product_id = sentinel_products_df.index[0]\n",
    "sentinel_product_title = sentinel_products_df.loc[sentinel_product_id, 'title']\n",
    "\n",
    "# Define output directory\n",
    "output_dir = 'remote_sensing_data/'\n",
    "os.makedirs(output_dir, exist_ok=True)\n",
    "\n",
    "# Download Sentinel-2 product\n",
    "sentinel_api.download(sentinel_product_id, directory_path=output_dir)\n",
    "sentinel_product_path = os.path.join(output_dir, f'{sentinel_product_title}.SAFE')\n",
    "\n",
    "print(f'Downloaded Sentinel-2 product: {sentinel_product_path}')"
   ]
  },
  {
   "cell_type": "markdown",
   "metadata": {},
   "source": [
    "## Step 3: Query and Download Landsat Data\n",
    "\n",
    "Connect to EarthExplorer and download a Landsat 8/9 scene for the same AOI and time range."
   ]
  },
  {
   "cell_type": "code",
   "execution_count": null,
   "metadata": {},
   "outputs": [],
   "source": [
    "# Initialize EarthExplorer API\n",
    "ee = EarthExplorer('your_earthexplorer_username', 'your_earthexplorer_password')\n",
    "\n",
    "# Load AOI and convert to WKT\n",
    "aoi_gdf = gpd.read_file(aoi_path)\n",
    "aoi_wkt = aoi_gdf.geometry.to_wkt().iloc[0]\n",
    "\n",
    "# Query Landsat 8/9 Collection 2 Level-2 products\n",
    "landsat_products = ee.search(\n",
    "    dataset='LANDSAT_8_C2_L2' if date(2025, 1, 1) > date(2022, 5, 1) else 'LANDSAT_9_C2_L2',\n",
    "    start_date='2025-01-01',\n",
    "    end_date='2025-06-30',\n",
    "    wkt=aoi_wkt,\n",
    "    max_cloud_cover=30\n",
    ")\n",
    "\n",
    "# Convert to DataFrame and sort by cloud cover\n",
    "landsat_products_df = pd.DataFrame(landsat_products)\n",
    "landsat_products_df = landsat_products_df.sort_values('cloud_cover')\n",
    "\n",
    "# Print query results\n",
    "print(f'Found {len(landsat_products_df)} Landsat products')\n",
    "print(landsat_products_df[['display_id', 'cloud_cover', 'acquisition_date']].head())"
   ]
  },
  {
   "cell_type": "code",
   "execution_count": null,
   "metadata": {},
   "outputs": [],
   "source": [
    "# Select and download the first Landsat product\n",
    "landsat_product_id = landsat_products_df['display_id'].iloc[0]\n",
    "landsat_product_path = ee.download(\n",
    "    display_id=landsat_product_id,\n",
    "    output_dir=output_dir,\n",
    "    dataset='LANDSAT_8_C2_L2' if date(2025, 1, 1) > date(2022, 5, 1) else 'LANDSAT_9_C2_L2'\n",
    ")\n",
    "\n",
    "print(f'Downloaded Landsat product: {landsat_product_path}')"
   ]
  },
  {
   "cell_type": "markdown",
   "metadata": {},
   "source": [
    "## Step 4: Visualize Sentinel-2 RGB Composite\n",
    "\n",
    "Load and visualize the RGB bands (B4, B3, B2) from the downloaded Sentinel-2 product."
   ]
  },
  {
   "cell_type": "code",
   "execution_count": null,
   "metadata": {},
   "outputs": [],
   "source": [
    "# Define paths to Sentinel-2 RGB bands (10m resolution)\n",
    "sentinel_granule_path = os.path.join(sentinel_product_path, 'GRANULE', '*', 'IMG_DATA', 'R10m')\n",
    "red_path = glob.glob(os.path.join(sentinel_granule_path, '*_B04_10m.jp2'))[0]\n",
    "green_path = glob.glob(os.path.join(sentinel_granule_path, '*_B03_10m.jp2'))[0]\n",
    "blue_path = glob.glob(os.path.join(sentinel_granule_path, '*_B02_10m.jp2'))[0]\n",
    "\n",
    "# Load Sentinel-2 bands\n",
    "with rasterio.open(red_path) as src_red, rasterio.open(green_path) as src_green, rasterio.open(blue_path) as src_blue:\n",
    "    red = src_red.read(1).astype(float)\n",
    "    green = src_green.read(1).astype(float)\n",
    "    blue = src_blue.read(1).astype(float)\n",
    "    sentinel_profile = src_red.profile\n",
    "\n",
    "# Normalize for visualization\n",
    "sentinel_rgb = np.stack([red, green, blue], axis=-1)\n",
    "sentinel_rgb = sentinel_rgb / np.percentile(sentinel_rgb, 98) if np.percentile(sentinel_rgb, 98) > 0 else sentinel_rgb\n",
    "sentinel_rgb = np.clip(sentinel_rgb, 0, 1)\n",
    "\n",
    "# Visualize Sentinel-2 RGB composite\n",
    "plt.figure(figsize=(8, 8))\n",
    "plt.imshow(sentinel_rgb)\n",
    "plt.title(f'Sentinel-2 RGB Composite - {sentinel_product_title}')\n",
    "plt.xlabel('Column')\n",
    "plt.ylabel('Row')\n",
    "plt.show()"
   ]
  },
  {
   "cell_type": "markdown",
   "metadata": {},
   "source": [
    "## Step 5: Visualize Landsat RGB Composite\n",
    "\n",
    "Load and visualize the RGB bands (B4, B3, B2 for Landsat 8/9) from the downloaded Landsat product."
   ]
  },
  {
   "cell_type": "code",
   "execution_count": null,
   "metadata": {},
   "outputs": [],
   "source": [
    "# Define paths to Landsat RGB bands (30m resolution)\n",
    "landsat_product_dir = os.path.join(output_dir, landsat_product_id)\n",
    "red_path = glob.glob(os.path.join(landsat_product_dir, '*_B4.TIF'))[0]\n",
    "green_path = glob.glob(os.path.join(landsat_product_dir, '*_B3.TIF'))[0]\n",
    "blue_path = glob.glob(os.path.join(landsat_product_dir, '*_B2.TIF'))[0]\n",
    "\n",
    "# Load Landsat bands\n",
    "with rasterio.open(red_path) as src_red, rasterio.open(green_path) as src_green, rasterio.open(blue_path) as src_blue:\n",
    "    red = src_red.read(1).astype(float)\n",
    "    green = src_green.read(1).astype(float)\n",
    "    blue = src_blue.read(1).astype(float)\n",
    "    landsat_profile = src_red.profile\n",
    "\n",
    "# Normalize for visualization\n",
    "landsat_rgb = np.stack([red, green, blue], axis=-1)\n",
    "landsat_rgb = landsat_rgb / np.percentile(landsat_rgb, 98) if np.percentile(landsat_rgb, 98) > 0 else landsat_rgb\n",
    "landsat_rgb = np.clip(landsat_rgb, 0, 1)\n",
    "\n",
    "# Visualize Landsat RGB composite\n",
    "plt.figure(figsize=(8, 8))\n",
    "plt.imshow(landsat_rgb)\n",
    "plt.title(f'Landsat RGB Composite - {landsat_product_id}')\n",
    "plt.xlabel('Column')\n",
    "plt.ylabel('Row')\n",
    "plt.show()"
   ]
  },
  {
   "cell_type": "markdown",
   "metadata": {},
   "source": [
    "## Step 6: Save RGB Composites\n",
    "\n",
    "Save the Sentinel-2 and Landsat RGB composites as GeoTIFF files."
   ]
  },
  {
   "cell_type": "code",
   "execution_count": null,
   "metadata": {},
   "outputs": [],
   "source": [
    "# Save Sentinel-2 RGB composite\n",
    "sentinel_output_profile = sentinel_profile.copy()\n",
    "sentinel_output_profile.update(count=3, dtype=rasterio.float32)\n",
    "sentinel_rgb_path = os.path.join(output_dir, f'{sentinel_product_title}_rgb.tif')\n",
    "with rasterio.open(sentinel_rgb_path, 'w', **sentinel_output_profile) as dst:\n",
    "    dst.write(sentinel_rgb.transpose(2, 0, 1))\n",
    "\n",
    "# Save Landsat RGB composite\n",
    "landsat_output_profile = landsat_profile.copy()\n",
    "landsat_output_profile.update(count=3, dtype=rasterio.float32)\n",
    "landsat_rgb_path = os.path.join(output_dir, f'{landsat_product_id}_rgb.tif')\n",
    "with rasterio.open(landsat_rgb_path, 'w', **landsat_output_profile) as dst:\n",
    "    dst.write(landsat_rgb.transpose(2, 0, 1))\n",
    "\n",
    "print(f'Sentinel-2 RGB composite saved to: {sentinel_rgb_path}')\n",
    "print(f'Landsat RGB composite saved to: {landsat_rgb_path}')"
   ]
  },
  {
   "cell_type": "markdown",
   "metadata": {},
   "source": [
    "## Next Steps\n",
    "\n",
    "- Replace `aoi.geojson` with your own area of interest file.\n",
    "- Update `your_scihub_username`, `your_scihub_password`, `your_earthexplorer_username`, and `your_earthexplorer_password` with your credentials.\n",
    "- Adjust the date range or cloud cover thresholds to suit your needs.\n",
    "- Proceed to the next notebook (`22_folium_visualization.ipynb`) for interactive visualization with Folium.\n",
    "\n",
    "## Notes\n",
    "- Ensure the AOI GeoJSON is valid and matches the desired study area.\n",
    "- Sentinel-2 Level-2A products provide atmospherically corrected data; Landsat Collection 2 Level-2 provides surface reflectance.\n",
    "- Check `docs/installation.md` for troubleshooting library installation.\n",
    "- Landsat downloads may require authentication; ensure your EarthExplorer account is active."
   ]
  }
 ],
 "metadata": {
  "kernelspec": {
   "display_name": "Python 3",
   "language": "python",
   "name": "python3"
  },
  "language_info": {
   "codemirror_mode": {
    "name": "ipython",
    "version": 3
   },
   "file_extension": ".py",
   "mimetype": "text/x-python",
   "name": "python",
   "nbconvert_exporter": "python",
   "pygments_lexer": "ipython3",
   "version": "3.8"
  }
 },
 "nbformat": 4,
 "nbformat_minor": 4
}