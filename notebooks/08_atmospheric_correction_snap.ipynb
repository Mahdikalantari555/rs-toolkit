{
 "cells": [
  {
   "cell_type": "markdown",
   "metadata": {},
   "source": [
    "# Atmospheric Correction with SNAP\n",
    "\n",
    "This notebook demonstrates how to perform atmospheric correction on satellite imagery using the SNAP (Sentinel Application Platform) Python API (`snappy`) in Python. Atmospheric correction removes atmospheric effects (e.g., scattering, absorption) to improve the accuracy of surface reflectance data.\n",
    "\n",
    "## Prerequisites\n",
    "- Install required libraries: `snappy`, `rasterio`, `numpy`, `matplotlib` (listed in `requirements.txt`).\n",
    "- A Sentinel-2 Level-1C product (e.g., `S2_product.SAFE`). Replace the file path with your own data.\n",
    "- SNAP software installed and configured with `snappy` (see `docs/installation.md`).\n",
    "\n",
    "## Learning Objectives\n",
    "- Apply atmospheric correction using SNAP’s Sen2Cor processor.\n",
    "- Load and visualize the corrected Level-2A data.\n",
    "- Save the corrected raster for further analysis."
   ]
  },
  {
   "cell_type": "code",
   "execution_count": null,
   "metadata": {},
   "outputs": [],
   "source": [
    "# Import required libraries\n",
    "import snappy\n",
    "from snappy import ProductIO\n",
    "import rasterio\n",
    "import numpy as np\n",
    "import matplotlib.pyplot as plt\n",
    "import os"
   ]
  },
  {
   "cell_type": "markdown",
   "metadata": {},
   "source": [
    "## Step 1: Load Sentinel-2 Level-1C Product\n",
    "\n",
    "Load a Sentinel-2 Level-1C product (.SAFE format) for atmospheric correction."
   ]
  },
  {
   "cell_type": "code",
   "execution_count": null,
   "metadata": {},
   "outputs": [],
   "source": [
    "# Define the path to the Sentinel-2 Level-1C product\n",
    "product_path = 'S2_product.SAFE'\n",
    "\n",
    "# Load the product\n",
    "product = ProductIO.readProduct(product_path)\n",
    "\n",
    "# Print product information\n",
    "print(f'Product Name: {product.getName()}')\n",
    "print(f'Product Type: {product.getProductType()}')"
   ]
  },
  {
   "cell_type": "markdown",
   "metadata": {},
   "source": [
    "## Step 2: Apply Atmospheric Correction with Sen2Cor\n",
    "\n",
    "Use the Sen2Cor processor in SNAP to perform atmospheric correction, converting Level-1C to Level-2A (surface reflectance)."
   ]
  },
  {
   "cell_type": "code",
   "execution_count": null,
   "metadata": {},
   "outputs": [],
   "source": [
    "# Configure Sen2Cor parameters\n",
    "parameters = snappy.HashMap()\n",
    "parameters.put('resolution', '10')  # Output resolution (10m, 20m, or 60m)\n",
    "parameters.put('outputDir', 'corrected_output')  # Output directory\n",
    "\n",
    "# Run Sen2Cor\n",
    "corrected_product = snappy.GPF.createProduct('Sen2Cor', parameters, product)\n",
    "\n",
    "# Save the corrected product\n",
    "output_path = 'corrected_output/S2_L2A_product.SAFE'\n",
    "ProductIO.writeProduct(corrected_product, output_path, 'SENTINEL2')\n",
    "\n",
    "print(f'Corrected product saved to: {output_path}')"
   ]
  },
  {
   "cell_type": "markdown",
   "metadata": {},
   "source": [
    "## Step 3: Load and Visualize Corrected Data\n",
    "\n",
    "Load the corrected Level-2A product and visualize an RGB composite (bands B4, B3, B2)."
   ]
  },
  {
   "cell_type": "code",
   "execution_count": null,
   "metadata": {},
   "outputs": [],
   "source": [
    "# Load a specific band from the corrected product (e.g., 10m resolution)\n",
    "# Adjust the path to the corrected GeoTIFF (e.g., B4 - red)\n",
    "corrected_band_path = os.path.join(output_path, 'GRANULE', '*', 'IMG_DATA', 'R10m', '*_B04_10m.tif')\n",
    "\n",
    "# Open with rasterio\n",
    "with rasterio.open(corrected_band_path) as src:\n",
    "    red = src.read(1).astype(float)\n",
    "    bounds = src.bounds\n",
    "\n",
    "# Visualize corrected band\n",
    "plt.figure(figsize=(8, 8))\n",
    "plt.imshow(red, cmap='gray', vmin=np.percentile(red, 2), vmax=np.percentile(red, 98))\n",
    "plt.colorbar(label='Surface Reflectance')\n",
    "plt.title('Corrected Red Band (B04)')\n",
    "plt.xlabel('Column')\n",
    "plt.ylabel('Row')\n",
    "plt.show()"
   ]
  },
  {
   "cell_type": "markdown",
   "metadata": {},
   "source": [
    "## Step 4: Create RGB Composite\n",
    "\n",
    "Load bands B4 (red), B3 (green), and B2 (blue) from the corrected product to create an RGB composite."
   ]
  },
  {
   "cell_type": "code",
   "execution_count": null,
   "metadata": {},
   "outputs": [],
   "source": [
    "# Define paths to corrected bands (10m resolution)\n",
    "red_path = os.path.join(output_path, 'GRANULE', '*', 'IMG_DATA', 'R10m', '*_B04_10m.tif')\n",
    "green_path = os.path.join(output_path, 'GRANULE', '*', 'IMG_DATA', 'R10m', '*_B03_10m.tif')\n",
    "blue_path = os.path.join(output_path, 'GRANULE', '*', 'IMG_DATA', 'R10m', '*_B02_10m.tif')\n",
    "\n",
    "# Load bands\n",
    "with rasterio.open(red_path) as src_red, rasterio.open(green_path) as src_green, rasterio.open(blue_path) as src_blue:\n",
    "    red = src_red.read(1).astype(float)\n",
    "    green = src_green.read(1).astype(float)\n",
    "    blue = src_blue.read(1).astype(float)\n",
    "\n",
    "# Stack and normalize for visualization\n",
    "rgb = np.stack([red, green, blue], axis=-1)\n",
    "rgb = rgb / np.percentile(rgb, 98) if np.percentile(rgb, 98) > 0 else rgb  # Normalize to 98th percentile\n",
    "rgb = np.clip(rgb, 0, 1)  # Ensure values are in valid range\n",
    "\n",
    "# Visualize RGB composite\n",
    "plt.figure(figsize=(8, 8))\n",
    "plt.imshow(rgb)\n",
    "plt.title('Corrected RGB Composite (B04, B03, B02)')\n",
    "plt.xlabel('Column')\n",
    "plt.ylabel('Row')\n",
    "plt.show()"
   ]
  },
  {
   "cell_type": "markdown",
   "metadata": {},
   "source": [
    "## Next Steps\n",
    "\n",
    "- Replace `S2_product.SAFE` with your own Sentinel-2 Level-1C product.\n",
    "- Adjust Sen2Cor parameters (e.g., resolution, aerosol type) for your data.\n",
    "- Explore other SNAP processors for preprocessing tasks.\n",
    "- Proceed to the next notebook (`09_cloud_masking.ipynb`) for cloud masking.\n",
    "\n",
    "## Notes\n",
    "- Ensure SNAP and `snappy` are properly installed and configured.\n",
    "- Verify the input product is a valid Sentinel-2 Level-1C .SAFE directory.\n",
    "- Corrected bands are typically stored in the `IMG_DATA/R10m` folder of the output.\n",
    "- See `docs/installation.md` for troubleshooting SNAP and `snappy` setup."
   ]
  }
 ],
 "metadata": {
  "kernelspec": {
   "display_name": "Python 3",
   "language": "python",
   "name": "python3"
  },
  "language_info": {
   "codemirror_mode": {
    "name": "ipython",
    "version": 3
   },
   "file_extension": ".py",
   "mimetype": "text/x-python",
   "name": "python",
   "nbconvert_exporter": "python",
   "pygments_lexer": "ipython3",
   "version": "3.8"
  }
 },
 "nbformat": 4,
 "nbformat_minor": 4
}