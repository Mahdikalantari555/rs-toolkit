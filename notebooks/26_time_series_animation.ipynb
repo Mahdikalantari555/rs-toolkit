{
 "cells": [
  {
   "cell_type": "markdown",
   "metadata": {},
   "source": [
    "# Time Series Animation for Remote Sensing Data\n",
    "\n",
    "This notebook demonstrates how to create interactive time series animations for remote sensing data using `keplergl` in Python. It visualizes temporal changes in a stack of raster data (e.g., NDVI from Sentinel-2 imagery) over time, overlaid with vector data (e.g., AOI boundaries). This is useful for monitoring changes like vegetation growth, land cover dynamics, or urban expansion.\n",
    "\n",
    "## Prerequisites\n",
    "- Install required libraries: `keplergl`, `rasterio`, `geopandas`, `numpy`, `matplotlib`, `imageio` (listed in `requirements.txt`).\n",
    "- A stack of preprocessed GeoTIFF files representing a time series (e.g., from `21_download_data.ipynb` or `24_advanced_preprocessing.ipynb`).\n",
    "- A GeoJSON or shapefile defining the area of interest (AOI) (e.g., `aoi.geojson`).\n",
    "- Replace file paths with your own data.\n",
    "\n",
    "## Learning Objectives\n",
    "- Load and preprocess a time series of raster data.\n",
    "- Compute a vegetation index (e.g., NDVI) for each time step.\n",
    "- Create an interactive time series animation with Kepler.gl.\n",
    "- Save the animation as an HTML file for sharing."
   ]
  },
  {
   "cell_type": "code",
   "execution_count": null,
   "metadata": {},
   "outputs": [],
   "source": [
    "# Import required libraries\n",
    "from keplergl import KeplerGl\n",
    "import rasterio\n",
    "import geopandas as gpd\n",
    "import numpy as np\n",
    "import matplotlib.pyplot as plt\n",
    "import imageio\n",
    "from rasterio.warp import transform_bounds\n",
    "import glob\n",
    "import os\n",
    "from datetime import datetime"
   ]
  },
  {
   "cell_type": "markdown",
   "metadata": {},
   "source": [
    "## Step 1: Load Time Series Rasters and AOI\n",
    "\n",
    "Load a series of preprocessed GeoTIFF files and the AOI vector data."
   ]
  },
  {
   "cell_type": "code",
   "execution_count": null,
   "metadata": {},
   "outputs": [],
   "source": [
    "# Define file paths\n",
    "raster_dir = 'remote_sensing_data/time_series/'  # Directory with time series GeoTIFFs\n",
    "aoi_path = 'aoi.geojson'                        # Replace with your AOI file\n",
    "raster_files = sorted(glob.glob(os.path.join(raster_dir, '*.tif')))  # Replace with your file pattern\n",
    "\n",
    "# Load rasters and extract dates\n",
    "raster_stack = []\n",
    "dates = []\n",
    "for file in raster_files:\n",
    "    with rasterio.open(file) as src:\n",
    "        raster_stack.append(src.read(masked=True))  # Shape: (bands, height, width)\n",
    "        profile = src.profile\n",
    "        raster_crs = src.crs\n",
    "    # Extract date from filename (assumes format like 'sentinel_2023_01_01.tif')\n",
    "    date_str = os.path.basename(file).split('_')[1]  # Adjust based on your naming convention\n",
    "    dates.append(datetime.strptime(date_str, '%Y_%m_%d'))\n",
    "\n",
    "# Convert to numpy array\n",
    "raster_stack = np.stack(raster_stack, axis=0)  # Shape: (time, bands, height, width)\n",
    "\n",
    "# Load AOI\n",
    "aoi_gdf = gpd.read_file(aoi_path)\n",
    "if aoi_gdf.crs != raster_crs:\n",
    "    aoi_gdf = aoi_gdf.to_crs(raster_crs)\n",
    "\n",
    "# Print basic information\n",
    "print(f'Time series shape: {raster_stack.shape}')\n",
    "print(f'Dates: {dates}')\n",
    "print(f'Raster CRS: {raster_crs}')\n",
    "print(f'AOI CRS: {aoi_gdf.crs}')"
   ]
  },
  {
   "cell_type": "markdown",
   "metadata": {},
   "source": [
    "## Step 2: Compute NDVI for Each Time Step\n",
    "\n",
    "Calculate the Normalized Difference Vegetation Index (NDVI) for each raster in the time series."
   ]
  },
  {
   "cell_type": "code",
   "execution_count": null,
   "metadata": {},
   "outputs": [],
   "source": [
    "# Assume Sentinel-2 bands: B4 (Red, index 0), B8 (NIR, index 3)\n",
    "red_band_idx = 0\n",
    "nir_band_idx = 3\n",
    "\n",
    "# Compute NDVI: (NIR - Red) / (NIR + Red)\n",
    "ndvi_stack = np.zeros((len(raster_stack), raster_stack.shape[2], raster_stack.shape[3]), dtype=np.float32)\n",
    "for t in range(len(raster_stack)):\n",
    "    red = raster_stack[t, red_band_idx].astype(float)\n",
    "    nir = raster_stack[t, nir_band_idx].astype(float)\n",
    "    ndvi_stack[t] = np.where((nir + red) != 0, (nir - red) / (nir + red), np.nan)\n",
    "\n",
    "# Visualize NDVI for the first time step\n",
    "plt.figure(figsize=(8, 8))\n",
    "plt.imshow(ndvi_stack[0], cmap='RdYlGn', vmin=-1, vmax=1)\n",
    "plt.colorbar(label='NDVI')\n",
    "plt.title(f'NDVI - {dates[0].strftime(\"%Y-%m-%d\")}')\n",
    "plt.xlabel('Column')\n",
    "plt.ylabel('Row')\n",
    "plt.show()"
   ]
  },
  {
   "cell_type": "markdown",
   "metadata": {},
   "source": [
    "## Step 3: Prepare NDVI Rasters for Kepler.gl\n",
    "\n",
    "Normalize NDVI data and save each time step as a PNG for Kepler.gl animation."
   ]
  },
  {
   "cell_type": "code",
   "execution_count": null,
   "metadata": {},
   "outputs": [],
   "source": [
    "# Create temporary directory for PNGs\n",
    "temp_dir = 'temp_ndvi_pngs/'\n",
    "os.makedirs(temp_dir, exist_ok=True)\n",
    "\n",
    "# Normalize NDVI and save as PNGs\n",
    "png_files = []\n",
    "with rasterio.open(raster_files[0]) as src:\n",
    "    bounds = src.bounds\n",
    "    raster_crs = src.crs\n",
    "bounds_latlon = transform_bounds(raster_crs, 'EPSG:4326', *bounds)\n",
    "\n",
    "for t, date in enumerate(dates):\n",
    "    ndvi_normalized = (ndvi_stack[t] + 1) / 2  # Scale NDVI (-1,1) to (0,1)\n",
    "    ndvi_normalized = np.clip(ndvi_normalized, 0, 1)\n",
    "    png_path = os.path.join(temp_dir, f'ndvi_{date.strftime(\"%Y%m%d\")}.png')\n",
    "    imageio.imwrite(png_path, (ndvi_normalized * 255).astype(np.uint8))\n",
    "    png_files.append(png_path)\n",
    "\n",
    "print(f'Saved {len(png_files)} NDVI PNGs to: {temp_dir}')"
   ]
  },
  {
   "cell_type": "markdown",
   "metadata": {},
   "source": [
    "## Step 4: Create Kepler.gl Time Series Animation\n",
    "\n",
    "Initialize a Kepler.gl map and add NDVI time series and AOI as layers."
   ]
  },
  {
   "cell_type": "code",
   "execution_count": null,
   "metadata": {},
   "outputs": [],
   "source": [
    "# Initialize Kepler.gl map\n",
    "map_config = {\n",
    "    'version': 'v1',\n",
    "    'config': {\n",
    "        'mapState': {\n",
    "            'latitude': (bounds_latlon[1] + bounds_latlon[3]) / 2,\n",
    "            'longitude': (bounds_latlon[0] + bounds_latlon[2]) / 2,\n",
    "            'zoom': 10\n",
    "        },\n",
    "        'mapStyle': {\n",
    "            'styleType': 'dark'\n",
    "        }\n",
    "    }\n",
    "}\n",
    "m = KeplerGl(height=600, config=map_config)\n",
    "\n",
    "# Add NDVI time series as image layers with timestamps\n",
    "for png_path, date in zip(png_files, dates):\n",
    "    m.add_data(\n",
    "        data={\n",
    "            'type': 'image',\n",
    "            'url': png_path,\n",
    "            'bounds': [bounds_latlon[0], bounds_latlon[1], bounds_latlon[2], bounds_latlon[3]],\n",
    "            'timestamp': date.strftime('%Y-%m-%d')\n",
    "        },\n",
    "        name=f'NDVI_{date.strftime(\"%Y%m%d\")}'\n",
    "    )\n",
    "\n",
    "# Add AOI as vector layer\n",
    "temp_geojson = 'temp_aoi.geojson'\n",
    "aoi_gdf.to_crs('EPSG:4326').to_file(temp_geojson, driver='GeoJSON')\n",
    "with open(temp_geojson, 'r') as f:\n",
    "    m.add_data(data=f.read(), name='AOI')\n",
    "\n",
    "# Configure time series settings\n",
    "m.config['config']['visState'] = {\n",
    "    'layers': [\n",
    "        {\n",
    "            'type': 'grid',\n",
    "            'config': {\n",
    "                'dataId': f'NDVI_{dates[0].strftime(\"%Y%m%d\")}',\n",
    "                'visualChannels': {'colorField': None, 'colorScale': 'quantile'}\n",
    "            }\n",
    "        },\n",
    "        {\n",
    "            'type': 'geojson',\n",
    "            'config': {\n",
    "                'dataId': 'AOI',\n",
    "                'visualChannels': {'colorField': None, 'color': [255, 0, 0], 'strokeColor': [255, 0, 0]}\n",
    "            }\n",
    "        }\n",
    "    ],\n",
    "    'filters': [\n",
    "        {\n",
    "            'dataId': [f'NDVI_{date.strftime(\"%Y%m%d\")}' for date in dates],\n",
    "            'name': 'timestamp',\n",
    "            'type': 'timeRange',\n",
    "            'value': [int(dates[0].timestamp() * 1000), int(dates[-1].timestamp() * 1000)]\n",
    "        }\n",
    "    ]\n",
    "}\n",
    "\n",
    "# Display map\n",
    "m"
   ]
  },
  {
   "cell_type": "markdown",
   "metadata": {},
   "source": [
    "## Step 5: Save the Interactive Animation\n",
    "\n",
    "Save the Kepler.gl map as an HTML file for sharing."
   ]
  },
  {
   "cell_type": "code",
   "execution_count": null,
   "metadata": {},
   "outputs": [],
   "source": [
    "# Save map to HTML\n",
    "output_map_path = 'time_series_animation.html'\n",
    "m.save_to_html(file_name=output_map_path)\n",
    "\n",
    "print(f'Interactive animation saved to: {output_map_path}')\n",
    "\n",
    "# Clean up temporary files\n",
    "for png in png_files:\n",
    "    os.remove(png)\n",
    "os.rmdir(temp_dir)\n",
    "os.remove(temp_geojson)"
   ]
  },
  {
   "cell_type": "markdown",
   "metadata": {},
   "source": [
    "## Step 6: Static Visualization for Reference\n",
    "\n",
    "Create a static plot of NDVI for a middle time step with AOI overlay."
   ]
  },
  {
   "cell_type": "code",
   "execution_count": null,
   "metadata": {},
   "outputs": [],
   "source": [
    "# Select middle time step\n",
    "mid_idx = len(dates) // 2\n",
    "\n",
    "# Plot NDVI with AOI\n",
    "fig, ax = plt.subplots(figsize=(8, 8))\n",
    "ax.imshow(ndvi_stack[mid_idx], cmap='RdYlGn', vmin=-1, vmax=1)\n",
    "aoi_gdf.plot(ax=ax, facecolor='none', edgecolor='red', linewidth=2)\n",
    "plt.colorbar(label='NDVI')\n",
    "plt.title(f'NDVI with AOI - {dates[mid_idx].strftime(\"%Y-%m-%d\")}')\n",
    "plt.xlabel('Column')\n",
    "plt.ylabel('Row')\n",
    "plt.show()"
   ]
  },
  {
   "cell_type": "markdown",
   "metadata": {},
   "source": [
    "## Next Steps\n",
    "\n",
    "- Replace `remote_sensing_data/time_series/*.tif` with your own time series GeoTIFFs (e.g., from `21_download_data.ipynb`).\n",
    "- Update `aoi.geojson` with your area of interest file.\n",
    "- Adjust the date parsing logic in Step 1 to match your file naming convention.\n",
    "- Customize the Kepler.gl animation by adding other indices (e.g., NDWI) or tweaking layer styles in the Kepler.gl interface.\n",
    "- Proceed to analysis notebooks like `17_time_series_analysis.ipynb` for quantitative analysis or `15_unet_segmentation.ipynb` for segmentation of time series data.\n",
    "\n",
    "## Notes\n",
    "- Ensure all rasters in the time series have the same CRS, resolution, and dimensions (see `24_advanced_preprocessing.ipynb`).\n",
    "- Large raster stacks may require downsampling to avoid memory issues in Kepler.gl.\n",
    "- Use the Kepler.gl interface to adjust animation speed, color scales, or layer visibility.\n",
    "- See `docs/installation.md` for troubleshooting library installation."
   ]
  }
 ],
 "metadata": {
  "kernelspec": {
   "display_name": "Python 3",
   "language": "python",
   "name": "python3"
  },
  "language_info": {
   "codemirror_mode": {
    "name": "ipython",
    "version": 3
   },
   "file_extension": ".py",
   "mimetype": "text/x-python",
   "name": "python",
   "nbconvert_exporter": "python",
   "pygments_lexer": "ipython3",
   "version": "3.8"
  }
 },
 "nbformat": 4,
 "nbformat_minor": 4
}