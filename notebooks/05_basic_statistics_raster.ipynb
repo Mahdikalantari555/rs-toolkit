{
 "cells": [
  {
   "cell_type": "markdown",
   "metadata": {},
   "source": [
    "# Basic Statistics for Raster Data\n",
    "\n",
    "This notebook demonstrates how to compute basic statistics for raster data using `rasterio` and `numpy` in Python. Statistics such as mean, standard deviation, minimum, maximum, and histograms are essential for understanding remote sensing datasets.\n",
    "\n",
    "## Prerequisites\n",
    "- Install required libraries: `rasterio`, `numpy`, `matplotlib` (listed in `requirements.txt`).\n",
    "- A sample GeoTIFF file (e.g., `sample.tif`). Replace the file path with your own raster file.\n",
    "\n",
    "## Learning Objectives\n",
    "- Compute global and per-band statistics for raster data.\n",
    "- Generate histograms for raster values.\n",
    "- Handle masked or no-data values in calculations."
   ]
  },
  {
   "cell_type": "code",
   "execution_count": null,
   "metadata": {},
   "outputs": [],
   "source": [
    "# Import required libraries\n",
    "import rasterio\n",
    "import numpy as np\n",
    "import matplotlib.pyplot as plt"
   ]
  },
  {
   "cell_type": "markdown",
   "metadata": {},
   "source": [
    "## Step 1: Load the Raster File\n",
    "\n",
    "Load the raster file and read its data. We’ll handle no-data values by masking them."
   ]
  },
  {
   "cell_type": "code",
   "execution_count": null,
   "metadata": {},
   "outputs": [],
   "source": [
    "# Define the path to the raster file\n",
    "raster_path = 'sample.tif'\n",
    "\n",
    "# Open the raster file\n",
    "with rasterio.open(raster_path) as src:\n",
    "    raster_data = src.read(masked=True)  # Read with mask for no-data values\n",
    "    nodata = src.nodata\n",
    "\n",
    "# Print basic information\n",
    "print(f'Raster shape: {raster_data.shape}')\n",
    "print(f'No-data value: {nodata}')"
   ]
  },
  {
   "cell_type": "markdown",
   "metadata": {},
   "source": [
    "## Step 2: Compute Global Statistics\n",
    "\n",
    "Calculate statistics across all bands, treating the raster as a flattened array (ignoring no-data values)."
   ]
  },
  {
   "cell_type": "code",
   "execution_count": null,
   "metadata": {},
   "outputs": [],
   "source": [
    "# Flatten the raster data (all bands) and mask no-data\n",
    "flattened_data = raster_data.compressed()  # Returns array without masked values\n",
    "\n",
    "# Compute statistics\n",
    "global_min = np.min(flattened_data)\n",
    "global_max = np.max(flattened_data)\n",
    "global_mean = np.mean(flattened_data)\n",
    "global_std = np.std(flattened_data)\n",
    "\n",
    "# Print global statistics\n",
    "print(f'Global Min: {global_min}')\n",
    "print(f'Global Max: {global_max}')\n",
    "print(f'Global Mean: {global_mean}')\n",
    "print(f'Global Standard Deviation: {global_std}')"
   ]
  },
  {
   "cell_type": "markdown",
   "metadata": {},
   "source": [
    "## Step 3: Compute Per-Band Statistics\n",
    "\n",
    "Calculate statistics for each band individually."
   ]
  },
  {
   "cell_type": "code",
   "execution_count": null,
   "metadata": {},
   "outputs": [],
   "source": [
    "# Number of bands\n",
    "num_bands = raster_data.shape[0]\n",
    "\n",
    "# Compute statistics per band\n",
    "for band in range(num_bands):\n",
    "    band_data = raster_data[band].compressed()\n",
    "    band_min = np.min(band_data)\n",
    "    band_max = np.max(band_data)\n",
    "    band_mean = np.mean(band_data)\n",
    "    band_std = np.std(band_data)\n",
    "    print(f'Band {band+1}: Min={band_min}, Max={band_max}, Mean={band_mean}, Std={band_std}')"
   ]
  },
  {
   "cell_type": "markdown",
   "metadata": {},
   "source": [
    "## Step 4: Generate Histogram\n",
    "\n",
    "Create a histogram for a selected band to visualize the distribution of pixel values."
   ]
  },
  {
   "cell_type": "code",
   "execution_count": null,
   "metadata": {},
   "outputs": [],
   "source": [
    "# Select the first band for histogram\n",
    "band_data = raster_data[0].compressed()\n",
    "\n",
    "# Plot histogram\n",
    "plt.figure(figsize=(8, 6))\n",
    "plt.hist(band_data, bins=50, color='blue', alpha=0.7)\n",
    "plt.title('Histogram of Band 1')\n",
    "plt.xlabel('Pixel Value')\n",
    "plt.ylabel('Frequency')\n",
    "plt.show()"
   ]
  },
  {
   "cell_type": "markdown",
   "metadata": {},
   "source": [
    "## Next Steps\n",
    "\n",
    "- Replace `sample.tif` with your own raster file.\n",
    "- Compute additional statistics (e.g., median, percentiles) using `np.median` or `np.percentile`.\n",
    "- Generate histograms for other bands or the entire dataset.\n",
    "- Proceed to the next notebook (`06_reproject_resample_raster.ipynb`) to learn raster reprojection and resampling.\n",
    "\n",
    "## Notes\n",
    "- Using `masked=True` ensures no-data values are excluded from calculations.\n",
    "- For large rasters, consider computing statistics in chunks to save memory.\n",
    "- See `docs/installation.md` for troubleshooting library installation."
   ]
  }
 ],
 "metadata": {
  "kernelspec": {
   "display_name": "Python 3",
   "language": "python",
   "name": "python3"
  },
  "language_info": {
   "codemirror_mode": {
    "name": "ipython",
    "version": 3
   },
   "file_extension": ".py",
   "mimetype": "text/x-python",
   "name": "python",
   "nbconvert_exporter": "python",
   "pygments_lexer": "ipython3",
   "version": "3.8"
  }
 },
 "nbformat": 4,
 "nbformat_minor": 4
}