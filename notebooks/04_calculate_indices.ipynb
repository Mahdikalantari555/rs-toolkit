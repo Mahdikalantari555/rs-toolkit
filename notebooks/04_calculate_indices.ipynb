{
 "cells": [
  {
   "cell_type": "markdown",
   "metadata": {},
   "source": [
    "# Calculating Remote Sensing Indices\n",
    "\n",
    "This notebook demonstrates how to calculate common remote sensing indices, such as NDVI (Normalized Difference Vegetation Index) and NDWI (Normalized Difference Water Index), using `rasterio` and `numpy` in Python. These indices are derived from multispectral raster data, such as Sentinel-2 imagery.\n",
    "\n",
    "## Prerequisites\n",
    "- Install required libraries: `rasterio`, `numpy`, `matplotlib` (listed in `requirements.txt`).\n",
    "- A multi-band GeoTIFF file (e.g., `sample.tif` with Sentinel-2 bands). Replace the file path with your own raster file.\n",
    "\n",
    "## Learning Objectives\n",
    "- Calculate NDVI and NDWI from multispectral raster data.\n",
    "- Visualize the resulting indices.\n",
    "- Save the index rasters to new files."
   ]
  },
  {
   "cell_type": "code",
   "execution_count": null,
   "metadata": {},
   "outputs": [],
   "source": [
    "# Import required libraries\n",
    "import rasterio\n",
    "import numpy as np\n",
    "import matplotlib.pyplot as plt"
   ]
  },
  {
   "cell_type": "markdown",
   "metadata": {},
   "source": [
    "## Step 1: Load the Raster File\n",
    "\n",
    "Load a multi-band raster file (e.g., Sentinel-2 imagery). We assume the raster has at least the red (band 4) and near-infrared (NIR, band 8) bands for NDVI, and green (band 3) and NIR for NDWI."
   ]
  },
  {
   "cell_type": "code",
   "execution_count": null,
   "metadata": {},
   "outputs": [],
   "source": [
    "# Define the path to the raster file\n",
    "raster_path = 'sample.tif'\n",
    "\n",
    "# Open the raster file\n",
    "with rasterio.open(raster_path) as src:\n",
    "    # Read red (band 4), green (band 3), and NIR (band 8) for Sentinel-2\n",
    "    red = src.read(4).astype(float)\n",
    "    green = src.read(3).astype(float)\n",
    "    nir = src.read(8).astype(float)\n",
    "    profile = src.profile\n",
    "\n",
    "# Print basic information\n",
    "print(f'Raster shape: {red.shape}')\n",
    "print(f'Number of bands: {profile[\"count\"]}')"
   ]
  },
  {
   "cell_type": "markdown",
   "metadata": {},
   "source": [
    "## Step 2: Calculate NDVI\n",
    "\n",
    "NDVI is calculated as: `(NIR - Red) / (NIR + Red)`. This index highlights vegetation health, with values ranging from -1 to 1."
   ]
  },
  {
   "cell_type": "code",
   "execution_count": null,
   "metadata": {},
   "outputs": [],
   "source": [
    "# Calculate NDVI\n",
    "ndvi = (nir - red) / (nir + red + 1e-10)  # Add small value to avoid division by zero\n",
    "\n",
    "# Handle invalid values\n",
    "ndvi = np.clip(ndvi, -1, 1)  # Ensure NDVI is within valid range\n",
    "\n",
    "# Visualize NDVI\n",
    "plt.figure(figsize=(8, 8))\n",
    "plt.imshow(ndvi, cmap='RdYlGn', vmin=-1, vmax=1)\n",
    "plt.colorbar(label='NDVI')\n",
    "plt.title('Normalized Difference Vegetation Index (NDVI)')\n",
    "plt.xlabel('Column')\n",
    "plt.ylabel('Row')\n",
    "plt.show()"
   ]
  },
  {
   "cell_type": "markdown",
   "metadata": {},
   "source": [
    "## Step 3: Calculate NDWI\n",
    "\n",
    "NDWI is calculated as: `(Green - NIR) / (Green + NIR)`. This index highlights water bodies, with positive values indicating water."
   ]
  },
  {
   "cell_type": "code",
   "execution_count": null,
   "metadata": {},
   "outputs": [],
   "source": [
    "# Calculate NDWI\n",
    "ndwi = (green - nir) / (green + nir + 1e-10)  # Add small value to avoid division by zero\n",
    "\n",
    "# Handle invalid values\n",
    "ndwi = np.clip(ndwi, -1, 1)  # Ensure NDWI is within valid range\n",
    "\n",
    "# Visualize NDWI\n",
    "plt.figure(figsize=(8, 8))\n",
    "plt.imshow(ndwi, cmap='Blues', vmin=-1, vmax=1)\n",
    "plt.colorbar(label='NDWI')\n",
    "plt.title('Normalized Difference Water Index (NDWI)')\n",
    "plt.xlabel('Column')\n",
    "plt.ylabel('Row')\n",
    "plt.show()"
   ]
  },
  {
   "cell_type": "markdown",
   "metadata": {},
   "source": [
    "## Step 4: Save the Indices\n",
    "\n",
    "Save the NDVI and NDWI rasters as new GeoTIFF files."
   ]
  },
  {
   "cell_type": "code",
   "execution_count": null,
   "metadata": {},
   "outputs": [],
   "source": [
    "# Update profile for single-band output\n",
    "output_profile = profile.copy()\n",
    "output_profile.update(count=1, dtype=rasterio.float32)\n",
    "\n",
    "# Save NDVI\n",
    "with rasterio.open('ndvi.tif', 'w', **output_profile) as dst:\n",
    "    dst.write(ndvi.astype(rasterio.float32), 1)\n",
    "\n",
    "# Save NDWI\n",
    "with rasterio.open('ndwi.tif', 'w', **output_profile) as dst:\n",
    "    dst.write(ndwi.astype(rasterio.float32), 1)\n",
    "\n",
    "print('NDVI saved to: ndvi.tif')\n",
    "print('NDWI saved to: ndwi.tif')"
   ]
  },
  {
   "cell_type": "markdown",
   "metadata": {},
   "source": [
    "## Next Steps\n",
    "\n",
    "- Replace `sample.tif` with your own multi-band raster (e.g., Sentinel-2 imagery).\n",
    "- Adjust band indices based on your dataset (e.g., for Landsat, red and NIR bands differ).\n",
    "- Try calculating other indices (e.g., EVI, SAVI) by modifying the formulas.\n",
    "- Proceed to the next notebook (`05_basic_statistics_raster.ipynb`) to compute raster statistics.\n",
    "\n",
    "## Notes\n",
    "- Ensure the raster has the required bands (e.g., red, green, NIR for Sentinel-2).\n",
    "- Check for invalid values (e.g., NaN) in the output indices.\n",
    "- See `docs/installation.md` for troubleshooting library installation."
   ]
  }
 ],
 "metadata": {
  "kernelspec": {
   "display_name": "Python 3",
   "language": "python",
   "name": "python3"
  },
  "language_info": {
   "codemirror_mode": {
    "name": "ipython",
    "version": 3
   },
   "file_extension": ".py",
   "mimetype": "text/x-python",
   "name": "python",
   "nbconvert_exporter": "python",
   "pygments_lexer": "ipython3",
   "version": "3.8"
  }
 },
 "nbformat": 4,
 "nbformat_minor": 4
}