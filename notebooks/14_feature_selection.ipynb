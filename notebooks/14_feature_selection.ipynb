{
 "cells": [
  {
   "cell_type": "markdown",
   "metadata": {},
   "source": [
    "# Feature Selection for Remote Sensing Data\n",
    "\n",
    "This notebook demonstrates how to perform feature selection on multi-band raster data using `scikit-learn` in Python. Feature selection identifies the most important bands or derived features for machine learning tasks, reducing dimensionality and improving model performance.\n",
    "\n",
    "## Prerequisites\n",
    "- Install required libraries: `rasterio`, `geopandas`, `scikit-learn`, `numpy`, `matplotlib` (listed in `requirements.txt`).\n",
    "- A multi-band GeoTIFF file (e.g., `sample.tif`) and a shapefile with labeled data (e.g., `labels.shp`). Replace file paths with your own data.\n",
    "\n",
    "## Learning Objectives\n",
    "- Extract features from a raster using labeled data.\n",
    "- Apply feature selection using Random Forest importance scores.\n",
    "- Visualize and save selected features."
   ]
  },
  {
   "cell_type": "code",
   "execution_count": null,
   "metadata": {},
   "outputs": [],
   "source": [
    "# Import required libraries\n",
    "import rasterio\n",
    "import geopandas as gpd\n",
    "import numpy as np\n",
    "import matplotlib.pyplot as plt\n",
    "from sklearn.ensemble import RandomForestClassifier\n",
    "from rasterio.features import geometry_mask"
   ]
  },
  {
   "cell_type": "markdown",
   "metadata": {},
   "source": [
    "## Step 1: Load Raster and Labeled Data\n",
    "\n",
    "Load the multi-band raster and shapefile with labeled data."
   ]
  },
  {
   "cell_type": "code",
   "execution_count": null,
   "metadata": {},
   "outputs": [],
   "source": [
    "# Define file paths\n",
    "raster_path = 'sample.tif'\n",
    "shapefile_path = 'labels.shp'\n",
    "\n",
    "# Load the shapefile\n",
    "gdf = gpd.read_file(shapefile_path)\n",
    "\n",
    "# Load the raster\n",
    "with rasterio.open(raster_path) as src:\n",
    "    raster_data = src.read()  # Shape: (bands, height, width)\n",
    "    raster_crs = src.crs\n",
    "    raster_transform = src.transform\n",
    "    profile = src.profile\n",
    "\n",
    "# Reproject shapefile to match raster CRS if needed\n",
    "if gdf.crs != raster_crs:\n",
    "    gdf = gdf.to_crs(raster_crs)\n",
    "\n",
    "# Print basic information\n",
    "print(f'Raster shape: {raster_data.shape}')\n",
    "print(f'Number of classes: {gdf['class'].nunique()}')  # Assumes 'class' column"
   ]
  },
  {
   "cell_type": "markdown",
   "metadata": {},
   "source": [
    "## Step 2: Extract Training Data\n",
    "\n",
    "Extract pixel values from the raster at labeled geometry locations."
   ]
  },
  {
   "cell_type": "code",
   "execution_count": null,
   "metadata": {},
   "outputs": [],
   "source": [
    "# Initialize lists for features and labels\n",
    "X_train = []\n",
    "y_train = []\n",
    "\n",
    "# Extract pixel values for each geometry\n",
    "for idx, row in gdf.iterrows():\n",
    "    geom = row.geometry\n",
    "    label = row['class']  # Assumes 'class' column\n",
    "    mask = geometry_mask([geom], transform=raster_transform, out_shape=(raster_data.shape[1], raster_data.shape[2]), invert=True)\n",
    "    for band in range(raster_data.shape[0]):\n",
    "        band_data = raster_data[band][mask]\n",
    "        if band == 0:\n",
    "            features = band_data[:, np.newaxis]\n",
    "        else:\n",
    "            features = np.hstack((features, band_data[:, np.newaxis]))\n",
    "    X_train.extend(features)\n",
    "    y_train.extend([label] * len(band_data))\n",
    "\n",
    "# Convert to arrays\n",
    "X_train = np.array(X_train)\n",
    "y_train = np.array(y_train)\n",
    "\n",
    "# Print training data info\n",
    "print(f'Training features shape: {X_train.shape}')\n",
    "print(f'Training labels shape: {y_train.shape}')"
   ]
  },
  {
   "cell_type": "markdown",
   "metadata": {},
   "source": [
    "## Step 3: Perform Feature Selection\n",
    "\n",
    "Use Random Forest to compute feature importance scores and select the top features."
   ]
  },
  {
   "cell_type": "code",
   "execution_count": null,
   "metadata": {},
   "outputs": [],
   "source": [
    "# Train Random Forest classifier\n",
    "rf = RandomForestClassifier(n_estimators=100, random_state=42)\n",
    "rf.fit(X_train, y_train)\n",
    "\n",
    "# Get feature importance scores\n",
    "importances = rf.feature_importances_\n",
    "indices = np.argsort(importances)[::-1]  # Sort in descending order\n",
    "\n",
    "# Select top features (e.g., top 3 bands)\n",
    "n_top_features = 3\n",
    "top_indices = indices[:n_top_features]\n",
    "\n",
    "# Print feature importance\n",
    "print('Feature Importance Scores:')\n",
    "for i, idx in enumerate(indices):\n",
    "    print(f'Band {idx+1}: {importances[idx]:.4f}')\n",
    "\n",
    "# Selected bands\n",
    "print(f'Selected top {n_top_features} bands: {top_indices+1}')"
   ]
  },
  {
   "cell_type": "markdown",
   "metadata": {},
   "source": [
    "## Step 4: Create Raster with Selected Features\n",
    "\n",
    "Extract the top selected bands from the original raster."
   ]
  },
  {
   "cell_type": "code",
   "execution_count": null,
   "metadata": {},
   "outputs": [],
   "source": [
    "# Create raster with selected bands\n",
    "selected_data = raster_data[top_indices]\n",
    "\n",
    "# Update profile for selected bands\n",
    "selected_profile = profile.copy()\n",
    "selected_profile.update(count=n_top_features)\n",
    "\n",
    "# Save selected features raster\n",
    "with rasterio.open('selected_features.tif', 'w', **selected_profile) as dst:\n",
    "    dst.write(selected_data)\n",
    "\n",
    "print(f'Selected features raster saved to: selected_features.tif')"
   ]
  },
  {
   "cell_type": "markdown",
   "metadata": {},
   "source": [
    "## Step 5: Visualize Feature Importance\n",
    "\n",
    "Plot the feature importance scores for all bands."
   ]
  },
  {
   "cell_type": "code",
   "execution_count": null,
   "metadata": {},
   "outputs": [],
   "source": [
    "# Plot feature importance\n",
    "plt.figure(figsize=(8, 6))\n",
    "plt.bar(range(len(importances)), importances[indices], align='center')\n",
    "plt.xticks(range(len(importances)), [f'Band {i+1}' for i in indices])\n",
    "plt.title('Feature Importance Scores')\n",
    "plt.xlabel('Band')\n",
    "plt.ylabel('Importance')\n",
    "plt.show()"
   ]
  },
  {
   "cell_type": "markdown",
   "metadata": {},
   "source": [
    "## Next Steps\n",
    "\n",
    "- Replace `sample.tif` and `labels.shp` with your own raster and labeled shapefile.\n",
    "- Adjust the number of selected features (`n_top_features`).\n",
    "- Use the selected features for classification (see `12_classification_rf_svm.ipynb`).\n",
    "- Proceed to the next notebook (`15_unet_segmentation.ipynb`) for deep learning segmentation.\n",
    "\n",
    "## Notes\n",
    "- Ensure the shapefile has a 'class' column with labels.\n",
    "- Feature selection reduces computational cost but may affect model accuracy.\n",
    "- See `docs/installation.md` for troubleshooting library installation."
   ]
  }
 ],
 "metadata": {
  "kernelspec": {
   "display_name": "Python 3",
   "language": "python",
   "name": "python3"
  },
  "language_info": {
   "codemirror_mode": {
    "name": "ipython",
    "version": 3
   },
   "file_extension": ".py",
   "mimetype": "text/x-python",
   "name": "python",
   "nbconvert_exporter": "python",
   "pygments_lexer": "ipython3",
   "version": "3.8"
  }
 },
 "nbformat": 4,
 "nbformat_minor": 4
}