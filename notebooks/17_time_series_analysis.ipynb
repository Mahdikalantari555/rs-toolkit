{
 "cells": [
  {
   "cell_type": "markdown",
   "metadata": {},
   "source": [
    "# Time Series Analysis of Remote Sensing Data\n",
    "\n",
    "This notebook demonstrates how to perform time series analysis on a stack of remote sensing rasters using `rasterio`, `numpy`, and `pandas` in Python. Time series analysis is useful for monitoring changes in land cover, vegetation, or other phenomena over time.\n",
    "\n",
    "## Prerequisites\n",
    "- Install required libraries: `rasterio`, `numpy`, `pandas`, `matplotlib` (listed in `requirements.txt`).\n",
    "- A set of GeoTIFF files representing a time series (e.g., `raster_2023_01.tif`, `raster_2023_02.tif`, etc.). Replace file paths with your own data.\n",
    "\n",
    "## Learning Objectives\n",
    "- Load and stack multiple rasters into a time series.\n",
    "- Compute temporal statistics (e.g., mean, trend) for a specific band.\n",
    "- Visualize time series data and trends."
   ]
  },
  {
   "cell_type": "code",
   "execution_count": null,
   "metadata": {},
   "outputs": [],
   "source": [
    "# Import required libraries\n",
    "import rasterio\n",
    "import numpy as np\n",
    "import pandas as pd\n",
    "import matplotlib.pyplot as plt\n",
    "import glob\n",
    "from scipy.stats import linregress"
   ]
  },
  {
   "cell_type": "markdown",
   "metadata": {},
   "source": [
    "## Step 1: Load Time Series Rasters\n",
    "\n",
    "Load a series of raster files and stack them into a 4D array (time, bands, height, width)."
   ]
  },
  {
   "cell_type": "code",
   "execution_count": null,
   "metadata": {},
   "outputs": [],
   "source": [
    "# Define directory and pattern for raster files\n",
    "raster_dir = 'time_series_data/'\n",
    "raster_files = sorted(glob.glob(raster_dir + 'raster_*.tif'))  # Replace with your file pattern\n",
    "\n",
    "# Load rasters\n",
    "raster_stack = []\n",
    "dates = []\n",
    "for file in raster_files:\n",
    "    with rasterio.open(file) as src:\n",
    "        raster_stack.append(src.read())\n",
    "        profile = src.profile\n",
    "    # Extract date from filename (assumes format like raster_2023_01.tif)\n",
    "    date = file.split('_')[-1].replace('.tif', '')\n",
    "    dates.append(pd.to_datetime(date, format='%Y_%m'))\n",
    "\n",
    "# Convert to numpy array\n",
    "raster_stack = np.stack(raster_stack, axis=0)  # Shape: (time, bands, height, width)\n",
    "\n",
    "# Print basic information\n",
    "print(f'Time series shape: {raster_stack.shape}')\n",
    "print(f'Time points: {dates}')"
   ]
  },
  {
   "cell_type": "markdown",
   "metadata": {},
   "source": [
    "## Step 2: Compute Temporal Statistics\n",
    "\n",
    "Calculate the mean and trend for a specific band (e.g., band 1) across the time series."
   ]
  },
  {
   "cell_type": "code",
   "execution_count": null,
   "metadata": {},
   "outputs": [],
   "source": [
    "# Select band 1 (index 0) for analysis\n",
    "band_idx = 0\n",
    "band_data = raster_stack[:, band_idx, :, :]\n",
    "\n",
    "# Compute temporal mean\n",
    "temporal_mean = np.mean(band_data, axis=0)\n",
    "\n",
    "# Compute linear trend (slope) for each pixel\n",
    "time_indices = np.arange(len(dates))\n",
    "trend = np.zeros((band_data.shape[1], band_data.shape[2]), dtype=np.float32)\n",
    "for i in range(band_data.shape[1]):\n",
    "    for j in range(band_data.shape[2]):\n",
    "        pixel_ts = band_data[:, i, j]\n",
    "        if np.any(np.isnan(pixel_ts)):\n",
    "            trend[i, j] = np.nan\n",
    "        else:\n",
    "            slope, _, _, _, _ = linregress(time_indices, pixel_ts)\n",
    "            trend[i, j] = slope\n",
    "\n",
    "# Visualize temporal mean\n",
    "plt.figure(figsize=(8, 8))\n",
    "plt.imshow(temporal_mean, cmap='viridis')\n",
    "plt.colorbar(label='Mean Value')\n",
    "plt.title('Temporal Mean of Band 1')\n",
    "plt.xlabel('Column')\n",
    "plt.ylabel('Row')\n",
    "plt.show()\n",
    "\n",
    "# Visualize trend\n",
    "plt.figure(figsize=(8, 8))\n",
    "plt.imshow(trend, cmap='RdBu', vmin=-np.nanmax(np.abs(trend)), vmax=np.nanmax(np.abs(trend)))\n",
    "plt.colorbar(label='Trend (Slope)')\n",
    "plt.title('Temporal Trend of Band 1')\n",
    "plt.xlabel('Column')\n",
    "plt.ylabel('Row')\n",
    "plt.show()"
   ]
  },
  {
   "cell_type": "markdown",
   "metadata": {},
   "source": [
    "## Step 3: Time Series Plot for a Pixel\n",
    "\n",
    "Extract and plot the time series for a specific pixel."
   ]
  },
  {
   "cell_type": "code",
   "execution_count": null,
   "metadata": {},
   "outputs": [],
   "source": [
    "# Select a pixel (e.g., center of the image)\n",
    "pixel_i, pixel_j = band_data.shape[1] // 2, band_data.shape[2] // 2\n",
    "pixel_ts = band_data[:, pixel_i, pixel_j]\n",
    "\n",
    "# Plot time series\n",
    "plt.figure(figsize=(8, 6))\n",
    "plt.plot(dates, pixel_ts, marker='o')\n",
    "plt.title(f'Time Series for Pixel ({pixel_i}, {pixel_j})')\n",
    "plt.xlabel('Date')\n",
    "plt.ylabel('Value')\n",
    "plt.xticks(rotation=45)\n",
    "plt.grid(True)\n",
    "plt.show()"
   ]
  },
  {
   "cell_type": "markdown",
   "metadata": {},
   "source": [
    "## Step 4: Save Temporal Statistics\n",
    "\n",
    "Save the temporal mean and trend as GeoTIFF files."
   ]
  },
  {
   "cell_type": "code",
   "execution_count": null,
   "metadata": {},
   "outputs": [],
   "source": [
    "# Update profile for single-band output\n",
    "output_profile = profile.copy()\n",
    "output_profile.update(count=1, dtype=rasterio.float32)\n",
    "\n",
    "# Save temporal mean\n",
    "with rasterio.open('temporal_mean.tif', 'w', **output_profile) as dst:\n",
    "    dst.write(temporal_mean, 1)\n",
    "\n",
    "# Save trend\n",
    "with rasterio.open('temporal_trend.tif', 'w', **output_profile) as dst:\n",
    "    dst.write(trend, 1)\n",
    "\n",
    "print('Temporal mean saved to: temporal_mean.tif')\n",
    "print('Temporal trend saved to: temporal_trend.tif')"
   ]
  },
  {
   "cell_type": "markdown",
   "metadata": {},
   "source": [
    "## Next Steps\n",
    "\n",
    "- Replace `raster_dir` with the path to your time series raster files.\n",
    "- Adjust the date extraction logic to match your file naming convention.\n",
    "- Compute additional statistics (e.g., standard deviation, seasonal decomposition).\n",
    "- Proceed to the next notebook (`18_change_detection.ipynb`) for change detection analysis.\n",
    "\n",
    "## Notes\n",
    "- Ensure all rasters have the same CRS, resolution, and dimensions.\n",
    "- Handle no-data values appropriately during calculations.\n",
    "- See `docs/installation.md` for troubleshooting library installation."
   ]
  }
 ],
 "metadata": {
  "kernelspec": {
   "display_name": "Python 3",
   "language": "python",
   "name": "python3"
  },
  "language_info": {
   "codemirror_mode": {
    "name": "ipython",
    "version": 3
   },
   "file_extension": ".py",
   "mimetype": "text/x-python",
   "name": "python",
   "nbconvert_exporter": "python",
   "pygments_lexer": "ipython3",
   "version": "3.8"
  }
 },
 "nbformat": 4,
 "nbformat_minor": 4
}