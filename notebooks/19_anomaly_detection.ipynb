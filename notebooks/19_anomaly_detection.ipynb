{
 "cells": [
  {
   "cell_type": "markdown",
   "metadata": {},
   "source": [
    "# Anomaly Detection in Remote Sensing Data\n",
    "\n",
    "This notebook demonstrates how to perform anomaly detection on remote sensing raster data using the Isolation Forest algorithm with `scikit-learn` in Python. Anomaly detection identifies unusual or rare patterns in imagery, such as deforestation, urban expansion, or sensor errors.\n",
    "\n",
    "## Prerequisites\n",
    "- Install required libraries: `rasterio`, `scikit-learn`, `numpy`, `matplotlib` (listed in `requirements.txt`).\n",
    "- A multi-band GeoTIFF file (e.g., `sample.tif`). Replace the file path with your own data.\n",
    "\n",
    "## Learning Objectives\n",
    "- Apply Isolation Forest for anomaly detection on raster data.\n",
    "- Visualize and interpret anomaly maps.\n",
    "- Save the anomaly detection results as a raster."
   ]
  },
  {
   "cell_type": "code",
   "execution_count": null,
   "metadata": {},
   "outputs": [],
   "source": [
    "# Import required libraries\n",
    "import rasterio\n",
    "import numpy as np\n",
    "import matplotlib.pyplot as plt\n",
    "from sklearn.ensemble import IsolationForest"
   ]
  },
  {
   "cell_type": "markdown",
   "metadata": {},
   "source": [
    "## Step 1: Load the Raster File\n",
    "\n",
    "Load a multi-band raster file and prepare it for anomaly detection."
   ]
  },
  {
   "cell_type": "code",
   "execution_count": null,
   "metadata": {},
   "outputs": [],
   "source": [
    "# Define the path to the raster file\n",
    "raster_path = 'sample.tif'\n",
    "\n",
    "# Open the raster file\n",
    "with rasterio.open(raster_path) as src:\n",
    "    raster_data = src.read(masked=True)  # Shape: (bands, height, width)\n",
    "    profile = src.profile\n",
    "\n",
    "# Reshape for anomaly detection: (height * width, bands)\n",
    "height, width = raster_data.shape[1], raster_data.shape[2]\n",
    "X = raster_data.transpose(1, 2, 0).reshape(-1, raster_data.shape[0])\n",
    "\n",
    "# Remove masked (no-data) pixels\n",
    "mask = np.any(raster_data.mask, axis=0).ravel()\n",
    "X_valid = X[~mask]\n",
    "\n",
    "# Print basic information\n",
    "print(f'Raster shape: {raster_data.shape}')\n",
    "print(f'Valid pixels for anomaly detection: {X_valid.shape[0]}')"
   ]
  },
  {
   "cell_type": "markdown",
   "metadata": {},
   "source": [
    "## Step 2: Apply Isolation Forest\n",
    "\n",
    "Use Isolation Forest to detect anomalies in the raster data."
   ]
  },
  {
   "cell_type": "code",
   "execution_count": null,
   "metadata": {},
   "outputs": [],
   "source": [
    "# Initialize Isolation Forest\n",
    "iso_forest = IsolationForest(contamination=0.1, random_state=42)  # 10% expected anomalies\n",
    "\n",
    "# Fit and predict anomalies\n",
    "anomaly_labels = iso_forest.fit_predict(X_valid)\n",
    "\n",
    "# Create anomaly map (-1 for anomalies, 1 for normal, masked pixels remain masked)\n",
    "anomaly_map = np.full((height * width), -9999, dtype=np.int32)  # -9999 for masked pixels\n",
    "anomaly_map[~mask] = anomaly_labels\n",
    "anomaly_map = anomaly_map.reshape(height, width)\n",
    "\n",
    "# Visualize anomaly map\n",
    "plt.figure(figsize=(8, 8))\n",
    "plt.imshow(anomaly_map, cmap='bwr', vmin=-1, vmax=1)\n",
    "plt.colorbar(label='Anomaly (-1) / Normal (1)')\n",
    "plt.title('Anomaly Detection Map')\n",
    "plt.xlabel('Column')\n",
    "plt.ylabel('Row')\n",
    "plt.show()"
   ]
  },
  {
   "cell_type": "markdown",
   "metadata": {},
   "source": [
    "## Step 3: Save Anomaly Map\n",
    "\n",
    "Save the anomaly detection result as a single-band GeoTIFF."
   ]
  },
  {
   "cell_type": "code",
   "execution_count": null,
   "metadata": {},
   "outputs": [],
   "source": [
    "# Update profile for single-band output\n",
    "output_profile = profile.copy()\n",
    "output_profile.update(count=1, dtype=rasterio.int32, nodata=-9999)\n",
    "\n",
    "# Save anomaly map\n",
    "with rasterio.open('anomaly_map.tif', 'w', **output_profile) as dst:\n",
    "    dst.write(anomaly_map, 1)\n",
    "\n",
    "print('Anomaly map saved to: anomaly_map.tif')"
   ]
  },
  {
   "cell_type": "markdown",
   "metadata": {},
   "source": [
    "## Next Steps\n",
    "\n",
    "- Replace `sample.tif` with your own multi-band raster file.\n",
    "- Adjust the `contamination` parameter to control the sensitivity of anomaly detection.\n",
    "- Explore other anomaly detection algorithms (e.g., One-Class SVM).\n",
    "- Proceed to the next notebook (`20_object_detection_yolo.ipynb`) for object detection with YOLO.\n",
    "\n",
    "## Notes\n",
    "- Ensure the raster has multiple bands for meaningful anomaly detection.\n",
    "- Normalize or scale data (e.g., see `11_normalization_scaling.ipynb`) for better results.\n",
    "- See `docs/installation.md` for troubleshooting library installation."
   ]
  }
 ],
 "metadata": {
  "kernelspec": {
   "display_name": "Python 3",
   "language": "python",
   "name": "python3"
  },
  "language_info": {
   "codemirror_mode": {
    "name": "ipython",
    "version": 3
   },
   "file_extension": ".py",
   "mimetype": "text/x-python",
   "name": "python",
   "nbconvert_exporter": "python",
   "pygments_lexer": "ipython3",
   "version": "3.8"
  }
 },
 "nbformat": 4,
 "nbformat_minor": 4
}