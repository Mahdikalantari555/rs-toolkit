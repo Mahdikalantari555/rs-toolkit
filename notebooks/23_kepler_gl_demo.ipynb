{
 "cells": [
  {
   "cell_type": "markdown",
   "metadata": {},
   "source": [
    "# Interactive Geospatial Visualization with Kepler.gl\n",
    "\n",
    "This notebook demonstrates how to create interactive geospatial visualizations using the `kepler.gl` library in Python. It visualizes remote sensing raster data (e.g., Sentinel-2 or Landsat RGB composites) and vector data (e.g., area of interest boundaries or detected objects) on an interactive map. This is particularly useful for exploring spatial patterns in remote sensing data dynamically.\n",
    "\n",
    "## Prerequisites\n",
    "- Install required libraries: `keplergl`, `rasterio`, `geopandas`, `numpy`, `matplotlib` (listed in `requirements.txt`).\n",
    "- A GeoTIFF file (e.g., `sentinel_rgb.tif` or `landsat_rgb.tif`) from a previous notebook (e.g., `21_download_data.ipynb`).\n",
    "- A GeoJSON or shapefile with vector data (e.g., `aoi.geojson` or `yolo_detections.shp` from `20_object_detection_yolo.ipynb`).\n",
    "- Replace file paths with your own data.\n",
    "\n",
    "## Learning Objectives\n",
    "- Load and prepare raster and vector data for Kepler.gl visualization.\n",
    "- Create an interactive map with raster and vector layers using Kepler.gl.\n",
    "- Save the interactive map as an HTML file for sharing."
   ]
  },
  {
   "cell_type": "code",
   "execution_count": null,
   "metadata": {},
   "outputs": [],
   "source": [
    "# Import required libraries\n",
    "from keplergl import KeplerGl\n",
    "import rasterio\n",
    "import geopandas as gpd\n",
    "import numpy as np\n",
    "import matplotlib.pyplot as plt\n",
    "import os\n",
    "import imageio\n",
    "from rasterio.warp import transform_bounds"
   ]
  },
  {
   "cell_type": "markdown",
   "metadata": {},
   "source": [
    "## Step 1: Load Raster and Vector Data\n",
    "\n",
    "Load the RGB composite GeoTIFF and vector data (e.g., AOI or detected objects)."
   ]
  },
  {
   "cell_type": "code",
   "execution_count": null,
   "metadata": {},
   "outputs": [],
   "source": [
    "# Define file paths\n",
    "raster_path = 'remote_sensing_data/sentinel_rgb.tif'  # Replace with your RGB GeoTIFF\n",
    "vector_path = 'yolo_detections.shp'  # Replace with your vector file (e.g., AOI or detections)\n",
    "\n",
    "# Load raster\n",
    "with rasterio.open(raster_path) as src:\n",
    "    raster_data = src.read().transpose(1, 2, 0)  # Shape: (height, width, bands)\n",
    "    raster_bounds = src.bounds\n",
    "    raster_crs = src.crs\n",
    "\n",
    "# Load vector data\n",
    "vector_gdf = gpd.read_file(vector_path)\n",
    "if vector_gdf.crs != raster_crs:\n",
    "    vector_gdf = vector_gdf.to_crs(raster_crs)\n",
    "\n",
    "# Print basic information\n",
    "print(f'Raster shape: {raster_data.shape}')\n",
    "print(f'Raster CRS: {raster_crs}')\n",
    "print(f'Vector CRS: {vector_gdf.crs}')\n",
    "print(f'Number of vector features: {len(vector_gdf)}')"
   ]
  },
  {
   "cell_type": "markdown",
   "metadata": {},
   "source": [
    "## Step 2: Prepare Raster for Kepler.gl\n",
    "\n",
    "Normalize the RGB raster and save it as a PNG for Kepler.gl compatibility."
   ]
  },
  {
   "cell_type": "code",
   "execution_count": null,
   "metadata": {},
   "outputs": [],
   "source": [
    "# Normalize raster for visualization\n",
    "raster_normalized = raster_data / np.percentile(raster_data, 98) if np.percentile(raster_data, 98) > 0 else raster_data\n",
    "raster_normalized = np.clip(raster_normalized, 0, 1)\n",
    "\n",
    "# Convert bounds to WGS84 (EPSG:4326) for Kepler.gl\n",
    "bounds_latlon = transform_bounds(raster_crs, 'EPSG:4326', *raster_bounds)\n",
    "\n",
    "# Save normalized raster as PNG\n",
    "temp_png = 'temp_raster.png'\n",
    "imageio.imwrite(temp_png, (raster_normalized * 255).astype(np.uint8))\n",
    "\n",
    "print(f'Temporary PNG saved to: {temp_png}')"
   ]
  },
  {
   "cell_type": "markdown",
   "metadata": {},
   "source": [
    "## Step 3: Prepare Vector Data for Kepler.gl\n",
    "\n",
    "Convert vector data to WGS84 and prepare it for Kepler.gl."
   ]
  },
  {
   "cell_type": "code",
   "execution_count": null,
   "metadata": {},
   "outputs": [],
   "source": [
    "# Reproject vector data to WGS84\n",
    "vector_gdf_wgs84 = vector_gdf.to_crs('EPSG:4326')\n",
    "\n",
    "# Save as GeoJSON for Kepler.gl\n",
    "temp_geojson = 'temp_vector.geojson'\n",
    "vector_gdf_wgs84.to_file(temp_geojson, driver='GeoJSON')\n",
    "\n",
    "print(f'Temporary GeoJSON saved to: {temp_geojson}')"
   ]
  },
  {
   "cell_type": "markdown",
   "metadata": {},
   "source": [
    "## Step 4: Create Kepler.gl Map\n",
    "\n",
    "Initialize a Kepler.gl map and add the raster and vector layers."
   ]
  },
  {
   "cell_type": "code",
   "execution_count": null,
   "metadata": {},
   "outputs": [],
   "source": [
    "# Initialize Kepler.gl map\n",
    "map_config = {\n",
    "    'version': 'v1',\n",
    "    'config': {\n",
    "        'mapState': {\n",
    "            'latitude': (bounds_latlon[1] + bounds_latlon[3]) / 2,\n",
    "            'longitude': (bounds_latlon[0] + bounds_latlon[2]) / 2,\n",
    "            'zoom': 10\n",
    "        }\n",
    "    }\n",
    "}\n",
    "m = KeplerGl(height=600, config=map_config)\n",
    "\n",
    "# Add raster as an image layer\n",
    "m.add_data(\n",
    "    data={'type': 'image', 'url': temp_png, 'bounds': [bounds_latlon[0], bounds_latlon[1], bounds_latlon[2], bounds_latlon[3]]},\n",
    "    name='Raster Layer'\n",
    ")\n",
    "\n",
    "# Add vector data\n",
    "with open(temp_geojson, 'r') as f:\n",
    "    m.add_data(data=f.read(), name='Vector Layer')\n",
    "\n",
    "# Display map\n",
    "m"
   ]
  },
  {
   "cell_type": "markdown",
   "metadata": {},
   "source": [
    "## Step 5: Save the Kepler.gl Map\n",
    "\n",
    "Save the interactive map as an HTML file for sharing."
   ]
  },
  {
   "cell_type": "code",
   "execution_count": null,
   "metadata": {},
   "outputs": [],
   "source": [
    "# Save map to HTML\n",
    "output_map_path = 'kepler_map.html'\n",
    "m.save_to_html(file_name=output_map_path)\n",
    "\n",
    "print(f'Interactive map saved to: {output_map_path}')\n",
    "\n",
    "# Clean up temporary files\n",
    "os.remove(temp_png)\n",
    "os.remove(temp_geojson)"
   ]
  },
  {
   "cell_type": "markdown",
   "metadata": {},
   "source": [
    "## Step 6: Static Visualization for Reference\n",
    "\n",
    "Create a static visualization of the RGB composite with vector data for reference."
   ]
  },
  {
   "cell_type": "code",
   "execution_count": null,
   "metadata": {},
   "outputs": [],
   "source": [
    "# Plot static RGB composite with vector data\n",
    "fig, ax = plt.subplots(figsize=(8, 8))\n",
    "ax.imshow(raster_normalized)\n",
    "vector_gdf.plot(ax=ax, facecolor='none', edgecolor='red', linewidth=2)\n",
    "plt.title('Static RGB Composite with Vector Data')\n",
    "plt.xlabel('Column')\n",
    "plt.ylabel('Row')\n",
    "plt.show()"
   ]
  },
  {
   "cell_type": "markdown",
   "metadata": {},
   "source": [
    "## Next Steps\n",
    "\n",
    "- Replace `sentinel_rgb.tif` with your own RGB GeoTIFF (e.g., from `21_download_data.ipynb`).\n",
    "- Replace `yolo_detections.shp` with your own vector file (e.g., AOI from `aoi.geojson`).\n",
    "- Customize the Kepler.gl map by adjusting the configuration (e.g., layer styles, colors) via the Kepler.gl interface.\n",
    "- Explore advanced Kepler.gl features like time series animation or heatmaps.\n",
    "- Revisit previous notebooks (e.g., `21_download_data.ipynb`, `22_folium_visualization.ipynb`) for data preprocessing or other visualization techniques.\n",
    "\n",
    "## Notes\n",
    "- Ensure raster and vector data have compatible CRS; Kepler.gl requires data in EPSG:4326.\n",
    "- Large rasters may need downsampling to avoid memory issues in Kepler.gl.\n",
    "- Use the Kepler.gl interface to fine-tune layer styles (e.g., colors, opacity) interactively.\n",
    "- See `docs/installation.md` for troubleshooting library installation."
   ]
  }
 ],
 "metadata": {
  "kernelspec": {
   "display_name": "Python 3",
   "language": "python",
   "name": "python3"
  },
  "language_info": {
   "codemirror_mode": {
    "name": "ipython",
    "version": 3
   },
   "file_extension": ".py",
   "mimetype": "text/x-python",
   "name": "python",
   "nbconvert_exporter": "python",
   "pygments_lexer": "ipython3",
   "version": "3.8"
  }
 },
 "nbformat": 4,
 "nbformat_minor": 4
}