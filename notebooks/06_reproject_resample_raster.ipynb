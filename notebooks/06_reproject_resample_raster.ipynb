{
 "cells": [
  {
   "cell_type": "markdown",
   "metadata": {},
   "source": [
    "# Reprojecting and Resampling Raster Data\n",
    "\n",
    "This notebook demonstrates how to reproject and resample raster data using `rasterio` in Python. Reprojection changes the coordinate reference system (CRS), while resampling adjusts the pixel resolution. These operations are crucial in remote sensing for aligning datasets.\n",
    "\n",
    "## Prerequisites\n",
    "- Install required libraries: `rasterio`, `numpy`, `matplotlib` (listed in `requirements.txt`).\n",
    "- A sample GeoTIFF file (e.g., `sample.tif`). Replace the file path with your own raster file.\n",
    "\n",
    "## Learning Objectives\n",
    "- Reproject a raster to a new CRS.\n",
    "- Resample a raster to a different resolution.\n",
    "- Visualize and save the reprojected/resampled raster."
   ]
  },
  {
   "cell_type": "code",
   "execution_count": null,
   "metadata": {},
   "outputs": [],
   "source": [
    "# Import required libraries\n",
    "import rasterio\n",
    "from rasterio.warp import calculate_default_transform, reproject, Resampling\n",
    "import numpy as np\n",
    "import matplotlib.pyplot as plt"
   ]
  },
  {
   "cell_type": "markdown",
   "metadata": {},
   "source": [
    "## Step 1: Load the Original Raster\n",
    "\n",
    "Load the raster and inspect its current CRS and dimensions."
   ]
  },
  {
   "cell_type": "code",
   "execution_count": null,
   "metadata": {},
   "outputs": [],
   "source": [
    "# Define the path to the raster file\n",
    "raster_path = 'sample.tif'\n",
    "\n",
    "# Open the raster file\n",
    "with rasterio.open(raster_path) as src:\n",
    "    original_data = src.read()\n",
    "    original_crs = src.crs\n",
    "    original_transform = src.transform\n",
    "    original_meta = src.meta\n",
    "\n",
    "# Print original information\n",
    "print(f'Original CRS: {original_crs}')\n",
    "print(f'Original Resolution: {original_transform.a, abs(original_transform.e)}')\n",
    "print(f'Original Shape: {original_data.shape}')"
   ]
  },
  {
   "cell_type": "markdown",
   "metadata": {},
   "source": [
    "## Step 2: Reproject the Raster\n",
    "\n",
    "Reproject the raster to a new CRS (e.g., EPSG:4326 - WGS84). Calculate the new transform and dimensions."
   ]
  },
  {
   "cell_type": "code",
   "execution_count": null,
   "metadata": {},
   "outputs": [],
   "source": [
    "# Define target CRS\n",
    "target_crs = 'EPSG:4326'\n",
    "\n",
    "# Calculate transform and dimensions for target CRS\n",
    "transform, width, height = calculate_default_transform(\n",
    "    original_crs, target_crs, original_meta['width'], original_meta['height'], *src.bounds\n",
    ")\n",
    "\n",
    "# Prepare output metadata\n",
    "reproject_meta = original_meta.copy()\n",
    "reproject_meta.update({\n",
    "    'crs': target_crs,\n",
    "    'transform': transform,\n",
    "    'width': width,\n",
    "    'height': height\n",
    "})\n",
    "\n",
    "# Create array for reprojected data\n",
    "reprojected_data = np.empty((original_data.shape[0], height, width), dtype=original_data.dtype)\n",
    "\n",
    "# Reproject each band\n",
    "for i in range(original_data.shape[0]):\n",
    "    reproject(\n",
    "        source=original_data[i],\n",
    "        destination=reprojected_data[i],\n",
    "        src_transform=original_transform,\n",
    "        src_crs=original_crs,\n",
    "        dst_transform=transform,\n",
    "        dst_crs=target_crs,\n",
    "        resampling=Resampling.nearest\n",
    "    )\n",
    "\n",
    "# Print new information\n",
    "print(f'Target CRS: {target_crs}')\n",
    "print(f'Reprojected Shape: {reprojected_data.shape}')"
   ]
  },
  {
   "cell_type": "markdown",
   "metadata": {},
   "source": [
    "## Step 3: Visualize Reprojected Raster\n",
    "\n",
    "Visualize the first band of the reprojected raster."
   ]
  },
  {
   "cell_type": "code",
   "execution_count": null,
   "metadata": {},
   "outputs": [],
   "source": [
    "# Plot the reprojected first band\n",
    "plt.figure(figsize=(8, 8))\n",
    "plt.imshow(reprojected_data[0], cmap='gray')\n",
    "plt.title('Reprojected Raster (First Band)')\n",
    "plt.xlabel('Column')\n",
    "plt.ylabel('Row')\n",
    "plt.show()"
   ]
  },
  {
   "cell_type": "markdown",
   "metadata": {},
   "source": [
    "## Step 4: Resample the Raster\n",
    "\n",
    "Resample the original raster to a coarser resolution (e.g., double the pixel size)."
   ]
  },
  {
   "cell_type": "code",
   "execution_count": null,
   "metadata": {},
   "outputs": [],
   "source": [
    "# Define scaling factor (e.g., 2 for halving resolution)\n",
    "scale_factor = 2\n",
    "\n",
    "# Calculate new dimensions\n",
    "new_width = original_meta['width'] // scale_factor\n",
    "new_height = original_meta['height'] // scale_factor\n",
    "\n",
    "# New transform\n",
    "new_transform = original_transform * original_transform.scale(\n",
    "    (original_meta['width'] / new_width),\n",
    "    (original_meta['height'] / new_height)\n",
    ")\n",
    "\n",
    "# Prepare output metadata for resampling\n",
    "resample_meta = original_meta.copy()\n",
    "resample_meta.update({\n",
    "    'transform': new_transform,\n",
    "    'width': new_width,\n",
    "    'height': new_height\n",
    "})\n",
    "\n",
    "# Create array for resampled data\n",
    "resampled_data = np.empty((original_data.shape[0], new_height, new_width), dtype=original_data.dtype)\n",
    "\n",
    "# Resample each band\n",
    "for i in range(original_data.shape[0]):\n",
    "    reproject(\n",
    "        source=original_data[i],\n",
    "        destination=resampled_data[i],\n",
    "        src_transform=original_transform,\n",
    "        src_crs=original_crs,\n",
    "        dst_transform=new_transform,\n",
    "        dst_crs=original_crs,\n",
    "        resampling=Resampling.average  # Use average for downsampling\n",
    "    )\n",
    "\n",
    "# Print resampled information\n",
    "print(f'Resampled Resolution: {new_transform.a, abs(new_transform.e)}')\n",
    "print(f'Resampled Shape: {resampled_data.shape}')"
   ]
  },
  {
   "cell_type": "markdown",
   "metadata": {},
   "source": [
    "## Step 5: Visualize Resampled Raster\n",
    "\n",
    "Visualize the first band of the resampled raster."
   ]
  },
  {
   "cell_type": "code",
   "execution_count": null,
   "metadata": {},
   "outputs": [],
   "source": [
    "# Plot the resampled first band\n",
    "plt.figure(figsize=(8, 8))\n",
    "plt.imshow(resampled_data[0], cmap='gray')\n",
    "plt.title('Resampled Raster (First Band)')\n",
    "plt.xlabel('Column')\n",
    "plt.ylabel('Row')\n",
    "plt.show()"
   ]
  },
  {
   "cell_type": "markdown",
   "metadata": {},
   "source": [
    "## Step 6: Save Reprojected and Resampled Rasters\n",
    "\n",
    "Save the reprojected and resampled rasters to new GeoTIFF files."
   ]
  },
  {
   "cell_type": "code",
   "execution_count": null,
   "metadata": {},
   "outputs": [],
   "source": [
    "# Save reprojected raster\n",
    "with rasterio.open('reprojected_raster.tif', 'w', **reproject_meta) as dst:\n",
    "    dst.write(reprojected_data)\n",
    "\n",
    "# Save resampled raster\n",
    "with rasterio.open('resampled_raster.tif', 'w', **resample_meta) as dst:\n",
    "    dst.write(resampled_data)\n",
    "\n",
    "print('Reprojected raster saved to: reprojected_raster.tif')\n",
    "print('Resampled raster saved to: resampled_raster.tif')"
   ]
  },
  {
   "cell_type": "markdown",
   "metadata": {},
   "source": [
    "## Next Steps\n",
    "\n",
    "- Replace `sample.tif` with your own raster file.\n",
    "- Experiment with different target CRS (e.g., EPSG:3857 for Web Mercator).\n",
    "- Try other resampling methods (e.g., Resampling.bilinear, Resampling.cubic).\n",
    "- Proceed to the next notebook (`07_overlay_vector_on_raster.ipynb`) to overlay vector data on rasters.\n",
    "\n",
    "## Notes\n",
    "- Ensure the target CRS is appropriate for your data and analysis.\n",
    "- Resampling method affects the output quality (e.g., nearest for categorical data, average for continuous).\n",
    "- See `docs/installation.md` for troubleshooting library installation."
   ]
  }
 ],
 "metadata": {
  "kernelspec": {
   "display_name": "Python 3",
   "language": "python",
   "name": "python3"
  },
  "language_info": {
   "codemirror_mode": {
    "name": "ipython",
    "version": 3
   },
   "file_extension": ".py",
   "mimetype": "text/x-python",
   "name": "python",
   "nbconvert_exporter": "python",
   "pygments_lexer": "ipython3",
   "version": "3.8"
  }
 },
 "nbformat": 4,
 "nbformat_minor": 4
}