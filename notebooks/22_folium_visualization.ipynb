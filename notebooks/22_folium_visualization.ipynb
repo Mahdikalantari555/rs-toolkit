{
 "cells": [
  {
   "cell_type": "markdown",
   "metadata": {},
   "source": [
    "# Interactive Visualization with Folium\n",
    "\n",
    "This notebook demonstrates how to create interactive maps to visualize remote sensing data using the `folium` library in Python. It displays raster data (e.g., Sentinel-2 or Landsat RGB composites) and vector data (e.g., area of interest boundaries) on an interactive map, enabling dynamic exploration of geospatial data.\n",
    "\n",
    "## Prerequisites\n",
    "- Install required libraries: `folium`, `rasterio`, `geopandas`, `numpy`, `matplotlib` (listed in `requirements.txt`).\n",
    "- A GeoTIFF file (e.g., `sentinel_rgb.tif` or `landsat_rgb.tif`) from a previous notebook (e.g., `21_download_data.ipynb`).\n",
    "- A GeoJSON file defining the area of interest (e.g., `aoi.geojson`). Replace file paths with your own data.\n",
    "\n",
    "## Learning Objectives\n",
    "- Create an interactive map with Folium to display raster imagery.\n",
    "- Overlay vector data (e.g., AOI boundaries) on the map.\n",
    "- Save the interactive map as an HTML file for sharing."
   ]
  },
  {
   "cell_type": "code",
   "execution_count": null,
   "metadata": {},
   "outputs": [],
   "source": [
    "# Import required libraries\n",
    "import folium\n",
    "import rasterio\n",
    "import geopandas as gpd\n",
    "import numpy as np\n",
    "import matplotlib.pyplot as plt\n",
    "from folium.raster_layers import ImageOverlay\n",
    "import os"
   ]
  },
  {
   "cell_type": "markdown",
   "metadata": {},
   "source": [
    "## Step 1: Load Raster and Vector Data\n",
    "\n",
    "Load the RGB composite GeoTIFF and the area of interest (AOI) GeoJSON file."
   ]
  },
  {
   "cell_type": "code",
   "execution_count": null,
   "metadata": {},
   "outputs": [],
   "source": [
    "# Define file paths\n",
    "raster_path = 'remote_sensing_data/sentinel_rgb.tif'  # Replace with your RGB GeoTIFF (e.g., from notebook 21)\n",
    "aoi_path = 'aoi.geojson'  # Path to your GeoJSON file\n",
    "\n",
    "# Load raster\n",
    "with rasterio.open(raster_path) as src:\n",
    "    raster_data = src.read().transpose(1, 2, 0)  # Shape: (height, width, bands)\n",
    "    bounds = src.bounds  # Get geographic bounds\n",
    "    crs = src.crs\n",
    "\n",
    "# Load AOI\n",
    "aoi_gdf = gpd.read_file(aoi_path)\n",
    "if aoi_gdf.crs != crs:\n",
    "    aoi_gdf = aoi_gdf.to_crs(crs)\n",
    "\n",
    "# Print basic information\n",
    "print(f'Raster shape: {raster_data.shape}')\n",
    "print(f'Raster CRS: {crs}')\n",
    "print(f'AOI CRS: {aoi_gdf.crs}')"
   ]
  },
  {
   "cell_type": "markdown",
   "metadata": {},
   "source": [
    "## Step 2: Prepare Raster for Folium\n",
    "\n",
    "Normalize the RGB raster data and convert it to a format suitable for Folium."
   ]
  },
  {
   "cell_type": "code",
   "execution_count": null,
   "metadata": {},
   "outputs": [],
   "source": [
    "# Normalize raster for visualization\n",
    "raster_normalized = raster_data / np.percentile(raster_data, 98) if np.percentile(raster_data, 98) > 0 else raster_data\n",
    "raster_normalized = np.clip(raster_normalized, 0, 1)\n",
    "\n",
    "# Convert bounds to Folium format (lat, lon)\n",
    "from rasterio.warp import transform_bounds\n",
    "bounds_latlon = transform_bounds(crs, 'EPSG:4326', *bounds)\n",
    "folium_bounds = [[bounds_latlon[1], bounds_latlon[0]], [bounds_latlon[3], bounds_latlon[2]]]\n",
    "\n",
    "# Save normalized raster as a temporary PNG for Folium\n",
    "import imageio\n",
    "temp_png = 'temp_raster.png'\n",
    "imageio.imwrite(temp_png, (raster_normalized * 255).astype(np.uint8))"
   ]
  },
  {
   "cell_type": "markdown",
   "metadata": {},
   "source": [
    "## Step 3: Create Interactive Folium Map\n",
    "\n",
    "Create a Folium map centered on the AOI, overlay the raster, and add the AOI boundary."
   ]
  },
  {
   "cell_type": "code",
   "execution_count": null,
   "metadata": {},
   "outputs": [],
   "source": [
    "# Calculate map center\n",
    "center_lat = (bounds_latlon[1] + bounds_latlon[3]) / 2\n",
    "center_lon = (bounds_latlon[0] + bounds_latlon[2]) / 2\n",
    "\n",
    "# Initialize Folium map\n",
    "m = folium.Map(location=[center_lat, center_lon], zoom_start=10, tiles='OpenStreetMap')\n",
    "\n",
    "# Add raster as ImageOverlay\n",
    "ImageOverlay(\n",
    "    image=temp_png,\n",
    "    bounds=folium_bounds,\n",
    "    opacity=0.8\n",
    ").add_to(m)\n",
    "\n",
    "# Add AOI boundary\n",
    "folium.GeoJson(\n",
    "    aoi_gdf.to_crs('EPSG:4326').to_json(),\n",
    "    name='AOI',\n",
    "    style_function=lambda x: {'color': 'red', 'weight': 2, 'fillOpacity': 0}\n",
    ").add_to(m)\n",
    "\n",
    "# Add layer control\n",
    "folium.LayerControl().add_to(m)\n",
    "\n",
    "# Display map\n",
    "m"
   ]
  },
  {
   "cell_type": "markdown",
   "metadata": {},
   "source": [
    "## Step 4: Save the Interactive Map\n",
    "\n",
    "Save the Folium map as an HTML file for sharing or viewing in a web browser."
   ]
  },
  {
   "cell_type": "code",
   "execution_count": null,
   "metadata": {},
   "outputs": [],
   "source": [
    "# Save map to HTML\n",
    "output_map_path = 'remote_sensing_map.html'\n",
    "m.save(output_map_path)\n",
    "\n",
    "print(f'Interactive map saved to: {output_map_path}')\n",
    "\n",
    "# Clean up temporary PNG\n",
    "os.remove(temp_png)"
   ]
  },
  {
   "cell_type": "markdown",
   "metadata": {},
   "source": [
    "## Step 5: Static Visualization for Reference\n",
    "\n",
    "Create a static visualization of the RGB composite with the AOI boundary for reference."
   ]
  },
  {
   "cell_type": "code",
   "execution_count": null,
   "metadata": {},
   "outputs": [],
   "source": [
    "# Plot static RGB composite with AOI\n",
    "fig, ax = plt.subplots(figsize=(8, 8))\n",
    "ax.imshow(raster_normalized)\n",
    "aoi_gdf.plot(ax=ax, facecolor='none', edgecolor='red', linewidth=2)\n",
    "plt.title('Static RGB Composite with AOI')\n",
    "plt.xlabel('Column')\n",
    "plt.ylabel('Row')\n",
    "plt.show()"
   ]
  },
  {
   "cell_type": "markdown",
   "metadata": {},
   "source": [
    "## Next Steps\n",
    "\n",
    "- Replace `sentinel_rgb.tif` with your own RGB GeoTIFF (e.g., from `21_download_data.ipynb`).\n",
    "- Update `aoi.geojson` with your area of interest file.\n",
    "- Customize the Folium map with additional layers (e.g., other rasters or vector data).\n",
    "- Explore advanced Folium features like popups or custom tiles.\n",
    "- Revisit previous notebooks (e.g., `21_download_data.ipynb`) for data preprocessing or proceed with analysis tasks like classification or change detection.\n",
    "\n",
    "## Notes\n",
    "- Ensure the raster and AOI have compatible CRS; Folium requires data in EPSG:4326 for display.\n",
    "- Large rasters may need downsampling to avoid memory issues in Folium.\n",
    "- See `docs/installation.md` for troubleshooting library installation."
   ]
  }
 ],
 "metadata": {
  "kernelspec": {
   "display_name": "Python 3",
   "language": "python",
   "name": "python3"
  },
  "language_info": {
   "codemirror_mode": {
    "name": "ipython",
    "version": 3
   },
   "file_extension": ".py",
   "mimetype": "text/x-python",
   "name": "python",
   "nbconvert_exporter": "python",
   "pygments_lexer": "ipython3",
   "version": "3.8"
  }
 },
 "nbformat": 4,
 "nbformat_minor": 4
}