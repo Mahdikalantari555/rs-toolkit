{
 "cells": [
  {
   "cell_type": "markdown",
   "metadata": {},
   "source": [
    "# K-Means Clustering for Raster Data\n",
    "\n",
    "This notebook demonstrates how to perform unsupervised K-Means clustering on multi-band raster data using `scikit-learn` and `rasterio` in Python. K-Means clustering is useful for segmenting remote sensing imagery into distinct groups (e.g., land cover types) without labeled training data.\n",
    "\n",
    "## Prerequisites\n",
    "- Install required libraries: `rasterio`, `scikit-learn`, `numpy`, `matplotlib` (listed in `requirements.txt`).\n",
    "- A multi-band GeoTIFF file (e.g., `sample.tif`). Replace the file path with your own raster file.\n",
    "\n",
    "## Learning Objectives\n",
    "- Apply K-Means clustering to raster data.\n",
    "- Visualize the resulting clusters.\n",
    "- Save the clustered output as a raster."
   ]
  },
  {
   "cell_type": "code",
   "execution_count": null,
   "metadata": {},
   "outputs": [],
   "source": [
    "# Import required libraries\n",
    "import rasterio\n",
    "import numpy as np\n",
    "import matplotlib.pyplot as plt\n",
    "from sklearn.cluster import KMeans"
   ]
  },
  {
   "cell_type": "markdown",
   "metadata": {},
   "source": [
    "## Step 1: Load the Raster File\n",
    "\n",
    "Load a multi-band raster file and prepare it for clustering."
   ]
  },
  {
   "cell_type": "code",
   "execution_count": null,
   "metadata": {},
   "outputs": [],
   "source": [
    "# Define the path to the raster file\n",
    "raster_path = 'sample.tif'\n",
    "\n",
    "# Open the raster file\n",
    "with rasterio.open(raster_path) as src:\n",
    "    raster_data = src.read(masked=True)  # Shape: (bands, height, width)\n",
    "    profile = src.profile\n",
    "\n",
    "# Reshape for clustering: (height * width, bands)\n",
    "height, width = raster_data.shape[1], raster_data.shape[2]\n",
    "X = raster_data.transpose(1, 2, 0).reshape(-1, raster_data.shape[0])\n",
    "\n",
    "# Remove masked (no-data) pixels\n",
    "mask = np.any(raster_data.mask, axis=0).ravel()\n",
    "X_valid = X[~mask]\n",
    "\n",
    "# Print basic information\n",
    "print(f'Raster shape: {raster_data.shape}')\n",
    "print(f'Valid pixels for clustering: {X_valid.shape[0]}')"
   ]
  },
  {
   "cell_type": "markdown",
   "metadata": {},
   "source": [
    "## Step 2: Apply K-Means Clustering\n",
    "\n",
    "Perform K-Means clustering on the valid pixels, assuming a specified number of clusters (e.g., 5)."
   ]
  },
  {
   "cell_type": "code",
   "execution_count": null,
   "metadata": {},
   "outputs": [],
   "source": [
    "# Define number of clusters\n",
    "n_clusters = 5\n",
    "\n",
    "# Initialize and fit K-Means\n",
    "kmeans = KMeans(n_clusters=n_clusters, random_state=42)\n",
    "kmeans.fit(X_valid)\n",
    "\n",
    "# Predict clusters for all pixels (including masked)\n",
    "clusters = np.full((height * width), -1, dtype=np.int32)  # -1 for masked pixels\n",
    "clusters[~mask] = kmeans.labels_\n",
    "clusters = clusters.reshape(height, width)\n",
    "\n",
    "# Visualize clusters\n",
    "plt.figure(figsize=(8, 8))\n",
    "plt.imshow(clusters, cmap='tab10', vmin=0, vmax=n_clusters-1)\n",
    "plt.colorbar(label='Cluster')\n",
    "plt.title('K-Means Clustering Result')\n",
    "plt.xlabel('Column')\n",
    "plt.ylabel('Row')\n",
    "plt.show()"
   ]
  },
  {
   "cell_type": "markdown",
   "metadata": {},
   "source": [
    "## Step 3: Save Clustered Raster\n",
    "\n",
    "Save the clustering result as a single-band GeoTIFF file."
   ]
  },
  {
   "cell_type": "code",
   "execution_count": null,
   "metadata": {},
   "outputs": [],
   "source": [
    "# Update profile for single-band output\n",
    "output_profile = profile.copy()\n",
    "output_profile.update(count=1, dtype=rasterio.int32, nodata=-1)\n",
    "\n",
    "# Save clustered raster\n",
    "with rasterio.open('kmeans_clusters.tif', 'w', **output_profile) as dst:\n",
    "    dst.write(clusters, 1)\n",
    "\n",
    "print('Clustered raster saved to: kmeans_clusters.tif')"
   ]
  },
  {
   "cell_type": "markdown",
   "metadata": {},
   "source": [
    "## Next Steps\n",
    "\n",
    "- Replace `sample.tif` with your own multi-band raster file.\n",
    "- Experiment with different numbers of clusters (`n_clusters`).\n",
    "- Normalize input data before clustering (see `11_normalization_scaling.ipynb`).\n",
    "- Proceed to the next notebook (`14_feature_selection.ipynb`) for feature selection.\n",
    "\n",
    "## Notes\n",
    "- Ensure the raster has multiple bands for meaningful clustering.\n",
    "- Handle large datasets by sampling pixels or using MiniBatchKMeans.\n",
    "- See `docs/installation.md` for troubleshooting library installation."
   ]
  }
 ],
 "metadata": {
  "kernelspec": {
   "display_name": "Python 3",
   "language": "python",
   "name": "python3"
  },
  "language_info": {
   "codemirror_mode": {
    "name": "ipython",
    "version": 3
   },
   "file_extension": ".py",
   "mimetype": "text/x-python",
   "name": "python",
   "nbconvert_exporter": "python",
   "pygments_lexer": "ipython3",
   "version": "3.8"
  }
 },
 "nbformat": 4,
 "nbformat_minor": 4
}