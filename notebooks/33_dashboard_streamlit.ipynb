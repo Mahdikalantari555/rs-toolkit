{
 "cells": [
  {
   "cell_type": "markdown",
   "metadata": {},
   "source": [
    "# Interactive Remote Sensing Dashboard with Streamlit\n",
    "\n",
    "This notebook demonstrates how to create an interactive dashboard for remote sensing data analysis using `Streamlit`, `rasterio`, `geopandas`, `folium`, and `numpy` in Python. Users can upload a Sentinel-2 GeoTIFF and a vector file (e.g., GeoJSON), calculate indices like NDVI or NDWI, and visualize results on an interactive map. The dashboard is designed to be user-friendly for non-technical users.\n",
    "\n",
    "## Prerequisites\n",
    "- Install required libraries: `streamlit`, `rasterio`, `geopandas`, `folium`, `numpy`, `matplotlib` (listed in `requirements.txt`).\n",
    "- A preprocessed Sentinel-2 GeoTIFF (e.g., from `21_download_data.ipynb` or `24_advanced_preprocessing.ipynb`).\n",
    "- A GeoJSON or shapefile defining an area of interest (AOI) or labels (e.g., `aoi.geojson`).\n",
    "- Run this notebook as a Streamlit app: `streamlit run 33_dashboard_streamlit.py`.\n",
    "- Replace file paths with your own data for testing in Jupyter.\n",
    "\n",
    "## Learning Objectives\n",
    "- Build an interactive Streamlit dashboard for remote sensing data.\n",
    "- Upload and process raster and vector data.\n",
    "- Calculate and visualize spectral indices (e.g., NDVI, NDWI).\n",
    "- Create interactive maps with Folium for geospatial visualization."
   ]
  },
  {
   "cell_type": "code",
   "execution_count": null,
   "metadata": {},
   "outputs": [],
   "source": [
    "# Import required libraries\n",
    "import streamlit as st\n",
    "import rasterio\n",
    "import geopandas as gpd\n",
    "import numpy as np\n",
    "import matplotlib.pyplot as plt\n",
    "import folium\n",
    "from folium import plugins\n",
    "from rasterio.warp import transform_bounds\n",
    "from rasterio.mask import mask\n",
    "import io\n",
    "import os\n",
    "\n",
    "# Streamlit page configuration\n",
    "st.set_page_config(page_title='Remote Sensing Dashboard', layout='wide')"
   ]
  },
  {
   "cell_type": "markdown",
   "metadata": {},
   "source": [
    "## Step 1: Create Streamlit Dashboard Layout\n",
    "\n",
    "Set up the main dashboard interface with file uploaders and options."
   ]
  },
  {
   "cell_type": "code",
   "execution_count": null,
   "metadata": {},
   "outputs": [],
   "source": [
    "# Dashboard title and description\n",
    "st.title('Interactive Remote Sensing Dashboard')\n",
    "st.write('Upload a Sentinel-2 GeoTIFF and a GeoJSON/shapefile to calculate spectral indices and visualize results.')\n",
    "\n",
    "# File uploaders\n",
    "raster_file = st.file_uploader('Upload Sentinel-2 GeoTIFF (e.g., B02, B03, B04, B08)', type=['tif', 'tiff'])\n",
    "vector_file = st.file_uploader('Upload GeoJSON or Shapefile (e.g., AOI)', type=['geojson', 'shp'])\n",
    "\n",
    "# Index selection\n",
    "index_options = ['NDVI (Vegetation)', 'NDWI (Water)']\n",
    "selected_index = st.selectbox('Select Spectral Index', index_options)\n",
    "\n",
    "# Band mapping (assuming Sentinel-2 band order)\n",
    "band_map = {'B02': 0, 'B03': 1, 'B04': 2, 'B08': 3}  # Adjust based on your GeoTIFF band order"
   ]
  },
  {
   "cell_type": "markdown",
   "metadata": {},
   "source": [
    "## Step 2: Process Uploaded Data\n",
    "\n",
    "Load and preprocess the uploaded raster and vector files."
   ]
  },
  {
   "cell_type": "code",
   "execution_count": null,
   "metadata": {},
   "outputs": [],
   "source": [
    "def load_raster(file):\n",
    "    with rasterio.open(file) as src:\n",
    "        raster_data = src.read(masked=True)\n",
    "        profile = src.profile\n",
    "        bounds = src.bounds\n",
    "        crs = src.crs\n",
    "    return raster_data, profile, bounds, crs\n",
    "\n",
    "def load_vector(file):\n",
    "    if file.name.endswith('.geojson'):\n",
    "        gdf = gpd.read_file(file)\n",
    "    else:\n",
    "        temp_dir = 'temp_vector'\n",
    "        os.makedirs(temp_dir, exist_ok=True)\n",
    "        temp_path = os.path.join(temp_dir, file.name)\n",
    "        with open(temp_path, 'wb') as f:\n",
    "            f.write(file.read())\n",
    "        gdf = gpd.read_file(temp_path)\n",
    "        os.remove(temp_path)\n",
    "    return gdf\n",
    "\n",
    "# Process files if uploaded\n",
    "if raster_file and vector_file:\n",
    "    try:\n",
    "        # Load raster\n",
    "        raster_data, raster_profile, raster_bounds, raster_crs = load_raster(raster_file)\n",
    "        # Load vector\n",
    "        vector_gdf = load_vector(vector_file)\n",
    "        if vector_gdf.crs != raster_crs:\n",
    "            vector_gdf = vector_gdf.to_crs(raster_crs)\n",
    "        # Crop raster to vector extent\n",
    "        with rasterio.open(raster_file) as src:\n",
    "            cropped_data, cropped_transform = mask(src, vector_gdf.geometry, crop=True, nodata=np.nan)\n",
    "        raster_profile.update({\n",
    "            'height': cropped_data.shape[1],\n",
    "            'width': cropped_data.shape[2],\n",
    "            'transform': cropped_transform\n",
    "        })\n",
    "        raster_data = cropped_data\n",
    "        st.success('Files loaded and aligned successfully!')\n",
    "    except Exception as e:\n",
    "        st.error(f'Error loading files: {str(e)}')\n",
    "else:\n",
    "    st.warning('Please upload both a raster and a vector file to proceed.')"
   ]
  },
  {
   "cell_type": "markdown",
   "metadata": {},
   "source": [
    "## Step 3: Calculate Spectral Index\n",
    "\n",
    "Compute the selected spectral index (NDVI or NDWI)."
   ]
  },
  {
   "cell_type": "code",
   "execution_count": null,
   "metadata": {},
   "outputs": [],
   "source": [
    "def calculate_index(raster_data, index_type, band_map):\n",
    "    red = raster_data[band_map['B04']].astype(float)\n",
    "    nir = raster_data[band_map['B08']].astype(float)\n",
    "    green = raster_data[band_map['B03']].astype(float)\n",
    "\n",
    "    if index_type == 'NDVI (Vegetation)':\n",
    "        index = np.where((nir + red) != 0, (nir - red) / (nir + red), np.nan)\n",
    "    elif index_type == 'NDWI (Water)':\n",
    "        index = np.where((green + nir) != 0, (green - nir) / (green + nir), np.nan)\n",
    "    return index\n",
    "\n",
    "if raster_file and vector_file:\n",
    "    try:\n",
    "        index_data = calculate_index(raster_data, selected_index, band_map)\n",
    "        st.write(f'{selected_index} calculated successfully.')\n",
    "\n",
    "        # Visualize index\n",
    "        fig, ax = plt.subplots(figsize=(8, 8))\n",
    "        im = ax.imshow(index_data, cmap='RdYlGn', vmin=-1, vmax=1)\n",
    "        vector_gdf.plot(ax=ax, facecolor='none', edgecolor='red', linewidth=2)\n",
    "        plt.colorbar(im, ax=ax, label=selected_index)\n",
    "        plt.title(f'{selected_index} Map')\n",
    "        plt.xlabel('Column')\n",
    "        plt.ylabel('Row')\n",
    "        st.pyplot(fig)\n",
    "    except Exception as e:\n",
    "        st.error(f'Error calculating index: {str(e)}')"
   ]
  },
  {
   "cell_type": "markdown",
   "metadata": {},
   "source": [
    "## Step 4: Create Interactive Map with Folium\n",
    "\n",
    "Display the index and vector data on an interactive Folium map."
   ]
  },
  {
   "cell_type": "code",
   "execution_count": null,
   "metadata": {},
   "outputs": [],
   "source": [
    "if raster_file and vector_file and 'index_data' in locals():\n",
    "    try:\n",
    "        # Save index as temporary GeoTIFF for mapping\n",
    "        temp_index_path = 'temp_index.tif'\n",
    "        index_profile = raster_profile.copy()\n",
    "        index_profile.update({'count': 1, 'dtype': 'float32'})\n",
    "        with rasterio.open(temp_index_path, 'w', **index_profile) as dst:\n",
    "            dst.write(index_data, 1)\n",
    "\n",
    "        # Convert bounds to WGS84\n",
    "        bounds_latlon = transform_bounds(raster_crs, 'EPSG:4326', *raster_profile['bounds'])\n",
    "        center_lat = (bounds_latlon[1] + bounds_latlon[3]) / 2\n",
    "        center_lon = (bounds_latlon[0] + bounds_latlon[2]) / 2\n",
    "\n",
    "        # Create Folium map\n",
    "        m = folium.Map(location=[center_lat, center_lon], zoom_start=10, tiles='OpenStreetMap')\n",
    "\n",
    "        # Add index layer\n",
    "        folium.raster_layers.ImageOverlay(\n",
    "            image=index_data,\n",
    "            bounds=[[bounds_latlon[1], bounds_latlon[0]], [bounds_latlon[3], bounds_latlon[2]]],\n",
    "            colormap=lambda x: (0, 1, 0, 0.5) if x > 0 else (1, 0, 0, 0.5),\n",
    "            opacity=0.6\n",
    "        ).add_to(m)\n",
    "\n",
    "        # Add vector layer\n",
    "        temp_geojson = 'temp_vector.geojson'\n",
    "        vector_gdf.to_crs('EPSG:4326').to_file(temp_geojson)\n",
    "        folium.GeoJson(temp_geojson, style_function=lambda x: {'color': 'red', 'weight': 2}).add_to(m)\n",
    "\n",
    "        # Add map controls\n",
    "        plugins.Fullscreen().add_to(m)\n",
    "        folium.LayerControl().add_to(m)\n",
    "\n",
    "        # Display map\n",
    "        st.write('Interactive Map:')\n",
    "        st_folium(m, width=700, height=500)\n",
    "\n",
    "        # Clean up temporary files\n",
    "        os.remove(temp_index_path)\n",
    "        os.remove(temp_geojson)\n",
    "    except Exception as e:\n",
    "        st.error(f'Error creating map: {str(e)}')"
   ]
  },
  {
   "cell_type": "markdown",
   "metadata": {},
   "source": [
    "## Step 5: Save Results\n",
    "\n",
    "Allow users to download the calculated index as a GeoTIFF."
   ]
  },
  {
   "cell_type": "code",
   "execution_count": null,
   "metadata": {},
   "outputs": [],
   "source": [
    "if 'index_data' in locals():\n",
    "    try:\n",
    "        # Save index to temporary file for download\n",
    "        output_index_path = f'{selected_index.lower()}_output.tif'\n",
    "        with rasterio.open(output_index_path, 'w', **index_profile) as dst:\n",
    "            dst.write(index_data, 1)\n",
    "\n",
    "        # Provide download button\n",
    "        with open(output_index_path, 'rb') as f:\n",
    "            st.download_button(\n",
    "                label=f'Download {selected_index} GeoTIFF',\n",
    "                data=f,\n",
    "                file_name=output_index_path,\n",
    "                mime='image/tiff'\n",
    "            )\n",
    "        os.remove(output_index_path)\n",
    "    except Exception as e:\n",
    "        st.error(f'Error saving index: {str(e)}')"
   ]
  },
  {
   "cell_type": "markdown",
   "metadata": {},
   "source": [
    "## Notes for Running as Streamlit App\n",
    "\n",
    "To run this as a Streamlit app:\n",
    "1. Save this notebook as `33_dashboard_streamlit.py`.\n",
    "2. Run in terminal: `streamlit run 33_dashboard_streamlit.py`.\n",
    "3. Open the provided URL in your browser to interact with the dashboard.\n",
    "\n",
    "## Next Steps\n",
    "\n",
    "- Test with your own Sentinel-2 GeoTIFF and GeoJSON/shapefile (e.g., from `21_download_data.ipynb` or `24_advanced_preprocessing.ipynb`).\n",
    "- Extend the dashboard by adding more indices (e.g., SAVI, EVI) or analysis options (e.g., classification from `12_classification_rf_svm.ipynb`).\n",
    "- Integrate cloud detection (e.g., from `28_cloud_detection_deep_learning.ipynb`) as a preprocessing step.\n",
    "- Explore advanced visualizations with `23_kepler_gl_demo.ipynb` or time series animations with `26_time_series_animation.ipynb`.\n",
    "\n",
    "## Notes\n",
    "- Ensure the GeoTIFF contains at least bands B02, B03, B04, and B08 for Sentinel-2.\n",
    "- Adjust `band_map` if your GeoTIFF has a different band order.\n",
    "- Streamlit requires a stable internet connection for Folium maps to render correctly.\n",
    "- See `docs/installation.md` for troubleshooting library installation."
   ]
  }
 ],
 "metadata": {
  "kernelspec": {
   "display_name": "Python 3",
   "language": "python",
   "name": "python3"
  },
  "language_info": {
   "codemirror_mode": {
    "name": "ipython",
    "version": 3
   },
   "file_extension": ".py",
   "mimetype": "text/x-python",
   "name": "python",
   "nbconvert_exporter": "python",
   "pygments_lexer": "ipython3",
   "version": "3.8"
  }
 },
 "nbformat": 4,
 "nbformat_minor": 4
}