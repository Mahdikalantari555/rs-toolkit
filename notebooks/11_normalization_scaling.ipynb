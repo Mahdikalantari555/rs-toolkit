{
 "cells": [
  {
   "cell_type": "markdown",
   "metadata": {},
   "source": [
    "# Normalization and Scaling of Raster Data\n",
    "\n",
    "This notebook demonstrates how to normalize and scale raster data using `rasterio` and `numpy` in Python. Normalization and scaling are essential preprocessing steps in remote sensing to prepare data for machine learning or visualization by adjusting pixel values to a standard range.\n",
    "\n",
    "## Prerequisites\n",
    "- Install required libraries: `rasterio`, `numpy`, `matplotlib` (listed in `requirements.txt`).\n",
    "- A sample GeoTIFF file (e.g., `sample.tif`). Replace the file path with your own raster file.\n",
    "\n",
    "## Learning Objectives\n",
    "- Apply min-max normalization to scale raster data to [0, 1].\n",
    "- Standardize raster data using z-score scaling.\n",
    "- Visualize and save the normalized/scaled raster."
   ]
  },
  {
   "cell_type": "code",
   "execution_count": null,
   "metadata": {},
   "outputs": [],
   "source": [
    "# Import required libraries\n",
    "import rasterio\n",
    "import numpy as np\n",
    "import matplotlib.pyplot as plt"
   ]
  },
  {
   "cell_type": "markdown",
   "metadata": {},
   "source": [
    "## Step 1: Load the Raster File\n",
    "\n",
    "Load the raster file and handle no-data values."
   ]
  },
  {
   "cell_type": "code",
   "execution_count": null,
   "metadata": {},
   "outputs": [],
   "source": [
    "# Define the path to the raster file\n",
    "raster_path = 'sample.tif'\n",
    "\n",
    "# Open the raster file\n",
    "with rasterio.open(raster_path) as src:\n",
    "    raster_data = src.read(masked=True)  # Read with mask for no-data\n",
    "    profile = src.profile\n",
    "\n",
    "# Print basic information\n",
    "print(f'Raster shape: {raster_data.shape}')\n",
    "print(f'Number of bands: {raster_data.shape[0]}')"
   ]
  },
  {
   "cell_type": "markdown",
   "metadata": {},
   "source": [
    "## Step 2: Min-Max Normalization\n",
    "\n",
    "Normalize each band to the range [0, 1] using min-max scaling: `(x - min) / (max - min)`."
   ]
  },
  {
   "cell_type": "code",
   "execution_count": null,
   "metadata": {},
   "outputs": [],
   "source": [
    "# Initialize array for normalized data\n",
    "normalized_data = np.zeros_like(raster_data, dtype=np.float32)\n",
    "\n",
    "# Normalize each band\n",
    "for band in range(raster_data.shape[0]):\n",
    "    band_data = raster_data[band]\n",
    "    band_min = np.min(band_data)\n",
    "    band_max = np.max(band_data)\n",
    "    normalized_data[band] = (band_data - band_min) / (band_max - band_min + 1e-10)  # Avoid division by zero\n",
    "\n",
    "# Visualize first normalized band\n",
    "plt.figure(figsize=(8, 8))\n",
    "plt.imshow(normalized_data[0], cmap='gray', vmin=0, vmax=1)\n",
    "plt.colorbar(label='Normalized Value')\n",
    "plt.title('Min-Max Normalized First Band')\n",
    "plt.xlabel('Column')\n",
    "plt.ylabel('Row')\n",
    "plt.show()"
   ]
  },
  {
   "cell_type": "markdown",
   "metadata": {},
   "source": [
    "## Step 3: Z-Score Standardization\n",
    "\n",
    "Standardize each band using z-score scaling: `(x - mean) / std`."
   ]
  },
  {
   "cell_type": "code",
   "execution_count": null,
   "metadata": {},
   "outputs": [],
   "source": [
    "# Initialize array for standardized data\n",
    "standardized_data = np.zeros_like(raster_data, dtype=np.float32)\n",
    "\n",
    "# Standardize each band\n",
    "for band in range(raster_data.shape[0]):\n",
    "    band_data = raster_data[band]\n",
    "    band_mean = np.mean(band_data)\n",
    "    band_std = np.std(band_data)\n",
    "    standardized_data[band] = (band_data - band_mean) / (band_std + 1e-10)  # Avoid division by zero\n",
    "\n",
    "# Visualize first standardized band\n",
    "plt.figure(figsize=(8, 8))\n",
    "plt.imshow(standardized_data[0], cmap='viridis')\n",
    "plt.colorbar(label='Z-Score')\n",
    "plt.title('Z-Score Standardized First Band')\n",
    "plt.xlabel('Column')\n",
    "plt.ylabel('Row')\n",
    "plt.show()"
   ]
  },
  {
   "cell_type": "markdown",
   "metadata": {},
   "source": [
    "## Step 4: Save Normalized and Standardized Rasters\n",
    "\n",
    "Save the normalized and standardized rasters to new GeoTIFF files."
   ]
  },
  {
   "cell_type": "code",
   "execution_count": null,
   "metadata": {},
   "outputs": [],
   "source": [
    "# Update profile for float32 output\n",
    "output_profile = profile.copy()\n",
    "output_profile.update(dtype=rasterio.float32)\n",
    "\n",
    "# Save normalized raster\n",
    "with rasterio.open('normalized_raster.tif', 'w', **output_profile) as dst:\n",
    "    dst.write(normalized_data.astype(rasterio.float32))\n",
    "\n",
    "# Save standardized raster\n",
    "with rasterio.open('standardized_raster.tif', 'w', **output_profile) as dst:\n",
    "    dst.write(standardized_data.astype(rasterio.float32))\n",
    "\n",
    "print('Normalized raster saved to: normalized_raster.tif')\n",
    "print('Standardized raster saved to: standardized_raster.tif')"
   ]
  },
  {
   "cell_type": "markdown",
   "metadata": {},
   "source": [
    "## Next Steps\n",
    "\n",
    "- Replace `sample.tif` with your own raster file.\n",
    "- Experiment with different scaling ranges (e.g., [0, 255] for visualization).\n",
    "- Apply normalization to specific bands or derived indices (e.g., NDVI).\n",
    "- Proceed to the next notebook (`12_classification_rf_svm.ipynb`) for machine learning classification.\n",
    "\n",
    "## Notes\n",
    "- Use `masked=True` to handle no-data values during calculations.\n",
    "- Min-max normalization is suitable for visualization, while z-score is better for ML.\n",
    "- See `docs/installation.md` for troubleshooting library installation."
   ]
  }
 ],
 "metadata": {
  "kernelspec": {
   "display_name": "Python 3",
   "language": "python",
   "name": "python3"
  },
  "language_info": {
   "codemirror_mode": {
    "name": "ipython",
    "version": 3
   },
   "file_extension": ".py",
   "mimetype": "text/x-python",
   "name": "python",
   "nbconvert_exporter": "python",
   "pygments_lexer": "ipython3",
   "version": "3.8"
  }
 },
 "nbformat": 4,
 "nbformat_minor": 4
}